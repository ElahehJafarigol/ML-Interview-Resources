{
  "nbformat": 4,
  "nbformat_minor": 0,
  "metadata": {
    "colab": {
      "provenance": [],
      "collapsed_sections": [
        "QwOk3ipzTjts",
        "cUxNJRsHT0Sb",
        "fssLGVjD8Oew",
        "8fMfXf_uwFxL",
        "5i0K45GEwQvZ",
        "GEzK17yEwYVI",
        "gRiGLyEOw2rr",
        "huSJ_zbhxRex"
      ],
      "toc_visible": true
    },
    "kernelspec": {
      "name": "python3",
      "display_name": "Python 3"
    },
    "language_info": {
      "name": "python"
    }
  },
  "cells": [
    {
      "cell_type": "markdown",
      "source": [
        "### Pythos Basics\n"
      ],
      "metadata": {
        "id": "QwOk3ipzTjts"
      }
    },
    {
      "cell_type": "markdown",
      "source": [
        "[Python Basic Exercise for Beginners](https://pynative.com/python-basic-exercise-for-beginners/)"
      ],
      "metadata": {
        "id": "xG-w3m1jQrZV"
      }
    },
    {
      "cell_type": "code",
      "source": [
        "# Import libraries\n",
        "import numpy as np"
      ],
      "metadata": {
        "id": "yw3uUo7tRWWv"
      },
      "execution_count": null,
      "outputs": []
    },
    {
      "cell_type": "markdown",
      "source": [
        "Exercise 1: Calculate the multiplication and sum of two numbers\n",
        "\n",
        "Given two integer numbers, return their product only if the product is equal to or lower than 1000. Otherwise, return their sum."
      ],
      "metadata": {
        "id": "fo2uW5ISQ5IA"
      }
    },
    {
      "cell_type": "code",
      "execution_count": null,
      "metadata": {
        "id": "Ipnbub6mQiNm"
      },
      "outputs": [],
      "source": [
        "def function(num1, num2):\n",
        "    product = np.dot(num1, num2)\n",
        "    if product <= 1000:\n",
        "        res = product\n",
        "    else:\n",
        "        res = num1 + num2\n",
        "    return print(f\"The result is: {res}\")\n",
        "\n",
        "function(20, 30)\n",
        "function(40, 30)\n",
        "function(150, 1000)"
      ]
    },
    {
      "cell_type": "markdown",
      "source": [
        "Exercise 2: Print the sum of the current number and the previous number\n",
        "\n",
        "Write a program to iterate the first 10 numbers, and in each iteration, print the sum of the current and previous number."
      ],
      "metadata": {
        "id": "690AeiFLU97r"
      }
    },
    {
      "cell_type": "code",
      "source": [
        "def function(nums: list):\n",
        "    if len(nums) < 10:\n",
        "        print(\"The list is too short\")\n",
        "        return\n",
        "\n",
        "    print(\"Printing current and previous number and their sum in a range(10)\")\n",
        "    for i in range(10):\n",
        "        curr_sum = 0\n",
        "        if i == 0:\n",
        "            curr_sum += nums[i]\n",
        "            print(f\"Current number {nums[i]} Previous number {0} Sum {curr_sum}\")\n",
        "\n",
        "\n",
        "        else:\n",
        "            curr_sum += nums[i]\n",
        "            print(f\"Current number {nums[i]} Previous numebr {nums[i - 1]} Sum {curr_sum}\")\n",
        "\n",
        "    return\n",
        "function([1, 2,3 ])\n",
        "function([0, 1, 2, 3, 4, 5, 6, 7, 8, 9])\n",
        "function([])\n",
        "function([0, 1, 2, 3, 4, 5, 6, 7, 8, 9, 10, 11, 12, 13, 14, 15])"
      ],
      "metadata": {
        "id": "F-q4IpWiUjIW"
      },
      "execution_count": null,
      "outputs": []
    },
    {
      "cell_type": "markdown",
      "source": [
        "Exercise 3: Print characters from a string that are present at an even index number\n",
        "\n",
        "Write a program to accept a string from the user and display characters that are present at an even index number.\n",
        "\n",
        "For example, str = \"pynative\" so you should display ‘p’, ‘n’, ‘t’, ‘v’."
      ],
      "metadata": {
        "id": "N7QCA_kVY7Ly"
      }
    },
    {
      "cell_type": "code",
      "source": [
        "def function(string):\n",
        "    for i in range(len(string)):\n",
        "        if i % 2 == 0:\n",
        "            print(string[i])\n",
        "    return\n",
        "\n",
        "function(\"pynative\")\n"
      ],
      "metadata": {
        "id": "AweR_UBiZa3o"
      },
      "execution_count": null,
      "outputs": []
    },
    {
      "cell_type": "markdown",
      "source": [
        "Exercise 4: Remove first n characters from a string\n",
        "\n",
        "Write a program to remove characters from a string starting from zero up to n and return a new string.\n",
        "\n",
        "For example:\n",
        "\n",
        "`remove_chars(\"pynative\", 4)` so output must be tive. Here, we need to remove the first four characters from a string.\n",
        "\n",
        "`remove_chars(\"pynative\", 2)` so output must be native. Here, we need to remove the first two characters from a string.\n",
        "\n",
        "Note: n must be less than the length of the string.\n",
        "\n",
        "\n"
      ],
      "metadata": {
        "id": "txFNF8_OsWWK"
      }
    },
    {
      "cell_type": "code",
      "source": [
        "def function(string, n):\n",
        "    ans = \"\"\n",
        "    for i in range(n, len(string)):\n",
        "        ans += string[i]\n",
        "    return print(ans)\n",
        "\n",
        "\n",
        "function(\"pynative\", 4)\n",
        "function(\"pynative\", 2)"
      ],
      "metadata": {
        "id": "QDcC1DWqse1Z"
      },
      "execution_count": null,
      "outputs": []
    },
    {
      "cell_type": "markdown",
      "source": [
        "Exercise 5: Check if the first and last number of a list is the same\n",
        "\n",
        "\n",
        "Write a function to return True if the first and last number of a given list is same. If numbers are different then return False."
      ],
      "metadata": {
        "id": "Ocou5XJmuOqM"
      }
    },
    {
      "cell_type": "code",
      "source": [
        "def function(nums):\n",
        "    return nums[0] == nums[len(nums) - 1]\n",
        "\n",
        "print(function([10, 20, 30, 40, 10]))\n",
        "\n",
        "nums_y = [75, 65, 35, 75, 30]\n",
        "print(function([75, 65, 35, 75, 30]))"
      ],
      "metadata": {
        "id": "WrI5YiufuJvt"
      },
      "execution_count": null,
      "outputs": []
    },
    {
      "cell_type": "markdown",
      "source": [
        "Exercise 6: Display numbers divisible by 5 from a list\n",
        "\n",
        "Iterate the given list of numbers and print only those numbers which are divisible by 5"
      ],
      "metadata": {
        "id": "4GJqM8SrvqfQ"
      }
    },
    {
      "cell_type": "code",
      "source": [
        "# n = 5\n",
        "def function(nums: list, n):\n",
        "    if len(nums) == 0:\n",
        "        print(\"The list is empty.\")\n",
        "    for i in range(len(nums)):\n",
        "        if nums[i] % n == 0:\n",
        "            print(nums[i])\n",
        "    return\n",
        "\n",
        "function([10, 20, 33, 46, 55], 5)\n",
        "function([10, 20, 33, 46, 55], 3)\n",
        "function([], 5)"
      ],
      "metadata": {
        "id": "hpwQrMNn3-d-"
      },
      "execution_count": null,
      "outputs": []
    },
    {
      "cell_type": "markdown",
      "source": [
        "***Exercise 7: Return the count of a given substring from a string***\n",
        "\n",
        "Write a program to find how many times substring “Emma” appears in the given string."
      ],
      "metadata": {
        "id": "uNoA5rHE5EgY"
      }
    },
    {
      "cell_type": "code",
      "source": [
        "# Wrong answer\n",
        "def function(string, sub):\n",
        "    count = 0\n",
        "    curr_word = \"\"\n",
        "    for i in range(len(string)):\n",
        "        while i != \" \":\n",
        "            curr_word += string[i]\n",
        "\n",
        "            if len(curr_word) == len(sub):\n",
        "                for j in range(len(curr_word)):\n",
        "                    if curr_word[j] != sub[j]:\n",
        "                        curr_word = \"\"\n",
        "                    else:\n",
        "                        count += 1\n",
        "                        curr_word = \"\"\n",
        "\n",
        "            else:\n",
        "                curr_word = \"\"\n",
        "\n",
        "    return count\n",
        "\n",
        "# function(\"Emma is good developer. Emma is a writer\", \"Emma\")"
      ],
      "metadata": {
        "id": "uH6BPPK5-kMl"
      },
      "execution_count": null,
      "outputs": []
    },
    {
      "cell_type": "markdown",
      "source": [
        "Exercise 8: Print the following pattern\n",
        "\n",
        "1\n",
        "\n",
        "2 2\n",
        "\n",
        "3 3 3\n",
        "\n",
        "4 4 4 4\n",
        "\n",
        "5 5 5 5 5"
      ],
      "metadata": {
        "id": "ZttfnEJt-RCU"
      }
    },
    {
      "cell_type": "code",
      "source": [
        "# Follow up: Do I return for the given number or all the numbers prior to the given number as well?\n",
        "\n",
        "def function(num):\n",
        "    for n in range(num + 1):\n",
        "        ans = \"\"\n",
        "        for i in range(n):\n",
        "            ans += str(n)\n",
        "        print (\" \".join(ans))\n",
        "\n",
        "function(5)"
      ],
      "metadata": {
        "id": "vP_x03Pn-Qdn"
      },
      "execution_count": null,
      "outputs": []
    },
    {
      "cell_type": "markdown",
      "source": [
        "Exercise 9: Check Palindrome Number\n",
        "\n",
        "Write a program to check if the given number is a palindrome number.\n",
        "\n",
        "A palindrome number is a number that is the same after reverse. For example, 545, is the palindrome numbers"
      ],
      "metadata": {
        "id": "ozPIJRD3oSOg"
      }
    },
    {
      "cell_type": "code",
      "source": [
        "def function(num):\n",
        "    num_str = str(num)\n",
        "    left = 0\n",
        "    right = len(num_str)-1\n",
        "\n",
        "    while left <= right:\n",
        "        if num_str[left] != num_str[right]:\n",
        "            print(f\"Original number{num}\")\n",
        "            print(f\"No, given number is not palindrome number\")\n",
        "            return\n",
        "        left += 1\n",
        "        right -= 1\n",
        "    print(f\"Original number{num}\")\n",
        "    print(f\"Yes, given number is palindrome number\")\n",
        "    return\n",
        "\n",
        "function(1234)\n",
        "function(23432)\n",
        "function(1)\n",
        "function(234515432)"
      ],
      "metadata": {
        "id": "H_W3SrLNoR_R"
      },
      "execution_count": null,
      "outputs": []
    },
    {
      "cell_type": "code",
      "source": [
        "# Other solution:\n",
        "# Reverse the given number and save it in a different variable\n",
        "# Use the if condition to check if the original and reverse numbers are identical. If yes, return True.\n",
        "def palindrome(number):\n",
        "    print(\"original number\", number)\n",
        "    original_num = number\n",
        "\n",
        "    # reverse the given number\n",
        "    reverse_num = 0\n",
        "    while number > 0:\n",
        "        reminder = number % 10\n",
        "        reverse_num = (reverse_num * 10) + reminder\n",
        "        number = number // 10\n",
        "\n",
        "    # check numbers\n",
        "    if original_num == reverse_num:\n",
        "        print(\"Given number palindrome\")\n",
        "    else:\n",
        "        print(\"Given number is not palindrome\")\n",
        "\n",
        "palindrome(121)\n",
        "palindrome(125)\n"
      ],
      "metadata": {
        "id": "QJpZ2K2eq3H0"
      },
      "execution_count": null,
      "outputs": []
    },
    {
      "cell_type": "markdown",
      "source": [
        "Exercise 10: Create a new list from two list using the following condition\n",
        "\n",
        "Given two list of numbers, write a program to create a new list such that the new list should contain odd numbers from the first list and even numbers from the second list.\n"
      ],
      "metadata": {
        "id": "WChdD4hirWzP"
      }
    },
    {
      "cell_type": "code",
      "source": [
        "def function(list1, list2):\n",
        "    result = []\n",
        "\n",
        "    # Odd numbers from list 1\n",
        "    for i in range(len(list1)):\n",
        "        if list1[i] % 2 != 0:\n",
        "            result.append(list1[i])\n",
        "    for i in range(len(list2)):\n",
        "        if list2[i] % 2 == 0:\n",
        "            result.append(list2[i])\n",
        "    return result\n",
        "\n",
        "list1 = [10, 20, 25, 30, 35]\n",
        "list2 = [40, 50, 60, 75, 90]\n",
        "print(f\"Result list:{function(list1, list2)}\")\n",
        "\n",
        "\n",
        "list1 = [11, 12, 12, 34, 95]\n",
        "list2 = []\n",
        "print(f\"Result list:{function(list1, list2)}\")\n",
        "\n",
        "list1 = []\n",
        "list2 = [40, 50, 60, 75, 90]\n",
        "print(f\"Result list:{function(list1, list2)}\")\n",
        "\n",
        "# Follow up: Is the output list sorted?\n"
      ],
      "metadata": {
        "id": "QRmp4kt7rWRa"
      },
      "execution_count": null,
      "outputs": []
    },
    {
      "cell_type": "markdown",
      "source": [
        "Exercise 11: Write a Program to extract each digit from an integer in the reverse order.\n",
        "\n",
        "For example, If the given int is 7536, the output shall be “6 3 5 7“, with a space separating the digits."
      ],
      "metadata": {
        "id": "NXlsgrXCtWlW"
      }
    },
    {
      "cell_type": "code",
      "source": [
        "def function(num):\n",
        "    num_str = str(num)\n",
        "    output = \"\"\n",
        "    for i in num_str:\n",
        "        output = output + i + \" \"\n",
        "\n",
        "    return output\n",
        "\n",
        "print(f\"The output is {function(1234)}\")"
      ],
      "metadata": {
        "id": "SCF6sXtltbhM"
      },
      "execution_count": null,
      "outputs": []
    },
    {
      "cell_type": "markdown",
      "source": [
        "Exercise 12: Calculate income tax for the given income by adhering to the rules below\n",
        "\n",
        "Taxable Income\tRate\n",
        "\n",
        "First $10,000\t0\n",
        "\n",
        "Next $10,000\t10\n",
        "\n",
        "The remaining\t20\n"
      ],
      "metadata": {
        "id": "AbVII4twCtzF"
      }
    },
    {
      "cell_type": "code",
      "source": [
        "def function(income):\n",
        "    tax = 0\n",
        "    if income <= 10000:\n",
        "        tax = 0\n",
        "    elif 10000 < income <= 20000:\n",
        "        tax = (income - 10000) * 0.1\n",
        "    else:\n",
        "        tax = (10000*0.1) + ((income - 20000) * 0.2)\n",
        "    return tax\n",
        "\n",
        "print(\"The owed tax is:\", function(480000))"
      ],
      "metadata": {
        "id": "KedWgfW8C-s0"
      },
      "execution_count": null,
      "outputs": []
    },
    {
      "cell_type": "markdown",
      "source": [
        "Exercise 13: Print multiplication table from 1 to 10"
      ],
      "metadata": {
        "id": "dDwrQV0rE_3u"
      }
    },
    {
      "cell_type": "code",
      "source": [
        "def function(num):\n",
        "    for n in range(1, num + 1):\n",
        "        output = \"\"\n",
        "        for i in range(1, 11):\n",
        "            output += str(n*i) + \" \"\n",
        "        print(output)\n",
        "\n",
        "function(10)"
      ],
      "metadata": {
        "id": "URrrq7ADE_iL"
      },
      "execution_count": null,
      "outputs": []
    },
    {
      "cell_type": "markdown",
      "source": [
        "Exercise 14: Print a downward Half-Pyramid Pattern of Star (asterisk)"
      ],
      "metadata": {
        "id": "5NYqjg5kNSjn"
      }
    },
    {
      "cell_type": "code",
      "source": [
        "def function(length):\n",
        "    output = \"\"\n",
        "    for i in range(length, 0, -1):\n",
        "        output = i*(\"*\" + \" \")\n",
        "        print(output)\n",
        "\n",
        "\n",
        "function(1)\n",
        "print(\"=============\")\n",
        "function(2)\n",
        "print(\"=============\")\n",
        "function(0)\n",
        "print(\"=============\")\n",
        "function(7)"
      ],
      "metadata": {
        "id": "aZ_x9GDnNSDl"
      },
      "execution_count": null,
      "outputs": []
    },
    {
      "cell_type": "markdown",
      "source": [
        "Exercise 15: Write a function called exponent(base, exp) that returns an int value of base raises to the power of exp.\n",
        "\n",
        "Note here exp is a non-negative integer, and the base is an integer."
      ],
      "metadata": {
        "id": "1A2Zo84RPy8W"
      }
    },
    {
      "cell_type": "code",
      "source": [
        "def function(base, exp):\n",
        "    if exp < 0:\n",
        "        return \"The exp should be non-negative\"\n",
        "\n",
        "    elif exp == 0:\n",
        "        print(f\"{base} to the power of {exp}: 1\")\n",
        "\n",
        "    else:\n",
        "        output = 1\n",
        "        for i in range(exp):\n",
        "            output *= base\n",
        "        print(f\"{base} to the power of {exp}: {output}\")\n",
        "\n",
        "function(2, 5)\n",
        "function(5, 4)\n",
        "function(8, 2)"
      ],
      "metadata": {
        "id": "WkRFnAMIPyw_"
      },
      "execution_count": null,
      "outputs": []
    },
    {
      "cell_type": "markdown",
      "source": [
        "### Python Functions"
      ],
      "metadata": {
        "id": "cUxNJRsHT0Sb"
      }
    },
    {
      "cell_type": "markdown",
      "source": [
        "[Python Functions Exercise](https://pynative.com/python-functions-exercise-with-solutions/)\n"
      ],
      "metadata": {
        "id": "t3BuiCV3TR5J"
      }
    },
    {
      "cell_type": "markdown",
      "source": [
        "Exercise 1: Create a function in Python\n",
        "\n",
        "Write a program to create a function that takes two arguments, name and age, and print their value."
      ],
      "metadata": {
        "id": "08hySP3eUKC1"
      }
    },
    {
      "cell_type": "code",
      "source": [
        "def function(name, age):\n",
        "    print(f\"Name: {name}, age: {age}\")\n",
        "\n",
        "function(\"Elaheh\", 34)"
      ],
      "metadata": {
        "colab": {
          "base_uri": "https://localhost:8080/"
        },
        "id": "TXJgAkXIYgWX",
        "outputId": "10ef9662-b865-4520-bc9e-e72b30cd7205"
      },
      "execution_count": null,
      "outputs": [
        {
          "output_type": "stream",
          "name": "stdout",
          "text": [
            "Name: Elaheh, age: 34\n"
          ]
        }
      ]
    },
    {
      "cell_type": "markdown",
      "source": [
        "Exercise 2: Create a function with variable length of arguments\n",
        "\n",
        "Write a program to create function func1() to accept a variable length of arguments and print their value.\n",
        "\n",
        "Note: Create a function in such a way that we can pass any number of arguments to this function, and the function should process them and display each argument’s value."
      ],
      "metadata": {
        "id": "DPDwxgs2ZGew"
      }
    },
    {
      "cell_type": "code",
      "source": [
        " def function(*args):\n",
        "    print(\"Printing values\")\n",
        "    for x in args:\n",
        "        print(x)\n",
        "    return\n",
        "\n",
        "function(20)\n",
        "function(3, 4, 5)"
      ],
      "metadata": {
        "colab": {
          "base_uri": "https://localhost:8080/"
        },
        "id": "w6HaNTfqZIB_",
        "outputId": "cc6b91dd-3537-40db-e200-5aeb88d395d6"
      },
      "execution_count": null,
      "outputs": [
        {
          "output_type": "stream",
          "name": "stdout",
          "text": [
            "Printing values\n",
            "20\n",
            "Printing values\n",
            "3\n",
            "4\n",
            "5\n"
          ]
        }
      ]
    },
    {
      "cell_type": "markdown",
      "source": [
        "Exercise 3: Return multiple values from a function\n",
        "\n",
        "Write a program to create function calculation() such that it can accept two variables and calculate addition and subtraction. Also, it must return both addition and subtraction in a single return call."
      ],
      "metadata": {
        "id": "ZI8aW6FRq9HO"
      }
    },
    {
      "cell_type": "code",
      "source": [
        "def function(num1, num2):\n",
        "    addition = num1 + num2\n",
        "    subtraction = np.absolute(num1 - num2)\n",
        "\n",
        "    print(addition, \",\", subtraction)\n",
        "\n",
        "function(40, 50)"
      ],
      "metadata": {
        "colab": {
          "base_uri": "https://localhost:8080/"
        },
        "id": "OB3FOft-sWF3",
        "outputId": "a42d979e-8c5e-4a30-a63c-55363bf85f88"
      },
      "execution_count": null,
      "outputs": [
        {
          "output_type": "stream",
          "name": "stdout",
          "text": [
            "90 , 10\n"
          ]
        }
      ]
    },
    {
      "cell_type": "markdown",
      "source": [
        "Exercise 4: Create a function with a default argument\n",
        "\n",
        "Write a program to create a function show_employee() using the following conditions.\n",
        "\n",
        "It should accept the employee’s name and salary and display both.\n",
        "If the salary is missing in the function call then assign default value 9000 to salary"
      ],
      "metadata": {
        "id": "9al8m5yJu2Yo"
      }
    },
    {
      "cell_type": "code",
      "source": [
        "def function(name, salary = 9000):\n",
        "    print(f\"Name: {name}, salary: {salary}\")\n",
        "\n",
        "function(\"Ben\", 12000)\n",
        "function(\"Jess\")"
      ],
      "metadata": {
        "colab": {
          "base_uri": "https://localhost:8080/"
        },
        "id": "ZJ5hQIHAu1s7",
        "outputId": "037051db-7bbe-4cb2-e45a-10f134af5e22"
      },
      "execution_count": null,
      "outputs": [
        {
          "output_type": "stream",
          "name": "stdout",
          "text": [
            "Name: Ben, salary: 12000\n",
            "Name: Jess, salary: 9000\n"
          ]
        }
      ]
    },
    {
      "cell_type": "markdown",
      "source": [
        "Exercise 5: Create an inner function to calculate the addition in the following way"
      ],
      "metadata": {
        "id": "EwIF6BSqvYy7"
      }
    },
    {
      "cell_type": "code",
      "source": [
        "def outer_function(num1, num2):\n",
        "    def inner_function(num1, num2):\n",
        "        return num1 + num2\n",
        "    return inner_function(num1, num2) + 5\n",
        "\n",
        "print(f\"Final result is {outer_function(3, 4)}\")"
      ],
      "metadata": {
        "colab": {
          "base_uri": "https://localhost:8080/"
        },
        "id": "gBtE3HQOvZfv",
        "outputId": "92c06417-089e-467b-a524-ff398de992c3"
      },
      "execution_count": null,
      "outputs": [
        {
          "output_type": "stream",
          "name": "stdout",
          "text": [
            "Final result is 12\n"
          ]
        }
      ]
    },
    {
      "cell_type": "markdown",
      "source": [
        "**Exercise 6: Create a recursive function**\n",
        "\n",
        "Write a program to create a recursive function to calculate the sum of numbers from 0 to 10.\n",
        "\n",
        "A recursive function is a function that calls itself again and again.\n",
        "\n",
        "Expected Output:"
      ],
      "metadata": {
        "id": "H60jqiUzD7L6"
      }
    },
    {
      "cell_type": "code",
      "source": [
        "def rec_function(num):\n",
        "    if num == 0:\n",
        "        return 0\n",
        "    else:\n",
        "        return num + rec_function(num-1)\n",
        "\n",
        "print(rec_function(6))"
      ],
      "metadata": {
        "colab": {
          "base_uri": "https://localhost:8080/"
        },
        "id": "PUGJZzt9D9dI",
        "outputId": "611883a8-aeaf-4ba1-e417-051bc8e066d6"
      },
      "execution_count": null,
      "outputs": [
        {
          "output_type": "stream",
          "name": "stdout",
          "text": [
            "21\n"
          ]
        }
      ]
    },
    {
      "cell_type": "markdown",
      "source": [
        "Exercise 7: Assign a different name to function and call it through the new name"
      ],
      "metadata": {
        "id": "pp_mOTWfLYjj"
      }
    },
    {
      "cell_type": "code",
      "source": [
        "def display_student(name, age):\n",
        "    print(name, age)\n",
        "\n",
        "display_student(\"Emma\", 26)\n",
        "\n",
        "show_student = display_student\n",
        "show_student(\"Elaheh\", 34)"
      ],
      "metadata": {
        "colab": {
          "base_uri": "https://localhost:8080/"
        },
        "id": "jq0lXqN04MAS",
        "outputId": "2b16c629-b903-4a09-d7a1-eded4b02c6ef"
      },
      "execution_count": null,
      "outputs": [
        {
          "output_type": "stream",
          "name": "stdout",
          "text": [
            "Emma 26\n",
            "Elaheh 34\n"
          ]
        }
      ]
    },
    {
      "cell_type": "markdown",
      "source": [
        "Exercise 8: Generate a Python list of all the even numbers between 4 to 30"
      ],
      "metadata": {
        "id": "94RQRaxV4dFL"
      }
    },
    {
      "cell_type": "code",
      "source": [
        "# Follow up: Inclusinve of 30 or not?\n",
        "\n",
        "def function(start, end):\n",
        "    output = []\n",
        "    for i in range(start, end):\n",
        "        if i % 2 == 0:\n",
        "            output.append(i)\n",
        "    return output\n",
        "\n",
        "function(4, 30)"
      ],
      "metadata": {
        "colab": {
          "base_uri": "https://localhost:8080/"
        },
        "id": "b83ShKPC4geA",
        "outputId": "0d53a2ee-391e-41ab-cbaf-4aeec6987e9d"
      },
      "execution_count": null,
      "outputs": [
        {
          "output_type": "execute_result",
          "data": {
            "text/plain": [
              "[4, 6, 8, 10, 12, 14, 16, 18, 20, 22, 24, 26, 28, 30]"
            ]
          },
          "metadata": {},
          "execution_count": 6
        }
      ]
    },
    {
      "cell_type": "markdown",
      "source": [
        "Exercise 9: Find the largest item from a given list"
      ],
      "metadata": {
        "id": "4nxxxIOP66lh"
      }
    },
    {
      "cell_type": "code",
      "source": [
        "def function(nums):\n",
        "    return max(nums)\n",
        "\n",
        "x = [4, 6, 8, 24, 12, 2]\n",
        "function(x)"
      ],
      "metadata": {
        "colab": {
          "base_uri": "https://localhost:8080/"
        },
        "id": "VtPyBr4v6-pu",
        "outputId": "a9f4afe7-dff4-4d02-b2d1-7aac2c688702"
      },
      "execution_count": null,
      "outputs": [
        {
          "output_type": "execute_result",
          "data": {
            "text/plain": [
              "24"
            ]
          },
          "metadata": {},
          "execution_count": 8
        }
      ]
    },
    {
      "cell_type": "markdown",
      "source": [
        "### Python Data Structure"
      ],
      "metadata": {
        "id": "fssLGVjD8Oew"
      }
    },
    {
      "cell_type": "markdown",
      "source": [
        "\n",
        "[Python Data Structure Exercise for Beginners](https://pynative.com/python-data-structure-exercise-for-beginners/)"
      ],
      "metadata": {
        "id": "CsZBrLGU8ZvC"
      }
    },
    {
      "cell_type": "code",
      "source": [
        "# Follow up: what is the order of the output list?\n",
        "def function(nums1, nums2):\n",
        "    output_1 = []\n",
        "    output_2 = []\n",
        "    # Odd index from list 1\n",
        "    for i in range(len(nums1)):\n",
        "        if i % 2 != 0:\n",
        "            output_1.append(nums1[i])\n",
        "    print(\"Element at odd-index positions from list one\")\n",
        "    print(output_1)\n",
        "\n",
        "    # Even index from list 2\n",
        "    for i in range(len(nums2)):\n",
        "        if i % 2 == 0:\n",
        "            output_2.append(nums2[i])\n",
        "    print(\"Element at even-index positions from list two\")\n",
        "    print(output_2)\n",
        "\n",
        "    print(\"Printing the final third list\")\n",
        "    print(output_1 + output_2)\n",
        "\n",
        "l1 = [3, 6, 9, 12, 15, 18, 21]\n",
        "l2 = [4, 8, 12, 16, 20, 24, 28]\n",
        "function(l1, l2)"
      ],
      "metadata": {
        "colab": {
          "base_uri": "https://localhost:8080/"
        },
        "id": "Ynd_wxIl8ZOX",
        "outputId": "733b5b01-fb65-4b60-d1ef-47546e8b0b51"
      },
      "execution_count": null,
      "outputs": [
        {
          "output_type": "stream",
          "name": "stdout",
          "text": [
            "Element at odd-index positions from list one\n",
            "[6, 12, 18]\n",
            "Element at even-index positions from list two\n",
            "[4, 12, 20, 28]\n",
            "Printing the final third list\n",
            "[6, 12, 18, 4, 12, 20, 28]\n"
          ]
        }
      ]
    },
    {
      "cell_type": "markdown",
      "source": [
        "Exercise 2: Remove and add item in a list\n",
        "\n",
        "Write a program to remove the item present at index 4 and add it to the 2nd position and at the end of the list."
      ],
      "metadata": {
        "id": "TbTcGE4BaKpj"
      }
    },
    {
      "cell_type": "code",
      "source": [
        "def function(nums, idx, pos):\n",
        "    temp = nums.pop(idx)\n",
        "    print(f\"List After removing element at index {idx} {nums}\")\n",
        "\n",
        "    nums.insert(pos, temp)\n",
        "    print(f\"List After adding element at index {pos} {nums}\")\n",
        "\n",
        "    nums.append(temp)\n",
        "    print(\"List After adding element at last\", nums)\n",
        "\n",
        "l = [34, 54, 67, 89, 11, 43, 94]\n",
        "function(l, 4, 2)"
      ],
      "metadata": {
        "colab": {
          "base_uri": "https://localhost:8080/"
        },
        "id": "fM84ueWjaL-Z",
        "outputId": "d0aa94e3-fcee-4ce4-e474-54d3ed2d5379"
      },
      "execution_count": null,
      "outputs": [
        {
          "output_type": "stream",
          "name": "stdout",
          "text": [
            "List After removing element at index 4 [34, 54, 67, 89, 43, 94]\n",
            "List After adding element at index 2 [34, 54, 11, 67, 89, 43, 94]\n",
            "List After adding element at last [34, 54, 11, 67, 89, 43, 94, 11]\n"
          ]
        }
      ]
    },
    {
      "cell_type": "markdown",
      "source": [
        "*Exercise 3:* Slice list into 3 equal chunks and reverse each chunk"
      ],
      "metadata": {
        "id": "nVH7nc39Thei"
      }
    },
    {
      "cell_type": "code",
      "source": [
        "def function(nums_list, num):\n",
        "    length = len(nums_list)\n",
        "    chunk_size = int(length/num)\n",
        "    start = 0\n",
        "    end = chunk_size\n",
        "\n",
        "    for i in range(num):\n",
        "        indexes = slice(start, end)\n",
        "        chunk = nums_list[indexes]\n",
        "\n",
        "        print(f\"Chunk {i} {chunk}\")\n",
        "        reversed_chunk= chunk[::-1]\n",
        "        print(f\"After reversing it {reversed_chunk}\")\n",
        "\n",
        "        start = end\n",
        "        end += chunk_size\n",
        "\n",
        "sample_list = [11, 45, 8, 23, 14, 12, 78, 45, 89]\n",
        "function(sample_list, 3)"
      ],
      "metadata": {
        "colab": {
          "base_uri": "https://localhost:8080/"
        },
        "id": "IiJh86viTiBi",
        "outputId": "9cf8c68e-d3b9-4177-a6ea-1fa11c2df84e"
      },
      "execution_count": null,
      "outputs": [
        {
          "output_type": "stream",
          "name": "stdout",
          "text": [
            "Chunk 0 [11, 45, 8]\n",
            "After reversing it [8, 45, 11]\n",
            "Chunk 1 [23, 14, 12]\n",
            "After reversing it [12, 14, 23]\n",
            "Chunk 2 [78, 45, 89]\n",
            "After reversing it [89, 45, 78]\n"
          ]
        }
      ]
    },
    {
      "cell_type": "markdown",
      "source": [
        "Exercise 4: Count the occurrence of each element from a list\n",
        "\n",
        "Write a program to iterate a given list and count the occurrence of each element and create a dictionary to show the count of each element."
      ],
      "metadata": {
        "id": "7dCL6D0OZiUx"
      }
    },
    {
      "cell_type": "code",
      "source": [
        "def function(nums_list):\n",
        "    counts = {}\n",
        "    for i in nums_list:\n",
        "        if i in counts.keys():\n",
        "            counts[i] += 1\n",
        "        else:\n",
        "            counts[i] = 1\n",
        "    return counts\n",
        "\n",
        "sample = sample_list = [11, 45, 8, 11, 23, 45, 23, 45, 89]\n",
        "count_dict = function(sample)\n",
        "print(\"The output is:\", count_dict)"
      ],
      "metadata": {
        "id": "YPbWqdiRZlgT",
        "colab": {
          "base_uri": "https://localhost:8080/"
        },
        "outputId": "c9e1ef31-e294-4372-b0d8-dc73a24397db"
      },
      "execution_count": null,
      "outputs": [
        {
          "output_type": "stream",
          "name": "stdout",
          "text": [
            "The output is: {11: 2, 45: 3, 8: 1, 23: 2, 89: 1}\n"
          ]
        }
      ]
    },
    {
      "cell_type": "markdown",
      "source": [
        "Exercise 5: Create a Python set such that it shows the element from both lists in a pair"
      ],
      "metadata": {
        "id": "dT9pfuba9ckR"
      }
    },
    {
      "cell_type": "code",
      "source": [
        "first_list = [2, 3, 4, 5, 6, 7, 8]\n",
        "second_list = [4, 9, 16, 25, 36, 49, 64]\n",
        "\n",
        "def function(list_1, list_2):\n",
        "    output = [None]*len(first_list)\n",
        "    for i in range(len(list_1)):\n",
        "            output[i] = (list_1[i], list_2[i])\n",
        "    return set(output)\n",
        "\n",
        "print(\"The output of solution 1 is\", function(first_list, second_list))\n",
        "\n",
        "# Solution 2: Zip function:\n",
        "result = zip(first_list, second_list)\n",
        "result_set = set(result)\n",
        "print('The output of solution 2 is:', result_set)"
      ],
      "metadata": {
        "colab": {
          "base_uri": "https://localhost:8080/"
        },
        "id": "ZZi9IBvi9gD8",
        "outputId": "27289192-0a06-4f12-e0a4-86e0983c3ab1"
      },
      "execution_count": null,
      "outputs": [
        {
          "output_type": "stream",
          "name": "stdout",
          "text": [
            "The output of solution 1 is {(7, 49), (2, 4), (4, 16), (8, 64), (6, 36), (3, 9), (5, 25)}\n",
            "The output of solution 2 is: {(7, 49), (2, 4), (4, 16), (8, 64), (6, 36), (3, 9), (5, 25)}\n"
          ]
        }
      ]
    },
    {
      "cell_type": "markdown",
      "source": [
        "Exercise 6: Find the intersection (common) of two sets and remove those elements from the first set"
      ],
      "metadata": {
        "id": "lAYMtl_OCkFe"
      }
    },
    {
      "cell_type": "code",
      "source": [
        "first_set = {23, 42, 65, 57, 78, 83, 29}\n",
        "second_set = {57, 83, 29, 67, 73, 43, 48}\n",
        "\n",
        "print(\"First Set \", first_set)\n",
        "print(\"Second Set \", second_set)\n",
        "\n",
        "def function(set_1, set_2):\n",
        "    intersection = set()\n",
        "    update_set_1 = set()\n",
        "    for item in set_1:\n",
        "        if item in set_2:\n",
        "            intersection.add(item)\n",
        "        else:\n",
        "            update_set_1.add(item)\n",
        "    return update_set_1, intersection\n",
        "\n",
        "sample_1 , intersection_ = function(first_set, second_set)\n",
        "print('Intersection is', intersection_)\n",
        "print('First set after removing common element:', sample_1)\n",
        "\n",
        "# Solution 2\n",
        "intersection = first_set.intersection(second_set)\n",
        "print(\"Intersection is \", intersection)\n",
        "for item in intersection:\n",
        "    first_set.remove(item)\n",
        "\n",
        "print(\"First Set after removing common element \", first_set)"
      ],
      "metadata": {
        "colab": {
          "base_uri": "https://localhost:8080/"
        },
        "id": "asyrEQ7FCoir",
        "outputId": "b48d5631-bb97-4e59-f2ba-68a41a0b0928"
      },
      "execution_count": null,
      "outputs": [
        {
          "output_type": "stream",
          "name": "stdout",
          "text": [
            "First Set  {65, 83, 23, 57, 42, 29, 78}\n",
            "Second Set  {48, 67, 83, 73, 43, 29, 57}\n",
            "Intersection is {57, 83, 29}\n",
            "First set after removing common element: {65, 42, 78, 23}\n",
            "Intersection is  {57, 83, 29}\n",
            "First Set after removing common element  {65, 23, 42, 78}\n"
          ]
        }
      ]
    },
    {
      "cell_type": "markdown",
      "source": [
        "Exercise 7: Checks if one set is a subset or superset of another set. If found, delete all elements from that set"
      ],
      "metadata": {
        "id": "caqAMgBN9tIw"
      }
    },
    {
      "cell_type": "code",
      "source": [
        "first_set = {27, 43, 34}\n",
        "second_set = {34, 93, 22, 27, 43, 53, 48}\n",
        "\n",
        "def function(firts_set, second_set):\n",
        "    if first_set.issubset(second_set):\n",
        "        first_set.clear()\n",
        "        print(\"First set is subset of second set - True\")\n",
        "        print(\"Second set is subset of first set - False\")\n",
        "        print(\"First set is Super set of second set - False\")\n",
        "        print(\"Second set is Super set of First set - True\")\n",
        "    elif second_set.issubset(first_set):\n",
        "        second_set.clear()\n",
        "        print(\"First set is subset of second set - False\")\n",
        "        print(\"Second set is subset of first set - True\")\n",
        "        print(\"First set is Super set of second set - True\")\n",
        "        print(\"Second set is Super set of First set - False\")\n",
        "    else:\n",
        "        pass\n",
        "    print(f\"First Set: {first_set} \\nSecond Set: {second_set}\")\n",
        "\n",
        "function(first_set, second_set)\n",
        "\n",
        "\n",
        "# Solution 2\n",
        "first_set = {57, 83, 29}\n",
        "second_set = {57, 83, 29, 67, 73, 43, 48}\n",
        "\n",
        "print(\"First Set \", first_set)\n",
        "print(\"Second Set \", second_set)\n",
        "\n",
        "print(\"First set is subset of second set -\", first_set.issubset(second_set))\n",
        "print(\"Second set is subset of First set - \", second_set.issubset(first_set))\n",
        "\n",
        "print(\"First set is Super set of second set - \", first_set.issuperset(second_set))\n",
        "print(\"Second set is Super set of First set - \", second_set.issuperset(first_set))\n",
        "\n",
        "if first_set.issubset(second_set):\n",
        "    first_set.clear()\n",
        "\n",
        "if second_set.issubset(first_set):\n",
        "    second_set.clear()\n",
        "\n",
        "print(\"First Set \", first_set)\n",
        "print(\"Second Set \", second_set)"
      ],
      "metadata": {
        "id": "X4qo6paO9wJR",
        "colab": {
          "base_uri": "https://localhost:8080/"
        },
        "outputId": "b522be48-79e4-4c49-c87f-35da5f1f5740"
      },
      "execution_count": null,
      "outputs": [
        {
          "output_type": "stream",
          "name": "stdout",
          "text": [
            "First set is subset of second set - True\n",
            "Second set is subset of first set - False\n",
            "First set is Super set of second set - False\n",
            "Second set is Super set of First set - True\n",
            "First Set: set() \n",
            "Second Set: {48, 34, 53, 22, 27, 43, 93}\n",
            "First Set  {57, 83, 29}\n",
            "Second Set  {48, 67, 83, 73, 43, 29, 57}\n",
            "First set is subset of second set - True\n",
            "Second set is subset of First set -  False\n",
            "First set is Super set of second set -  False\n",
            "Second set is Super set of First set -  True\n",
            "First Set  set()\n",
            "Second Set  {48, 67, 83, 73, 43, 29, 57}\n"
          ]
        }
      ]
    },
    {
      "cell_type": "markdown",
      "source": [
        "Exercise 8: Iterate a given list and check if a given element exists as a key’s value in a dictionary. If not, delete it from the list"
      ],
      "metadata": {
        "id": "f_rmwipaesn2"
      }
    },
    {
      "cell_type": "code",
      "source": [
        "roll_number = [47, 64, 69, 37, 76, 83, 95, 97]\n",
        "sample_dict = {'John':47,\n",
        "               'Emma':69,\n",
        "               'Kelly':76,\n",
        "               'Jason':97}\n",
        "\n",
        "def function(sample_list, sample_dict):\n",
        "    final_list = []\n",
        "    for i in range(len(sample_list)):\n",
        "        if sample_list[i] in sample_dict.values():\n",
        "            final_list.append(sample_list[i])\n",
        "    print(f\"After removing unwanted elements from list {final_list}\")\n",
        "\n",
        "function(roll_number, sample_dict)\n",
        "\n",
        "# Solution 2: List comprehension\n",
        "roll_number = [47, 64, 69, 37, 76, 83, 95, 97]\n",
        "sample_dict = {'Jhon': 47, 'Emma': 69, 'Kelly': 76, 'Jason': 97}\n",
        "\n",
        "print(\"List:\", roll_number)\n",
        "print(\"Dictionary:\", sample_dict)\n",
        "\n",
        "# create new list\n",
        "roll_number[:] = [item for item in roll_number if item in sample_dict.values()]\n",
        "print(\"after removing unwanted elements from list:\", roll_number)"
      ],
      "metadata": {
        "colab": {
          "base_uri": "https://localhost:8080/"
        },
        "id": "iwvOWZPKesZm",
        "outputId": "9c711b31-9fc0-4c0c-9a11-546518b752d8"
      },
      "execution_count": null,
      "outputs": [
        {
          "output_type": "stream",
          "name": "stdout",
          "text": [
            "After removing unwanted elements from list [47, 69, 76, 97]\n",
            "List: [47, 64, 69, 37, 76, 83, 95, 97]\n",
            "Dictionary: {'Jhon': 47, 'Emma': 69, 'Kelly': 76, 'Jason': 97}\n",
            "after removing unwanted elements from list: [47, 69, 76, 97]\n"
          ]
        }
      ]
    },
    {
      "cell_type": "markdown",
      "source": [
        "The list comprehension `[item for item in roll_number if item in sample_dict.values()]` iterates over each item in the roll_number list.\n",
        "if `item` in `sample_dict.values()` checks if the current `item` exists in the values of sample_dict.\n",
        "\n",
        "Filtered List:\n",
        "Only the items in `roll_number` that are also values in `sample_dict` are included in the new list.\n",
        "\n",
        "Updating roll_number:\n",
        "`roll_number[:] = [...]` updates the original roll_number list in place with the filtered list.\n",
        "The slice notation `[:]` ensures that the original list is modified rather than creating a new list."
      ],
      "metadata": {
        "id": "oL3j8ou4nJhd"
      }
    },
    {
      "cell_type": "markdown",
      "source": [
        "Exercise 9: Get all values from the dictionary and add them to a list but don’t add duplicates"
      ],
      "metadata": {
        "id": "MbRbXZEQo6Zs"
      }
    },
    {
      "cell_type": "code",
      "source": [
        "speed = {'jan': 47, 'feb': 52, 'march': 47, 'April': 44, 'May': 52, 'June': 53, 'july': 54, 'Aug': 44, 'Sept': 54}\n",
        "\n",
        "def function(sample_dict):\n",
        "    output = []\n",
        "    for i in sample_dict.values():\n",
        "        if i not in output:\n",
        "            output.append(i)\n",
        "    return output\n",
        "\n",
        "function(speed)"
      ],
      "metadata": {
        "colab": {
          "base_uri": "https://localhost:8080/"
        },
        "id": "AcluSwPio5M5",
        "outputId": "6df22b03-9b4c-4f50-8881-33db6ed65cfd"
      },
      "execution_count": null,
      "outputs": [
        {
          "output_type": "execute_result",
          "data": {
            "text/plain": [
              "[47, 52, 44, 53, 54]"
            ]
          },
          "metadata": {},
          "execution_count": 16
        }
      ]
    },
    {
      "cell_type": "markdown",
      "source": [
        "Exercise 10: Remove duplicates from a list and create a tuple and find the minimum and maximum number"
      ],
      "metadata": {
        "id": "nemwRnzJpp9u"
      }
    },
    {
      "cell_type": "code",
      "source": [
        "sample_list = [87, 45, 41, 65, 94, 41, 99, 94]\n",
        "\n",
        "def function(sample_list):\n",
        "    output = []\n",
        "    for i in sample_list:\n",
        "        if i not in output:\n",
        "            output.append(i)\n",
        "    print(f\"tuple {tuple(output)} \\nmin:{min(output)} \\nmax:{max(output)}\")\n",
        "\n",
        "function(sample_list)"
      ],
      "metadata": {
        "colab": {
          "base_uri": "https://localhost:8080/"
        },
        "id": "0breZfP8psJe",
        "outputId": "a2e4f484-26d2-42c9-f065-53fa3606c8a6"
      },
      "execution_count": null,
      "outputs": [
        {
          "output_type": "stream",
          "name": "stdout",
          "text": [
            "tuple (87, 45, 41, 65, 94, 99) \n",
            "min:41 \n",
            "max:99\n"
          ]
        }
      ]
    },
    {
      "cell_type": "markdown",
      "source": [
        "### Python Date and Time"
      ],
      "metadata": {
        "id": "ocZtk5uouEFG"
      }
    },
    {
      "cell_type": "markdown",
      "source": [
        "[Python Date and Time Exercise with Solutions](https://pynative.com/python-date-and-time-exercise/)"
      ],
      "metadata": {
        "id": "vArbHNx-uLlc"
      }
    },
    {
      "cell_type": "markdown",
      "source": [
        "Below is the list of standard libraries we can use to work with date and time.\n",
        "\n",
        "**datetime:** The datetime is a built-in module that provides functions to handle many complex functionalities involving the date and time. It has a date, time, timezone, and timedelta classes to work with date and time.\n",
        "\n",
        "**calendar:** In Python, a calendar is a built-in module to work with calendar-related activities and operations. In the calendar module, by default, Monday is the first day of the week, and Sunday is the last day of the week as per the Gregorian calendar.\n",
        "\n",
        "**time:** time module provides a different function to work with time-related activities where dates are not needed."
      ],
      "metadata": {
        "id": "Rbcslz23Deic"
      }
    },
    {
      "cell_type": "markdown",
      "source": [
        "Python provides the dir() function to list all attributes and functions of a module. Let's see the constants and classes of a datetime module.\n",
        "```\n",
        "import datetime\n",
        "print(dir(datetime))\n",
        "```\n",
        "**Date Class in DateTime**\n",
        "\n",
        "We can represent the date object using the date class and the date class initializes the native date. It always considers the Gregorian calendar. The constructor of the date class takes three parameters which include year, month, and day.\n",
        "Syntax to create a date object:\n",
        "\n",
        "`datetime.date(year, month, day)`\n",
        "\n",
        "The arguments should be in the following range :\n",
        "\n",
        "```\n",
        "MINYEAR <= year <= MAXYEAR\n",
        "1 <= month <= 12\n",
        "1 <= day <= number of days in the given month and year\n",
        "```\n",
        "\n",
        "If we pass an argument outside of given ranges, ValueError is raised.\n",
        "\n",
        "**Time Class**\n",
        "\n",
        "As you know, the datetime object contains both date and time. To work only with time, we can use the time class from the datetime module.\n",
        "\n",
        "To represent the local time, we can instantiate the time object from the time class. The arguments for time class are optional.\n",
        "\n",
        "Syntax to create a time object:\n",
        "\n",
        "`datetime.time(hour, minute, second, microsecond, tzinfo, *, fold)`\n",
        "\n",
        "The arguments should be in the following range:\n",
        "\n",
        "```\n",
        "0 <= hour < 24,\n",
        "0 <= minute < 60\n",
        "0 <= second < 60\n",
        "0 <= microsecond < 1000000\n",
        "fold in [0, 1]\n",
        "tzinfo is the timezone information.\n",
        "```\n",
        "\n",
        "If we pass an argument outside of given ranges, ValueError is raised.\n",
        "\n",
        "**Datetime Class**\n",
        "\n",
        "The datetime class contains information about both date and time. It Assumes the Gregorian Calendar and there are 360*24 seconds every day.\n",
        "\n",
        "`datetime.datetime(year, month, day, hour, minute=0, second, microsecond, tzinfo=None)`\n",
        "\n",
        "Arguments must be integers in the following ranges:\n",
        "\n",
        "```\n",
        "MINYEAR <= year <= MAXYEAR,\n",
        "1 <= month <= 12,\n",
        "1 <= day <= number of days in the given month and year,\n",
        "0 <= hour < 24,\n",
        "0 <= minute < 60,\n",
        "0 <= second < 60,\n",
        "0 <= microsecond < 1000000,\n",
        "fold in [0, 1].\n",
        "```\n",
        "If we pass an argument outside of given ranges, ValueError is raised.\n"
      ],
      "metadata": {
        "id": "YXlDAafvwhjh"
      }
    },
    {
      "cell_type": "markdown",
      "source": [
        "Exercise 1: Print current date and time in Python\n"
      ],
      "metadata": {
        "id": "HQjXSMtf3vBL"
      }
    },
    {
      "cell_type": "code",
      "source": [
        "from datetime import datetime\n",
        "\n",
        "print(f\"The date and time is {datetime.now()}\")\n",
        "print(f\"The time is {datetime.now().time()}\")\n",
        "\n",
        "# Solution 2\n",
        "from time import gmtime, strftime\n",
        "print(\"The date is\", strftime(\"%Y-%m-%d %H:%M:%S\", gmtime()))"
      ],
      "metadata": {
        "colab": {
          "base_uri": "https://localhost:8080/"
        },
        "id": "6oNIyZ9sUr1l",
        "outputId": "ad3747a7-b053-4bfc-f582-b86760ac67ca"
      },
      "execution_count": null,
      "outputs": [
        {
          "output_type": "stream",
          "name": "stdout",
          "text": [
            "The date and time is 2024-05-29 03:13:51.590543\n",
            "The time is 03:13:51.590714\n",
            "The date is 2024-05-29 03:13:51\n"
          ]
        }
      ]
    },
    {
      "cell_type": "markdown",
      "source": [
        "[Python String to DateTime using strptime()](https://pynative.com/python-string-to-datetime-strptime/)\n",
        "\n",
        "**Convert String to DateTime in Python**\n",
        "\n",
        "n some cases, date and time could be passed as a string object. To convert a string into a datetime object, we can use the strptime() function of a datetime module.\n",
        "\n",
        "For example, you may need to convert a numerical string like 13-05-2021 to a datetime object. or you want to convert string representing dates like Monday, 13 May, 2021 to a datetime object.\n",
        "\n",
        "Use this step if you want to convert a string to a time object. Use the time.strptime(string[, format]) function. This function converts time in string format to a time object in time.struct_time format."
      ],
      "metadata": {
        "id": "b15RgwuRB6vs"
      }
    },
    {
      "cell_type": "markdown",
      "source": [
        "Exercise 2: Convert string into a datetime object\n"
      ],
      "metadata": {
        "id": "RNbyP1WlJdAT"
      }
    },
    {
      "cell_type": "code",
      "source": [
        "date_str = 'Feb 25 2020 4:20PM'\n",
        "date_object = datetime.strptime(date_str, '%b %d %Y %I:%M%p')\n",
        "print(date_object)"
      ],
      "metadata": {
        "colab": {
          "base_uri": "https://localhost:8080/"
        },
        "id": "n7rHX7_tu86N",
        "outputId": "d4df7193-7a92-4d37-e6fb-e68ea9f4c298"
      },
      "execution_count": null,
      "outputs": [
        {
          "output_type": "stream",
          "name": "stdout",
          "text": [
            "2020-02-25 16:20:00\n"
          ]
        }
      ]
    },
    {
      "cell_type": "markdown",
      "source": [
        "Exercise 3: Subtract a week (7 days)  from a given date in Python\n"
      ],
      "metadata": {
        "id": "TVtrI8QRUVDO"
      }
    },
    {
      "cell_type": "code",
      "source": [
        "from datetime import datetime, timedelta\n",
        "\n",
        "given_date = datetime(2020, 2 ,27)\n",
        "days_to_subtract = 7\n",
        "\n",
        "prior_date = given_date - timedelta(days = days_to_subtract)\n",
        "prior_date = prior_date.strftime(\"%Y-%m-%d\")\n",
        "\n",
        "print(f\"The given data is {given_date}. \\nThe date after subtracting {days_to_subtract} is {prior_date}\")"
      ],
      "metadata": {
        "colab": {
          "base_uri": "https://localhost:8080/"
        },
        "id": "9Mjdt7SCUUf7",
        "outputId": "38093766-2bb2-4d6d-dadb-a47f8ea0c07c"
      },
      "execution_count": null,
      "outputs": [
        {
          "output_type": "stream",
          "name": "stdout",
          "text": [
            "The given data is 2020-02-27 00:00:00. \n",
            "The date after subtracting 7 is 2020-02-20\n"
          ]
        }
      ]
    },
    {
      "cell_type": "markdown",
      "source": [
        "[Python DateTime Format Using Strftime()](https://pynative.com/python-datetime-format-strftime/)\n",
        "\n",
        "**strftime() Date Format Codes**\n",
        "\n",
        "Dates have a default representation, but you may want to print them in a specific format. In that case, you can get a custom string representation using the different format codes\n",
        "\n",
        "The strftime() uses some standard directives to represent a datetime in a string format. The same set of directives are shared between both the strptime() and strftime() methods.\n",
        "\n",
        "Below are the character codes to format the date and time:\n",
        "\n",
        "`%d`: Returns the day of the month, from 1 to 31.\n",
        "\n",
        "`%m`: Returns the month of the year, from 1 to 12.\n",
        "\n",
        "`%Y`: Returns the year in four-digit format (Year with century). like, 2021.\n",
        "\n",
        "`%y`: Reurns year in two-digit format (year without century). like, 19, 20, 21\n",
        "\n",
        "`%A`: Returns the full name of the weekday. Like, Monday, Tuesday\n",
        "\n",
        "`%a`: Returns the short name of the weekday (First three character.). Like, Mon, Tue\n",
        "\n",
        "`%B`: Returns the full name of the month. Like, June, March\n",
        "\n",
        "`%b`: Returns the short name of the month (First three character.). Like, Mar, Jun\n",
        "\n",
        "`%H`: Returns the hour. from 01 to 23.\n",
        "\n",
        "`%I`: Returns the hour in 12-hours format. from 01 to 12.\n",
        "\n",
        "`%M`: Returns the minute, from 00 to 59.\n",
        "\n",
        "`%S`: Returns the second, from 00 to 59.\n",
        "\n",
        "`%f`: Return the microseconds from 000000 to 999999\n",
        "\n",
        "`%p`: Return time in AM/PM format\n",
        "\n",
        "`%c`: Returns a locale’s appropriate date and time representation\n",
        "\n",
        "`%x`: Returns a locale’s appropriate date representation\n",
        "\n",
        "`%X`: Returns a locale’s appropriate time representation\n",
        "\n",
        "`%z`: Return the UTC offset in the form `±HHMM[SS[.ffffff]]` (empty string if the object is naive).\n",
        "\n",
        "`%Z`: Return the Time zone name (empty string if the object is naive).\n",
        "\n",
        "`%j`: Returns the day of the year from 01 to 366\n",
        "\n",
        "`%w`: Returns weekday as a decimal number, where 0 is Sunday and 6 is Saturday.\n",
        "\n",
        "`%U`: Returns the week number of the year (Sunday as the first day of the week) from 00 to 53\n",
        "\n",
        "`%W`: Returns the week number of the year (Monday as the first day of the week) from 00 to 53"
      ],
      "metadata": {
        "id": "Nx5DZviQ0BDU"
      }
    },
    {
      "cell_type": "markdown",
      "source": [
        "Exercise 4: Print a date in a the following format\n",
        "`Day_name  Day_number  Month_name  Year`"
      ],
      "metadata": {
        "id": "TI3HRBgHV0Uo"
      }
    },
    {
      "cell_type": "code",
      "source": [
        "from datetime import datetime\n",
        "given_date = datetime(2020, 2, 25)\n",
        "\n",
        "print(\"Given date is\")\n",
        "print(given_date.strftime('%A %d %B %Y'))"
      ],
      "metadata": {
        "colab": {
          "base_uri": "https://localhost:8080/"
        },
        "id": "THSje0xLnuMy",
        "outputId": "e28203c4-786d-45b5-c66c-532064b341a7"
      },
      "execution_count": null,
      "outputs": [
        {
          "output_type": "stream",
          "name": "stdout",
          "text": [
            "Given date is\n",
            "Tuesday 25 February 2020\n"
          ]
        }
      ]
    },
    {
      "cell_type": "markdown",
      "source": [
        "Exercise 5: Find the day of the week of a given date"
      ],
      "metadata": {
        "id": "E_dp4ws8ntf3"
      }
    },
    {
      "cell_type": "code",
      "source": [
        "given_date = datetime(2020, 7, 26)\n",
        "day =  given_date.strftime('%A')\n",
        "print(f\"{given_date.strftime('%d-%m-%Y')} is {day}\")\n",
        "\n",
        "# Solution 2-Calender module\n",
        "import calendar\n",
        "weekday = calendar.day_name[given_date.weekday()]\n",
        "print(f\"{given_date.strftime('%d-%m-%Y')} is {weekday}\")"
      ],
      "metadata": {
        "colab": {
          "base_uri": "https://localhost:8080/"
        },
        "id": "6_Ml3QZp11_j",
        "outputId": "59b81c1e-cda8-4ea0-cbe9-c720254c6681"
      },
      "execution_count": null,
      "outputs": [
        {
          "output_type": "stream",
          "name": "stdout",
          "text": [
            "26-07-2020 is Sunday\n",
            "26-07-2020 is Sunday\n"
          ]
        }
      ]
    },
    {
      "cell_type": "markdown",
      "source": [
        "Exercise 6: Add a week (7 days) and 12 hours to a given date"
      ],
      "metadata": {
        "id": "3TW63EXI11VQ"
      }
    },
    {
      "cell_type": "code",
      "source": [
        "given_date = datetime(2020, 3, 22, 10, 0, 0)\n",
        "next_date = given_date + timedelta(days=7, hours=12)\n",
        "\n",
        "print(f\"The new date is {next_date}\")"
      ],
      "metadata": {
        "colab": {
          "base_uri": "https://localhost:8080/"
        },
        "id": "Dqv4tA-y3e71",
        "outputId": "b369d501-5265-42b5-c2ca-f177ac73dbbf"
      },
      "execution_count": null,
      "outputs": [
        {
          "output_type": "stream",
          "name": "stdout",
          "text": [
            "The new date is 2020-03-29 22:00:00\n"
          ]
        }
      ]
    },
    {
      "cell_type": "markdown",
      "source": [
        "Exercise 7: Print current time in milliseconds"
      ],
      "metadata": {
        "id": "PWamxx4-3fTq"
      }
    },
    {
      "cell_type": "code",
      "source": [
        "import time\n",
        "# The time.time() function can also be used to get the current time.\n",
        "milliseconds = int(round(time.time() * 1000))\n",
        "\n",
        "print(milliseconds)"
      ],
      "metadata": {
        "colab": {
          "base_uri": "https://localhost:8080/"
        },
        "id": "wPF_GvcO6IhA",
        "outputId": "09aa7ba3-ed9a-4c86-d4d7-b78fe6d11b37"
      },
      "execution_count": null,
      "outputs": [
        {
          "output_type": "stream",
          "name": "stdout",
          "text": [
            "1716962420364\n"
          ]
        }
      ]
    },
    {
      "cell_type": "markdown",
      "source": [
        "Exercise 8: Convert the following datetime into a string\n",
        "```\n",
        "given_date = datetime(2020, 2, 25)\n",
        "```\n",
        "Expected output:\n",
        "```\n",
        "\"2020-02-25 00:00:00\"\n",
        "```\n",
        "\n",
        "\n"
      ],
      "metadata": {
        "id": "cPN26BXP6Hun"
      }
    },
    {
      "cell_type": "code",
      "source": [
        "given_date = datetime(2020, 2, 25)\n",
        "print(f\"The given date is {given_date.strftime('%Y-%m-%d %H:%M:%S')}\")"
      ],
      "metadata": {
        "colab": {
          "base_uri": "https://localhost:8080/"
        },
        "id": "zXTwVbfQ7kdL",
        "outputId": "2f2a4652-d1b3-45aa-cc8a-4b96c24cab23"
      },
      "execution_count": null,
      "outputs": [
        {
          "output_type": "stream",
          "name": "stdout",
          "text": [
            "The given date is 2020-02-25 00:00:00\n"
          ]
        }
      ]
    },
    {
      "cell_type": "markdown",
      "source": [
        "Exercise 9: Calculate the date 4 months from the current date"
      ],
      "metadata": {
        "id": "bhjRIxgJ7jzs"
      }
    },
    {
      "cell_type": "code",
      "source": [
        "current_date = datetime(2020, 2, 25)\n",
        "next_date = current_date + timedelta(days = 4*30)\n",
        "next_date = next_date.strftime('%Y %m %d')\n",
        "\n",
        "print(f'The next date is {next_date}')\n",
        "print(\"This date doesn't consider varying number of days in months\")\n",
        "\n",
        "# Correct solutions\n",
        "from dateutil.relativedelta import relativedelta\n",
        "\n",
        "months_to_add = 4\n",
        "next_date = given_date + relativedelta(months =+ months_to_add)\n",
        "next_date = next_date.strftime('%Y %m %d')\n",
        "\n",
        "print(f'The correct next date is {next_date}')"
      ],
      "metadata": {
        "colab": {
          "base_uri": "https://localhost:8080/"
        },
        "id": "NVx9bPmS9toW",
        "outputId": "192dd505-f015-4a5b-b068-27c53830bc2a"
      },
      "execution_count": null,
      "outputs": [
        {
          "output_type": "stream",
          "name": "stdout",
          "text": [
            "The next date is 2020 06 24\n",
            "This date doesn't consider varying number of days in months\n",
            "The correct next date is 2020 06 25\n"
          ]
        }
      ]
    },
    {
      "cell_type": "markdown",
      "source": [
        "Exercise 10: Calculate number of days between two given dates"
      ],
      "metadata": {
        "id": "a-VeBp9I9uDs"
      }
    },
    {
      "cell_type": "code",
      "source": [
        "date_1 = datetime(2020, 2, 25)\n",
        "date_2 = datetime(2020, 9, 17)\n",
        "\n",
        "delta = None\n",
        "\n",
        "if date_1 > date_2:\n",
        "    delta = date_1 - date_2\n",
        "else:\n",
        "    delta = date_2 - date_1\n",
        "print(f\"Difference is {delta.days} days.\")\n",
        "\n",
        "# Solution 2\n",
        "import numpy as np\n",
        "delta = np.abs(date_1 - date_2)\n",
        "print(f\"Difference is {delta.days} days.\")"
      ],
      "metadata": {
        "colab": {
          "base_uri": "https://localhost:8080/"
        },
        "id": "M6Ww8o0f7D-8",
        "outputId": "c57218c4-80f3-411b-8e11-97a7a9969e9b"
      },
      "execution_count": null,
      "outputs": [
        {
          "output_type": "stream",
          "name": "stdout",
          "text": [
            "Difference is 205 days.\n",
            "Difference is 205 days.\n"
          ]
        }
      ]
    },
    {
      "cell_type": "markdown",
      "source": [
        "### Python random Data generation italicized text"
      ],
      "metadata": {
        "id": "zt-mCLEdE8hw"
      }
    },
    {
      "cell_type": "markdown",
      "source": [
        "[Python random Data generation Exercise](https://pynative.com/python-random-number-generation-exercise-questions-and-challenge/)"
      ],
      "metadata": {
        "id": "0CPKW5a5FCEl"
      }
    },
    {
      "cell_type": "markdown",
      "source": [
        "Exercise 1: Generate 3 random integers between 100 and 999 which is divisible by 5"
      ],
      "metadata": {
        "id": "9-t-QBepGxJ4"
      }
    },
    {
      "cell_type": "code",
      "source": [
        "import random\n",
        "\n",
        "#output = random.randrange(100, 999, 5)\n",
        "print(\"Generating 3 random integer number between 100 and 999 divisible by 5\")\n",
        "for i in range(3):\n",
        "    output = random.randrange(100, 999, 5)\n",
        "    i += 1\n",
        "    print(output, end=', ')"
      ],
      "metadata": {
        "colab": {
          "base_uri": "https://localhost:8080/"
        },
        "id": "rSoFrpl8E-az",
        "outputId": "e4924b4f-fafa-446a-9da9-6bd72d2f7af9"
      },
      "execution_count": null,
      "outputs": [
        {
          "output_type": "stream",
          "name": "stdout",
          "text": [
            "Generating 3 random integer number between 100 and 999 divisible by 5\n",
            "590, 985, 295, "
          ]
        }
      ]
    },
    {
      "cell_type": "markdown",
      "source": [
        "Exercise 2: Random Lottery Pick. Generate 100 random lottery tickets and pick two lucky tickets from it as a winner.\n"
      ],
      "metadata": {
        "id": "IclhsWt5G0k8"
      }
    },
    {
      "cell_type": "code",
      "source": [
        "# Generaing a list of 100 random numbers\n",
        "ticket = []\n",
        "print(\"creating 100 random lottery tickets\")\n",
        "\n",
        "for i in range(100):\n",
        "    ticket.append(random.randint(1000, 9999))\n",
        "\n",
        "winner = random.sample(ticket, k = 2)\n",
        "print(\"Lucky 2 lottery tickets are\", winner)"
      ],
      "metadata": {
        "colab": {
          "base_uri": "https://localhost:8080/"
        },
        "id": "6lz-3CWfPDs2",
        "outputId": "e525040b-bc54-4ee2-b871-1ae6056ccc54"
      },
      "execution_count": null,
      "outputs": [
        {
          "output_type": "stream",
          "name": "stdout",
          "text": [
            "creating 100 random lottery tickets\n",
            "Lucky 2 lottery tickets are [8753, 9004]\n"
          ]
        }
      ]
    },
    {
      "cell_type": "markdown",
      "source": [
        "#### Python Secrets Module to Generate secure random numbers for managing secrets\n",
        "\n",
        "The cryptographically secure random generator generates random data using synchronization methods to ensure that no two processes can obtain the same data simultaneously.\n",
        "Use the secrets module for following standard security-related functions.\n",
        "1. Generating random numbers,\n",
        "2. Creating passwords and OTP.\n",
        "3. Random token.\n",
        "4. Password recovery safe URLs and session keys.\n",
        "\n",
        "```\n",
        "import secrets\n",
        "\n",
        "# Getting systemRandom class instance out of secrets module\n",
        "secretsGenerator = secrets.SystemRandom()\n",
        "\n",
        "# secure random integer numbers\n",
        "random_number = secretsGenerator.randint(0, 50)\n",
        "print(random_number)\n",
        "# Output 38\n",
        "\n",
        "# secure random integer number within given\n",
        "random_number2 = secretsGenerator.randrange(4, 40, 4)\n",
        "print(random_number2)\n",
        "# Output 32\n",
        "\n",
        "# Secure Random choice using secrets\n",
        "number_list = [6, 12, 18, 24, 30, 36, 42, 48, 54, 60]\n",
        "secure_choice = secretsGenerator.choice(number_list)\n",
        "print(secure_choice)\n",
        "# Output 60\n",
        "\n",
        "# Secure Random sample\n",
        "secure_sample = secretsGenerator.sample(number_list, 3)\n",
        "print(secure_sample)\n",
        "# output [12, 42, 48]\n",
        "\n",
        "# Secure Random float number\n",
        "secure_float = secretsGenerator.uniform(2.5, 25.5)\n",
        "print(secure_float)\n",
        "# Output 18.062235454990407\n",
        " Run\n",
        "```\n",
        "\n"
      ],
      "metadata": {
        "id": "5cN3wxU6Qri-"
      }
    },
    {
      "cell_type": "markdown",
      "source": [
        "![image.png](data:image/png;base64,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)"
      ],
      "metadata": {
        "id": "a-xkQZ7NR-at"
      }
    },
    {
      "cell_type": "markdown",
      "source": [
        "Exercise 3: Generate 6 digit random secure OTP"
      ],
      "metadata": {
        "id": "cOOGbCrIPDOY"
      }
    },
    {
      "cell_type": "markdown",
      "source": [
        "Exercise 4: Pick a random character from a given String"
      ],
      "metadata": {
        "id": "vQaE36ezQn__"
      }
    },
    {
      "cell_type": "code",
      "source": [
        "string = 'Elaheh'\n",
        "print(\"The random character is:\", random.choice(string))"
      ],
      "metadata": {
        "colab": {
          "base_uri": "https://localhost:8080/"
        },
        "id": "8ECFuexEVdLW",
        "outputId": "c8ec32f2-3386-4898-ac21-e6af8d76ae60"
      },
      "execution_count": null,
      "outputs": [
        {
          "output_type": "stream",
          "name": "stdout",
          "text": [
            "The random character is: h\n"
          ]
        }
      ]
    },
    {
      "cell_type": "markdown",
      "source": [
        "Exercise 5: Generate random String of length 5"
      ],
      "metadata": {
        "id": "54mMHh2gV_GY"
      }
    },
    {
      "cell_type": "code",
      "source": [
        "alphabet = 'abcdefghijklmnopqrstuvwxyzABCDEFGHIJKLMNOPQRSTUVWXYZ'\n",
        "ans = []\n",
        "for i in range(5):\n",
        "    ans.append(random.choice(alphabet))\n",
        "print(\"Random String is \", \"\".join(ans))\n",
        "\n",
        "# Solution two using ascii_letters\n",
        "import random\n",
        "import string\n",
        "\n",
        "def randomString(stringLength):\n",
        "    \"\"\"Generate a random string of 5 charcters\"\"\"\n",
        "    letters = string.ascii_letters\n",
        "    return ''.join(random.choice(letters) for i in range(stringLength))\n",
        "\n",
        "print (\"Random String is \", randomString(5) )"
      ],
      "metadata": {
        "colab": {
          "base_uri": "https://localhost:8080/"
        },
        "id": "r6SZGf5xV9WI",
        "outputId": "45f2ec45-eae5-409b-9fcb-3809dfa0b865"
      },
      "execution_count": null,
      "outputs": [
        {
          "output_type": "stream",
          "name": "stdout",
          "text": [
            "Random String is  XHyCC\n",
            "Random String is  tLBtK\n"
          ]
        }
      ]
    },
    {
      "cell_type": "markdown",
      "source": [
        "\n",
        "Exercise 6: Generate a random Password which meets the following conditions"
      ],
      "metadata": {
        "id": "s5_4sMtSO8eS"
      }
    },
    {
      "cell_type": "markdown",
      "source": [
        "Exercise 7: Calculate multiplication of two random float numbers"
      ],
      "metadata": {
        "id": "iKXMj0lJXJaM"
      }
    },
    {
      "cell_type": "code",
      "source": [
        "num1 = random.random()\n",
        "num2 = random.random()\n",
        "print(\"Multiplication of two random float numebrs is\", num1*num2)"
      ],
      "metadata": {
        "colab": {
          "base_uri": "https://localhost:8080/"
        },
        "id": "TICtu-rlXIwu",
        "outputId": "2356c85b-45da-491b-922b-f20c0463b9db"
      },
      "execution_count": null,
      "outputs": [
        {
          "output_type": "stream",
          "name": "stdout",
          "text": [
            "Multiplication of two random float numebrs is 0.37859745227436337\n"
          ]
        }
      ]
    },
    {
      "cell_type": "markdown",
      "source": [
        "**Note:**\n",
        "\n",
        "First random float number must be between 0.1 and 1\n",
        "\n",
        "Second random float number must be between 9.5 and 99.5"
      ],
      "metadata": {
        "id": "tIpXbOV1XlFR"
      }
    },
    {
      "cell_type": "code",
      "source": [
        "num1 = random.random()\n",
        "num2 = random.uniform(9.5, 99.5)\n",
        "\n",
        "print(\"Multiplication of two random float numebrs is\", num1*num2)"
      ],
      "metadata": {
        "colab": {
          "base_uri": "https://localhost:8080/"
        },
        "id": "B_4JtM-IXmnp",
        "outputId": "7f991b47-a9e6-4e38-c8e1-ae122dfd3536"
      },
      "execution_count": null,
      "outputs": [
        {
          "output_type": "stream",
          "name": "stdout",
          "text": [
            "Multiplication of two random float numebrs is 26.72290740049877\n"
          ]
        }
      ]
    },
    {
      "cell_type": "markdown",
      "source": [
        "Exercise 8: Generate random secure token of 64 bytes and random URL"
      ],
      "metadata": {
        "id": "o6hc_r7dXLeZ"
      }
    },
    {
      "cell_type": "code",
      "source": [],
      "metadata": {
        "id": "YOKLy2LSX7L1"
      },
      "execution_count": null,
      "outputs": []
    },
    {
      "cell_type": "markdown",
      "source": [
        "Exercise 9: Roll dice in such a way that every time you get the same number\n"
      ],
      "metadata": {
        "id": "7ydxmBIsX6yt"
      }
    },
    {
      "cell_type": "code",
      "source": [
        "for i in range(5):\n",
        "    random.seed(42)\n",
        "    print(\"The dice is\", random.randint(1,7))\n",
        "\n",
        "# Solution 2\n",
        "dice = [1, 2, 3, 4, 5, 6]\n",
        "print(\"Randomly selecting same number of a dice\")\n",
        "for i in range(5):\n",
        "    random.seed(25)\n",
        "    print(random.choice(dice))"
      ],
      "metadata": {
        "colab": {
          "base_uri": "https://localhost:8080/"
        },
        "id": "bI1e3RIEXv53",
        "outputId": "40f2824f-2cf6-428f-b4c7-2e603df2b65e"
      },
      "execution_count": null,
      "outputs": [
        {
          "output_type": "stream",
          "name": "stdout",
          "text": [
            "The dice is 6\n",
            "The dice is 6\n",
            "The dice is 6\n",
            "The dice is 6\n",
            "The dice is 6\n",
            "Randomly selecting same number of a dice\n",
            "4\n",
            "4\n",
            "4\n",
            "4\n",
            "4\n"
          ]
        }
      ]
    },
    {
      "cell_type": "markdown",
      "source": [
        "*Exercise 10*: Generate a random date between given start and end dates\n"
      ],
      "metadata": {
        "id": "vR1Anp56X-I-"
      }
    },
    {
      "cell_type": "markdown",
      "source": [
        "`time.mktime()` method of Time module is used to convert a time.struct_time object or a tuple containing 9 elements corresponding to time.struct_time object to time in seconds passed since epoch in local time.\n",
        "\n",
        "This method is the inverse function of time.localtime() which converts the time expressed in seconds since the epoch to a time.struct_time object in local time."
      ],
      "metadata": {
        "id": "d9AnYG3RaY6h"
      }
    },
    {
      "cell_type": "code",
      "source": [
        "import time\n",
        "\n",
        "start_date = '2023-04-25'\n",
        "end_date = '2024-04-25'\n",
        "\n",
        "def function(startDate, endDate):\n",
        "    print(\"Printing random date between\", startDate, \" and \", endDate)\n",
        "\n",
        "    randomGen = random.random\n",
        "    startTime =\n",
        "\n",
        "\n"
      ],
      "metadata": {
        "colab": {
          "base_uri": "https://localhost:8080/",
          "height": 211
        },
        "id": "u3C0m_2kX9jy",
        "outputId": "fb3714df-5a22-450b-aa59-9e5c8245d6b6"
      },
      "execution_count": null,
      "outputs": [
        {
          "output_type": "error",
          "ename": "TypeError",
          "evalue": "unsupported operand type(s) for -: 'str' and 'str'",
          "traceback": [
            "\u001b[0;31m---------------------------------------------------------------------------\u001b[0m",
            "\u001b[0;31mTypeError\u001b[0m                                 Traceback (most recent call last)",
            "\u001b[0;32m<ipython-input-66-317d2bfc7bb1>\u001b[0m in \u001b[0;36m<cell line: 6>\u001b[0;34m()\u001b[0m\n\u001b[1;32m      4\u001b[0m \u001b[0mend_date\u001b[0m \u001b[0;34m=\u001b[0m \u001b[0;34m'2024-04-25'\u001b[0m\u001b[0;34m\u001b[0m\u001b[0;34m\u001b[0m\u001b[0m\n\u001b[1;32m      5\u001b[0m \u001b[0;34m\u001b[0m\u001b[0m\n\u001b[0;32m----> 6\u001b[0;31m \u001b[0mdelta\u001b[0m \u001b[0;34m=\u001b[0m \u001b[0mend_date\u001b[0m \u001b[0;34m-\u001b[0m \u001b[0mstart_date\u001b[0m\u001b[0;34m\u001b[0m\u001b[0;34m\u001b[0m\u001b[0m\n\u001b[0m\u001b[1;32m      7\u001b[0m \u001b[0mdelta\u001b[0m\u001b[0;34m\u001b[0m\u001b[0;34m\u001b[0m\u001b[0m\n\u001b[1;32m      8\u001b[0m \u001b[0;34m\u001b[0m\u001b[0m\n",
            "\u001b[0;31mTypeError\u001b[0m: unsupported operand type(s) for -: 'str' and 'str'"
          ]
        }
      ]
    },
    {
      "cell_type": "markdown",
      "source": [
        "### Python NumPy"
      ],
      "metadata": {
        "id": "aFI-HStVvazJ"
      }
    },
    {
      "cell_type": "markdown",
      "source": [
        "[Python NumPy Exercise](https://pynative.com/python-numpy-exercise/)"
      ],
      "metadata": {
        "id": "xEjn8mcFwBjo"
      }
    },
    {
      "cell_type": "markdown",
      "source": [
        "Exercise 1: Create a 4X2 integer array and Prints its attributes\n",
        "\n",
        "Note: The element must be a type of unsigned int16. And print the following Attributes: –\n",
        "\n",
        "The shape of an array.\n",
        "Array dimensions.\n",
        "The Length of each element of the array in bytes."
      ],
      "metadata": {
        "id": "KaR_wDnd0avr"
      }
    },
    {
      "cell_type": "code",
      "source": [
        "import numpy as np\n",
        "\n",
        "arr = np.array([[643, 543], [123, 543], [65, 5], [67, 876]], dtype = np.uint16)\n",
        "\n",
        "print(f\"Printing Numpy array attributes: \\n{arr} \\nArray shape: {arr.shape}\")\n",
        "print(f\"Array dimension: {arr.ndim} \\nLength of each element of the array: {len(arr[0])}\")\n",
        "\n",
        "# Or\n",
        "print(f\"Array dimension: {arr.ndim} \\nLength of each element of the array: {arr.itemsize}\")"
      ],
      "metadata": {
        "id": "wZIMrYv7wFYV",
        "colab": {
          "base_uri": "https://localhost:8080/"
        },
        "outputId": "058084b6-d2ca-41e4-f42d-a94ec4060fd8"
      },
      "execution_count": null,
      "outputs": [
        {
          "output_type": "stream",
          "name": "stdout",
          "text": [
            "Printing Numpy array attributes: \n",
            "[[643 543]\n",
            " [123 543]\n",
            " [ 65   5]\n",
            " [ 67 876]] \n",
            "Array shape: (4, 2)\n",
            "Array dimension: 2 \n",
            "Length of each element of the array: 2\n",
            "Array dimension: 2 \n",
            "Length of each element of the array: 2\n"
          ]
        }
      ]
    },
    {
      "cell_type": "markdown",
      "source": [
        "Exercise 2: Create a 5X2 integer array from a range between 100 to 200 such that the difference between each element is 10"
      ],
      "metadata": {
        "id": "9Nw_OTys3L08"
      }
    },
    {
      "cell_type": "code",
      "source": [
        "print(\"Creating 5X2 array using numpy.arange\")\n",
        "arr = np.arange(100, 200, 10)\n",
        "arr = arr.reshape(5, 2)\n",
        "print(\"The output array is: \\n\", arr)"
      ],
      "metadata": {
        "colab": {
          "base_uri": "https://localhost:8080/"
        },
        "id": "_pPuicX03PHe",
        "outputId": "9631d399-0ebb-400f-c9f5-24ca1e37b345"
      },
      "execution_count": null,
      "outputs": [
        {
          "output_type": "stream",
          "name": "stdout",
          "text": [
            "Creating 5X2 array using numpy.arange\n",
            "The output array is: \n",
            " [[100 110]\n",
            " [120 130]\n",
            " [140 150]\n",
            " [160 170]\n",
            " [180 190]]\n"
          ]
        }
      ]
    },
    {
      "cell_type": "markdown",
      "source": [
        "Exercise 3: Following is the provided numPy array. Return array of items by taking the third column from all rows\n",
        "\n",
        "sampleArray = numpy.array([[11 ,22, 33], [44, 55, 66], [77, 88, 99]])"
      ],
      "metadata": {
        "id": "gzVBlIs74Sqg"
      }
    },
    {
      "cell_type": "code",
      "source": [
        "sampleArray = np.array([[11 ,22, 33], [44, 55, 66], [77, 88, 99]])\n",
        "newArray = sampleArray[...,2]\n",
        "print(newArray)"
      ],
      "metadata": {
        "colab": {
          "base_uri": "https://localhost:8080/"
        },
        "id": "a7ybWJwz4VhG",
        "outputId": "afcb7ce9-d829-4bb5-8163-39bf3af90cce"
      },
      "execution_count": null,
      "outputs": [
        {
          "output_type": "stream",
          "name": "stdout",
          "text": [
            "[33 66 99]\n"
          ]
        }
      ]
    },
    {
      "cell_type": "markdown",
      "source": [
        "Exercise 4: Return array of odd rows and even columns from below numpy array\n",
        "\n",
        "sampleArray = numpy.array([[3 ,6, 9, 12], [15 ,18, 21, 24],\n",
        "[27 ,30, 33, 36], [39 ,42, 45, 48], [51 ,54, 57, 60]])"
      ],
      "metadata": {
        "id": "-DuQHT30_WZP"
      }
    },
    {
      "cell_type": "code",
      "source": [
        "sampleArray = np.array([[3 ,6, 9, 12], [15 ,18, 21, 24], [27 ,30, 33, 36], [39 ,42, 45, 48], [51 ,54, 57, 60]])\n",
        "\n",
        "# Slicing\n",
        "new_arr = sampleArray[::2, 1::2]\n",
        "print(new_arr)"
      ],
      "metadata": {
        "colab": {
          "base_uri": "https://localhost:8080/"
        },
        "id": "nFCFP8P0_bG0",
        "outputId": "fe42f14f-1280-4213-cb22-cf2c8fea9ac5"
      },
      "execution_count": null,
      "outputs": [
        {
          "output_type": "stream",
          "name": "stdout",
          "text": [
            "[[ 6 12]\n",
            " [30 36]\n",
            " [54 60]]\n"
          ]
        }
      ]
    },
    {
      "cell_type": "markdown",
      "source": [
        "Exercise 5: Create a result array by adding the following two NumPy arrays. Next, modify the result array by calculating the square of each element\n",
        "\n",
        "arrayOne = numpy.array([[5, 6, 9], [21 ,18, 27]])\n",
        "\n",
        "arrayTwo = numpy.array([[15 ,33, 24], [4 ,7, 1]])"
      ],
      "metadata": {
        "id": "c4iHhvocAZUQ"
      }
    },
    {
      "cell_type": "code",
      "source": [
        "arrayOne = np.array([[5, 6, 9], [21 ,18, 27]])\n",
        "arrayTwo = np.array([[15 ,33, 24], [4 ,7, 1]])\n",
        "\n",
        "arr = arrayOne + arrayTwo\n",
        "\n",
        "# Vectorization?!\n",
        "# Vectorization in NumPy refers to the process of using vectorized operations\n",
        "# instead of loops to perform computations on data. Vectorized operations are\n",
        "# much faster than loops, as they can be executed using highly optimized C and\n",
        "# Fortran code.\n",
        "\n",
        "arr = arr*arr\n",
        "print(\"Solution 1: \\n\", arr)\n",
        "\n",
        "print(\"Solution 2: \\n\", np.square(np.add(arrayOne, arrayTwo)))"
      ],
      "metadata": {
        "colab": {
          "base_uri": "https://localhost:8080/"
        },
        "id": "ZnM7s1inAbS0",
        "outputId": "3e2da441-88d7-406d-bbad-65ffcc968c95"
      },
      "execution_count": null,
      "outputs": [
        {
          "output_type": "stream",
          "name": "stdout",
          "text": [
            "Solution 1: \n",
            " [[ 400 1521 1089]\n",
            " [ 625  625  784]]\n",
            "Solution 2: \n",
            " [[ 400 1521 1089]\n",
            " [ 625  625  784]]\n"
          ]
        }
      ]
    },
    {
      "cell_type": "markdown",
      "source": [
        "Exercise 6: Split the array into four equal-sized sub-arrays\n",
        "\n",
        "Note: Create an 8X3 integer array from a range between 10 to 34 such that the difference between each element is 1 and then Split the array into four equal-sized sub-arrays."
      ],
      "metadata": {
        "id": "_llh26seCeOa"
      }
    },
    {
      "cell_type": "code",
      "source": [
        "arr = np.arange(10, 34, 1).reshape(8, 3)\n",
        "print(\"Creating an 8*3 array using Numpy\", arr)\n",
        "\n",
        "print(\"Dividing the array into 4 equali-sized sub arrays:\")\n",
        "sub_arr = np.split(arr, 4)\n",
        "sub_arr"
      ],
      "metadata": {
        "colab": {
          "base_uri": "https://localhost:8080/"
        },
        "id": "uppt1Lr8CywH",
        "outputId": "6a567404-d1d6-4297-c111-a26b1a7bdb40"
      },
      "execution_count": null,
      "outputs": [
        {
          "output_type": "stream",
          "name": "stdout",
          "text": [
            "Creating an 8*3 array using Numpy [[10 11 12]\n",
            " [13 14 15]\n",
            " [16 17 18]\n",
            " [19 20 21]\n",
            " [22 23 24]\n",
            " [25 26 27]\n",
            " [28 29 30]\n",
            " [31 32 33]]\n",
            "Dividing the array into 4 equali-sized subaarays:\n"
          ]
        },
        {
          "output_type": "execute_result",
          "data": {
            "text/plain": [
              "[array([[10, 11, 12],\n",
              "        [13, 14, 15]]),\n",
              " array([[16, 17, 18],\n",
              "        [19, 20, 21]]),\n",
              " array([[22, 23, 24],\n",
              "        [25, 26, 27]]),\n",
              " array([[28, 29, 30],\n",
              "        [31, 32, 33]])]"
            ]
          },
          "metadata": {},
          "execution_count": 6
        }
      ]
    },
    {
      "cell_type": "markdown",
      "source": [
        "Exercise 7: Sort following NumPy array\n",
        "\n",
        "Case 1: Sort array by the second row\n",
        "\n",
        "Case 2: Sort the array by the second column\n",
        "\n",
        "sampleArray = numpy.array([[34,43,73],[82,22,12],[53,94,66]])"
      ],
      "metadata": {
        "id": "exawZA4LEd6z"
      }
    },
    {
      "cell_type": "code",
      "source": [
        "sampleArray = np.array([[34,43,73],[82,22,12],[53,94,66]])\n",
        "print(\"The original array: \\n\", sampleArray)\n",
        "# Case 1\n",
        "sort_by_row = sampleArray[:, sampleArray[1,:].argsort()]\n",
        "# The line of code sort_by_row = sampleArray[:, sampleArray[1,:].argsort()]\n",
        "# reorders the columns of the sampleArray based on the sorted order of the\n",
        "# elements in the second row. The result is a new array sort_by_row where the\n",
        "# columns have been rearranged such that the second row is sorted in ascending\n",
        "# order.\n",
        "print(\"Sorting Original array by secoond row\")\n",
        "print(sort_by_row)\n",
        "\n",
        "# Case 2\n",
        "sort_by_column = sampleArray[sampleArray[:, 1].argsort(), :]\n",
        "print(sort_by_column)"
      ],
      "metadata": {
        "colab": {
          "base_uri": "https://localhost:8080/"
        },
        "id": "be3J_smwEi8i",
        "outputId": "cdc14df7-10e9-4051-8b1e-a1ca665d8db4"
      },
      "execution_count": null,
      "outputs": [
        {
          "output_type": "stream",
          "name": "stdout",
          "text": [
            "The original array: \n",
            " [[34 43 73]\n",
            " [82 22 12]\n",
            " [53 94 66]]\n",
            "Sorting Original array by secoond row\n",
            "[[73 43 34]\n",
            " [12 22 82]\n",
            " [66 94 53]]\n",
            "[[82 22 12]\n",
            " [34 43 73]\n",
            " [53 94 66]]\n"
          ]
        }
      ]
    },
    {
      "cell_type": "markdown",
      "source": [
        "Exercise 8: Print max from axis 0 and min from axis 1 from the following 2-D array.\n",
        "\n",
        "sampleArray = numpy.array([[34,43,73],[82,22,12],[53,94,66]])"
      ],
      "metadata": {
        "id": "JQpERimNIBTb"
      }
    },
    {
      "cell_type": "code",
      "source": [
        "sampleArray = np.array([[34,43,73],[82,22,12],[53,94,66]])\n",
        "print(\"Max:\", np.max(sampleArray, axis = 0))\n",
        "print(\"Min:\", np.min(sampleArray, axis = 1))\n",
        "\n",
        "# np.amax: This is the full name of the function and is often preferred in more\n",
        "# formal or detailed code because it is explicit and clear about what operation\n",
        "# is being performed.\n",
        "# np.max: This is the shorter alias and might be preferred for brevity,\n",
        "# especially in interactive sessions or when writing quick scripts."
      ],
      "metadata": {
        "colab": {
          "base_uri": "https://localhost:8080/"
        },
        "id": "7dE5btDFIH9U",
        "outputId": "8c1a657e-133f-48f2-ca5c-66dd7cc8ce88"
      },
      "execution_count": null,
      "outputs": [
        {
          "output_type": "stream",
          "name": "stdout",
          "text": [
            "Max: [82 94 73]\n",
            "Min: [34 12 53]\n"
          ]
        }
      ]
    },
    {
      "cell_type": "markdown",
      "source": [
        "Exercise 9: Delete the second column from a given array and insert the following new column in its place.\n",
        "\n",
        "sampleArray = numpy.array([[34,43,73],[82,22,12],[53,94,66]])\n",
        "\n",
        "newColumn = numpy.array([[10,10,10]])"
      ],
      "metadata": {
        "id": "r5r0pWEXNcwF"
      }
    },
    {
      "cell_type": "code",
      "source": [
        "sampleArray = np.array([[34,43,73],[82,22,12],[53,94,66]])\n",
        "newColumn = np.array([[10,10,10]])\n",
        "\n"
      ],
      "metadata": {
        "id": "oz6byJCSNg-F"
      },
      "execution_count": null,
      "outputs": []
    },
    {
      "cell_type": "markdown",
      "source": [
        "### Python Pandas"
      ],
      "metadata": {
        "id": "8fMfXf_uwFxL"
      }
    },
    {
      "cell_type": "markdown",
      "source": [
        "[Python Pandas Exercise](https://pynative.com/python-pandas-exercise/)"
      ],
      "metadata": {
        "id": "njmKyp4wwMUW"
      }
    },
    {
      "cell_type": "code",
      "source": [],
      "metadata": {
        "id": "CzXhm79MwQF0"
      },
      "execution_count": null,
      "outputs": []
    },
    {
      "cell_type": "markdown",
      "source": [
        "### Python JSON"
      ],
      "metadata": {
        "id": "5i0K45GEwQvZ"
      }
    },
    {
      "cell_type": "markdown",
      "source": [
        "[Python JSON Exercise](https://pynative.com/python-json-exercise/)"
      ],
      "metadata": {
        "id": "oBHPIrEUwU5s"
      }
    },
    {
      "cell_type": "code",
      "source": [],
      "metadata": {
        "id": "gwtGZulIwX0z"
      },
      "execution_count": null,
      "outputs": []
    },
    {
      "cell_type": "markdown",
      "source": [
        "### Python Matplotlib"
      ],
      "metadata": {
        "id": "GEzK17yEwYVI"
      }
    },
    {
      "cell_type": "markdown",
      "source": [
        "[Python Matplotlib Exercise](https://pynative.com/python-matplotlib-exercise/)"
      ],
      "metadata": {
        "id": "y9MoPXTjwbI7"
      }
    },
    {
      "cell_type": "code",
      "source": [],
      "metadata": {
        "id": "-Anc7w3nwhen"
      },
      "execution_count": null,
      "outputs": []
    },
    {
      "cell_type": "markdown",
      "source": [],
      "metadata": {
        "id": "AQPpzMtXwv43"
      }
    },
    {
      "cell_type": "code",
      "source": [],
      "metadata": {
        "id": "4nToUuoQwz9i"
      },
      "execution_count": null,
      "outputs": []
    },
    {
      "cell_type": "markdown",
      "source": [
        "### Python Database Programming"
      ],
      "metadata": {
        "id": "gRiGLyEOw2rr"
      }
    },
    {
      "cell_type": "markdown",
      "source": [
        "[Python Database Programming Exercise](https://pynative.com/python-database-programming-exercise-with-solution/)"
      ],
      "metadata": {
        "id": "5tSFUm8lw4z4"
      }
    },
    {
      "cell_type": "code",
      "source": [],
      "metadata": {
        "id": "fNhgit7rw7tT"
      },
      "execution_count": null,
      "outputs": []
    },
    {
      "cell_type": "markdown",
      "source": [
        "### Exercises for Intermediate developers"
      ],
      "metadata": {
        "id": "huSJ_zbhxRex"
      }
    },
    {
      "cell_type": "markdown",
      "source": [
        "[Exercises for Intermediate developers](https://pynative.com/python-exercises-with-solutions/) (Scroll down)"
      ],
      "metadata": {
        "id": "yOlUZg1Mxnbh"
      }
    },
    {
      "cell_type": "code",
      "source": [],
      "metadata": {
        "id": "vpUKDkmUxwRT"
      },
      "execution_count": null,
      "outputs": []
    },
    {
      "cell_type": "markdown",
      "source": [
        "### Useful Python Tips and Tricks Every Programmer Should Know"
      ],
      "metadata": {
        "id": "2RQ5_wBBx0cI"
      }
    },
    {
      "cell_type": "markdown",
      "source": [
        "[Useful Python Tips and Tricks Every Programmer Should Know](https://pynative.com/useful-python-tips-and-tricks-every-programmer-should-know/)"
      ],
      "metadata": {
        "id": "zxjatQGxx10g"
      }
    },
    {
      "cell_type": "code",
      "source": [],
      "metadata": {
        "id": "DYEXp9zvx4wQ"
      },
      "execution_count": null,
      "outputs": []
    }
  ]
}