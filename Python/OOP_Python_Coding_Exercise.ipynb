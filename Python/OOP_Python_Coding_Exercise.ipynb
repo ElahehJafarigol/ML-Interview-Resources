{
  "nbformat": 4,
  "nbformat_minor": 0,
  "metadata": {
    "colab": {
      "provenance": [],
      "toc_visible": true
    },
    "kernelspec": {
      "name": "python3",
      "display_name": "Python 3"
    },
    "language_info": {
      "name": "python"
    }
  },
  "cells": [
    {
      "cell_type": "markdown",
      "source": [
        "### Python Object-Oriented Programming (OOP)"
      ],
      "metadata": {
        "id": "uYd_jYw9u734"
      }
    },
    {
      "cell_type": "markdown",
      "source": [
        "[Python Object-Oriented Programming (OOP) Exercise: Classes and Objects Exercises](https://pynative.com/python-object-oriented-programming-oop-exercise/)"
      ],
      "metadata": {
        "id": "tNxS1F0GvO-B"
      }
    },
    {
      "cell_type": "markdown",
      "source": [
        "Python Object-oriented programming (OOP) is based on the concept of “objects,” which can contain data and code: data in the form of instance variables (often known as attributes or properties), and code, in the form method. I.e., Using OOP, we encapsulate related properties and behaviors into individual objects.\n",
        "\n",
        "# Inheritance in Python\n",
        "\n",
        "The process of inheriting the properties of the parent class into a child class is called inheritance. The existing class is called a base class or parent class and the new class is called a subclass or child class or derived class. In Object-oriented programming, inheritance is an important aspect. The main purpose of inheritance is the reusability of code because we can use the existing class to create a new class instead of creating it from scratch. In inheritance, the child class acquires all the data members, properties, and functions from the parent class. Also, a child class can also provide its specific implementation to the methods of the parent class.\n",
        "\n",
        "In Object-oriented programming, inheritance is an important aspect. The main purpose of inheritance is the reusability of code because we can use the existing class to create a new class instead of creating it from scratch.\n",
        "\n",
        "In inheritance, the child class acquires all the data members, properties, and functions from the parent class. Also, a child class can also provide its specific implementation to the methods of the parent class.\n",
        "\n",
        "**Types on inheritnace in Python**\n",
        "\n",
        "Single inheritance:\n",
        "```\n",
        "# Base class\n",
        "class Vehicle:\n",
        "    def Vehicle_info(self):\n",
        "        print('Inside Vehicle class')\n",
        "\n",
        "# Child class\n",
        "class Car(Vehicle):\n",
        "    def car_info(self):\n",
        "        print('Inside Car class')\n",
        "\n",
        "# Create object of Car\n",
        "car = Car()\n",
        "\n",
        "# access Vehicle's info using car object\n",
        "car.Vehicle_info()\n",
        "car.car_info()\n",
        "\n",
        "```\n",
        "Multiple Inheritance\n",
        "```\n",
        "# Parent class 1\n",
        "class Person:\n",
        "    def person_info(self, name, age):\n",
        "        print('Inside Person class')\n",
        "        print('Name:', name, 'Age:', age)\n",
        "\n",
        "# Parent class 2\n",
        "class Company:\n",
        "    def company_info(self, company_name, location):\n",
        "        print('Inside Company class')\n",
        "        print('Name:', company_name, 'location:', location)\n",
        "\n",
        "# Child class\n",
        "class Employee(Person, Company):\n",
        "    def Employee_info(self, salary, skill):\n",
        "        print('Inside Employee class')\n",
        "        print('Salary:', salary, 'Skill:', skill)\n",
        "\n",
        "# Create object of Employee\n",
        "emp = Employee()\n",
        "\n",
        "# access data\n",
        "emp.person_info('Jessa', 28)\n",
        "emp.company_info('Google', 'Atlanta')\n",
        "emp.Employee_info(12000, 'Machine Learning')\n",
        "\n",
        "```\n",
        "Multilevel inheritance\n",
        "```\n",
        "# Base class\n",
        "class Vehicle:\n",
        "    def Vehicle_info(self):\n",
        "        print('Inside Vehicle class')\n",
        "\n",
        "# Child class\n",
        "class Car(Vehicle):\n",
        "    def car_info(self):\n",
        "        print('Inside Car class')\n",
        "\n",
        "# Child class\n",
        "class SportsCar(Car):\n",
        "    def sports_car_info(self):\n",
        "        print('Inside SportsCar class')\n",
        "\n",
        "# Create object of SportsCar\n",
        "s_car = SportsCar()\n",
        "\n",
        "# access Vehicle's and Car info using SportsCar object\n",
        "s_car.Vehicle_info()\n",
        "s_car.car_info()\n",
        "s_car.sports_car_info()\n",
        "\n",
        "```\n",
        "Hierarchical Inheritance\n",
        "```\n",
        "class Vehicle:\n",
        "    def info(self):\n",
        "        print(\"This is Vehicle\")\n",
        "\n",
        "class Car(Vehicle):\n",
        "    def car_info(self, name):\n",
        "        print(\"Car name is:\", name)\n",
        "\n",
        "class Truck(Vehicle):\n",
        "    def truck_info(self, name):\n",
        "        print(\"Truck name is:\", name)\n",
        "\n",
        "obj1 = Car()\n",
        "obj1.info()\n",
        "obj1.car_info('BMW')\n",
        "\n",
        "obj2 = Truck()\n",
        "obj2.info()\n",
        "obj2.truck_info('Ford')\n",
        "```\n",
        "Hybrid Inheritance\n",
        "```\n",
        "class Vehicle:\n",
        "    def vehicle_info(self):\n",
        "        print(\"Inside Vehicle class\")\n",
        "\n",
        "class Car(Vehicle):\n",
        "    def car_info(self):\n",
        "        print(\"Inside Car class\")\n",
        "\n",
        "class Truck(Vehicle):\n",
        "    def truck_info(self):\n",
        "        print(\"Inside Truck class\")\n",
        "\n",
        "# Sports Car can inherits properties of Vehicle and Car\n",
        "class SportsCar(Car, Vehicle):\n",
        "    def sports_car_info(self):\n",
        "        print(\"Inside SportsCar class\")\n",
        "\n",
        "# create object\n",
        "s_car = SportsCar()\n",
        "\n",
        "s_car.vehicle_info()\n",
        "s_car.car_info()\n",
        "s_car.sports_car_info()\n",
        "```"
      ],
      "metadata": {
        "id": "Q1D9trqBDyOK"
      }
    },
    {
      "cell_type": "markdown",
      "source": [
        "**Method Resolution Order in Python**\n",
        "\n",
        "In Python, Method Resolution Order(MRO) is the order by which Python looks for a method or attribute. First, the method or attribute is searched within a class, and then it follows the order we specified while inheriting.\n",
        "\n",
        "This order is also called the Linearization of a class, and a set of rules is called MRO (Method Resolution Order). The MRO plays an essential role in multiple inheritances as a single method may found in multiple parent classes.\n",
        "\n",
        "In multiple inheritance, the following search order is followed.\n",
        "\n",
        "First, it searches in the current parent class if not available, then searches in the parents class specified while inheriting (that is left to right.)\n",
        "We can get the MRO of a class. For this purpose, we can use either the mro attribute or the mro() method."
      ],
      "metadata": {
        "id": "UDBgb2yqTV0R"
      }
    },
    {
      "cell_type": "markdown",
      "source": [
        "## Class attributes and Methods\n",
        "\n",
        "In Python, everything is an object. A class is a blueprint for the object. To create an object we require a model or plan or blueprint which is nothing but class. A class contains the properties (attribute) and action (behavior) of the object. Properties represent variables, and the methods represent actions. Hence class includes both variables and methods.\n",
        "\n",
        "Object is an instance of a class. The physical existence of a class is nothing but an object. In other words, the object is an entity that has a state and behavior.\n",
        "\n",
        "In Class, attributes can be defined into two parts:\n",
        "\n",
        "**Instance variables:** The instance variables are attributes attached to an instance of a class. We define instance variables in the constructor ( the `__init__()` method of a class).\n",
        "\n",
        "**Class Variables:** A class variable is a variable that is declared inside of class, but outside of any instance method or `__init()__` method.\n"
      ],
      "metadata": {
        "id": "94nWwhfdVl38"
      }
    },
    {
      "cell_type": "markdown",
      "source": [
        "Inside a Class, we can define the following three types of methods.\n",
        "\n",
        "*   **Instance method:** Used to access or modify the object attributes. If we use instance variables inside a method, such methods are called instance methods.\n",
        "*   **Class method:** Used to access or modify the class state. In method implementation, if we use only class variables, then such type of methods we should declare as a class method.\n",
        "*   **Static method:** It is a general utility method that performs a task in isolation. Inside this method, we don’t use instance or class variable because this static method doesn’t have access to the class attributes.\n"
      ],
      "metadata": {
        "id": "iEM4-szyYASe"
      }
    },
    {
      "cell_type": "markdown",
      "source": [
        "![image.png](data:image/png;base64,iVBORw0KGgoAAAANSUhEUgAAAuwAAAH8CAYAAACKHvr6AAAAAXNSR0IArs4c6QAAAARnQU1BAACxjwv8YQUAAAAJcEhZcwAADsMAAA7DAcdvqGQAAIeeSURBVHhe7d0LuGRVfef9VefWfU6f7tNcToOAAaFVIKK2+uSm0BLDqJjBhISJk/hGIxqfMZnEdzIzDq/mTTKjL2MuxkyMGa+JuQ2GhEmYSHTEIOAlcQItGBuQBiXS2NAN9P3cq97927X/dVats+t2Tl1WVX0/59lP1aldtfeuXfu/1n+tvXZVoVgslhwAAACAKI1ktwAAAAAiRMIOAAAARIyEHQAAAIgYCTsAAAAQMRJ2AAAAIGIk7AAAAEDESNgBAACAiJGwAwAAABEjYQcAAAAiRsIOAAAARIyEHQAAAIgYCTsAAAAQMRJ2AAAAIGIk7AAAAEDECsVisZTdb5tCoZDdA9BOpVI5XJO4Te/btFJcqcwT/z4A1FLQX1Zn69amkZGRqv81AajWzbqWhB3oE5acn1g84h47+rDbf/QhN798wi2szLmllYXsWQDQvPHRTW5iZLPbPLbF7Zj8LnfGlnPd9KbtacLuTyTtwFok7AAqVCCoR11J+t4n/t6dWDqSVq6bxibd6Mi4Gy2MJbdj2bMBoHkrxWW3Ukqm4pKbWzrhFlfm3OToVnfulkvS5H18fNyNjY2lkxL30dHR9HXU8wAJO4CMCoPDcwfdPQfucEfmn3RbJra5qfFt2VwAaL+TS0fdiYUjbmpkxp2/dZc7dcsZbmJioipxp54HSNiBoWeFwLef/ob7yv7PuO2TsyTqALrq+MLT7ujCU+5Zm17kztp6gdu0aZPbvHlzJXFXXU99j2FGwg4MORUCex//invg0P9JkvUd6RAYAOg2XSfz9Nzj7oyRZ7vztj3PbdmyJU3c1ePO2HYMu24m7HytIxAZFQD//PQDJOsAek7lzymTZ7jHiw+6f37qAXfkyBF34sQJt7Cw4JaXl9PyqptJCzCsSNiBiKji05j1/7P/f5OsA4iCJe373T+5J47sX5OwA+g8EnYgIvo2mHu/c2c6Zp1kHUAsVB7NbD7NPVF40B09etQdP37czc3NpUn7ykr170AAaD8SdiASqvD01Y2H5w9ygSmA6ExvOsUtj865g3PfThP2+fl5t7S0VEnYSdqBziFhByJglZ2+Z33LppnsUQCIi35U6fjmx9KE/eTJk4xlB7qEhB2IhH7BVD+KRO86gFipfFoemXdH555Kh8RYL7uG8wHoHBJ2IAKq7DQcZnJ8OnsEAOKkcupE4cmqhF3DYkjagc4hYQcioFPJ+48+5CZGN2ePAECcNo1NutJ0OVnXtLi4WEnYGRYDdAYJOxABVXL6gZLRkfHsEQCIU1pOja+kPetK1jWG3U/WSdqB9iNhB3pMlZumhZU5N1oYyx4FgDipnErS9TRh10Wn/pAYknWgM0jYgQiooltaWXCjIyTsAOKmcmqllCTpxZVKok6yDnQWCTvQY9bDDgD9REm6EnZ614HOI2EHAAAts84GEnWg80jYgQhQ4QHoR1Z2kbwDnUXCDgAAWuYn6wA6i4QdAACsC0k70B0k7AAAAEDESNgBAACAiJGwAwAAABEjYQcAAAAiRsIOAAAARIyEHQAAAIgYCTsAAAAQMRJ2AAAAIGIk7AAAAEDESNgBAACAiJGwAxHgZ70BAEAtJOwAAABAxEjYAQAAgIiRsAMxKGS3wDq993Ob3EvfP51Out8v+nW7AaCbSNgBDJ2/+fp4JUm06ZN7xrO5jb3pf0xVvVb/AwDQKSTsAJD4zP3NJez37B91DzzenaLTb1jQKACA4UXCDgAJJeG3PzSW/Vfbn941kd0DAKA7SNiBCDCEvXdO27L6lZqf+nr9Xvb9hwvu7kfLxab/OgAAOomEHcBQO3265HadvZLe/+LDo+mQl1puunfczS2Wm1c/cslSegsAQKeRsAMYeq+6eDm759yn7689LOazD5R74J97RtHt2EoPOwCgOwrFYrHttU6hwAl+oFlJDLr5+Tn3N/s+7M6ZeU72KDpJF3Ne/9nyVwgq+f74vz7prvrIFvfkiYKbnCi5T/zkSXf29uqiUd8i899uL7/muisW0ttwGbVobLyG2/zz0wX37afL/SRaz3edUnIve9aye9P3LaaPGX/7GtG2/PB3L6VfiXjz18oNiqsuWXLveMVCerbgf9477u5+dDR9b/LMU4rupck6/+1l1evMo+24I9n2+x8fqbxe233hbNG96Jkra7a7lo///YT7wjfHKhfr+ss4mCw33O6QhiLp7Mae/avLEA1L+q7txWT/r7jLLlhxL8jOlKDzHj3yDTfxzWe5mW0zbseOHW52dtZNTU25yclJNzIyQh6AodDNXymnhx2IApVbr9kQFw15yfvGGHtMSaIS5Gb96t9udv/P/9qcDrexZF20HiWfH0uS2dd9YipNStvpd++YcL/015vdZx8YqyTbom244e7yOuvRdqvRoO32X6/t3pM0BLTdauTUu1BX87QePddPtP1lWLJeixpKb/izqXSb/WWItkvL0by33TiZPQoAg4eEHQAS6i1Wz6/8VZBE+l/l2MrYdX0VoxJmo7Hy6kXW9NLzVyrrUxL9S389WUnan7m9WHmOUUPBXutPem5I61QSa+PtdQZAk61PtM5aP1T0H2+erNpu9crb+vztVsL8Xz6zKTdp1z7TPL+RoveQty21aLk6q2HvQ6+/4rnLlW3R/mxmOQDQ7xgSA/RYeUjMvPubfR9iSEyX5A2JEX9YyS/sXnA/saucnCuBVU+zksNb33YifazWMoy/LCW81/3QwpohG0rQlahbUqsk1B8S0mgdPn99om1Vcvv6Fy9WDe+x9yL++zHqmVeyL5r/9t2La84oaLt/+W8nK40Yvb8b3lC9bWqs2Hwl2j/7A2uXo4T8E19Z7TkP37+/rWoo/PpVc+n9kHrhdQak3v5BezEkBmBIDAD0xKsuXL341IbAKDm1r3JUAtwMvcZ6qJWs/tZr53LHVyuRViJvvvhw7eElrVAC/VuvnU+T33AsvpJe65VWz7UaBT67sFbe8v1rk2zRMv/Lq+fS9yZqcPi/FKtlWhKudf2XK+dzl7P7gmX33B21x50f8obiXJY8txY1rEjWAQwyEnYAyCiptmEoSjjVA+x/laN6q5uhZN9eoyE0YdLs0zrVey4aYmLDYjZi1zn1L8DUxa55lGjbeHUl43aGIY/e0xXPXZ1/17dXGxuf3rt6X42cetvSrBPN7XoAGEgk7ADgeY3XE6xvdrEeZyXy9RJv3/1PrH6XuxJNJcL1Jp++CaXTTs96xkNfP7BaJbwoSfobedZpq8vRN+CY+w+uLuf7zlt/su5v50e+PJEO16n3PfkAMKhI2AHAkw7TyHq8/W9I8RP5RvyhHBoPrnHo9SYbPtItp21Ze6FqyIbN1OMPc/EvLrWzC6L9uV4/9eLVC4G1TPs2GH07zc8ntxq3n3fBKwAMGhJ2AAjou9F9SuA3knhifTSU5pdfuVBpQBn7OkddZKuvzNQFriTuAAYZCTsABPQVj3ZBpbzywuZ710P6YaMvvv1401PexZnDTA0lXVD6//3L+cpXOfqfjegMhb5Csh3j/wEgRiTsAJDDLqhsdPFlnqmx1YSyXy+W9Ie11OKPv9c30+RpVxKtxF3fevOBa+bczW854T6Y3CqB94fM6AJhABhEJOwAkEM/3a8ebyWHrdJP5Rv/21Ni991nribddz/a+OLObz65moz73zzjD2H5wjc78/41XEYJ/Guft9qYeuBxLkgFMJhI2AGgzS67YDVh14WrzYyvVk+0fsbft3XzahJ8sgs99RqOY8NNNE7c/271UPm75lfnv/iZq2P8v8v79VX7Pvs8Wsa3n6pdDWlseqMe+h1bV/fRVP4PtwJA3yNhB4A2U++v/yNLGl9dL/nV1xW+4c+mqr5pRfwLXTWvGxdW6nvjjb5KMfzaSVESrV9otW/Q0XAYf9jQjz7f7/UeSX+xNEy8P/73E+7f3DiVXjxai16r/aLn5iXueuzOfav75MI6P8IEAP2sUCwWV7sn2oSfJAaal8Sgm5+fd3+z70PunJnnZI+ik5SE6usURcM31vMrmY2WYUmtn4Sr9/rC5Ln2tYrqXdZ3lvvjxTUMx+f/PL/Ga7/onPLr9Zr7nxhxr3/JUtozrq841LemSPgT/yH/ubooNrzQ1V+nKCHXjzHJkydG0l9+tW3WNumbXMJv0fnVv91c+bVXY0Nl9J3teWPkw+1+6funs3vl9Vw4W3TPPDV/32kbb3gDv3baLY8e+Yab+Oaz3My2Gbdjxw43Ozvrpqam3OTkpBsZGSEPwFAoldqeQtdEDzsAdIB+ZOm3XjtX1dOuHmklwkqWNal32U9c9Q0oofC7yO31SobDHvl2+fWr5iq/+Cpaj22z1m/brAZIXrIuv/rq+apliHrMNdnrNd/fPyF/f+g19lWO4b5Tsq59DQCDioQdADpESbsSV32jiRLT8PvElYgrKX3dixbT5+gbUEIaXvOJnzyZJrf+1xnqvl77TG+8eDspaVfve7he2+Zrv28xvSA3L1k3WsYv7F6oSrzt9Vq25ltjJI/2h/aL9o/2nf9cfzvUs97sr9ACQD9iSAzQYwyJAdBvGBIDMCQGAAAAQIaEHQAAAIgYCTsAAAAQMRJ2IALdHAcHAAD6Cwk7AAAAEDESdgAAACBiJOwAAABAxEjYAQAAgIiRsAMAAAARI2EHAAAAIkbCDgAAAESMhB2IQSG7BQAACJCwAwAAABEjYQcAAAAiRsIOAAAARIyEHQAAAIgYCTsAAAAQMRJ2IAKF5G98dJNbKS5njwBAnFROjRbGnStlDwDoOBJ2IAKFQsFNjGx2KyUSdgBxUzk1WhpPyy1/ErsF0F4k7EAkJse2upXiUvYfAMRJ5VRhZXRNwk6yDnQOCTvQY1bRzU6e4xaW57JHASBOKqcWnxp1IyMjbnS0fKuJhB3oHBJ2IAKq6M7Ycq6bXz6RPQIAcZpbOu4Wnywn6UrYLWknYQc6h4Qd6DFVcqrspjdtd5OjW93JpaPZHACIi8qnkeUJN1rc5MbHx93ExIQbGxsjaQc6jIQdiIAl7eduucSdWDySPQoAcTk+f9jNfXs8TdL9hN1P1knagfYjYQciYAm7hsVMFWbc8YWnszkAEAeVS6WFMTc6t8Vt3rzZbdq0Kb1V0k4PO9BZJOxABCxhV4/V+Vt3uaMLTzGeHUA0VB4dmX/SHX9oNE3QLVnXpHLLEnYAnUF0ARGwhF2nlk/dcoZ71sSL3OG5J0jaAfScyqGnTz7u3HdOcROlLW5yctJNT0+7qampSsJOsg50FhEGREAJuyYl7Oq9OmvbBW7HyE6SdgA9pfLnqSRZXzow6VaeLvesK2HfsqWcuOt/lVtWhgHoDBJ2IBJ+L7sqwXO3frc7s3RRUlkeYEw7gK5TuaPyp/TYjHNPTqdJ+rZt29zWrVvTSQm7DYchYQc6q1AsFkvZ/bYhaIH1KZVKLolJt7Cw4Obn593Ro0fdE0f2uycKD7rl0bn0qx+nxrdlzwaao+OKchnN0lc36ttgVuZG3MlvjqfDYNSJoGRd0/bt293MzEyasGtIjDoaGBKDYaSytVtI2IGIWPAvLS2l04kTJ9zJkyfTxP3g3LfdicnvuKXCnNs0NuUmx7e40ZFxN1oYS27H0tcBxo6lUlLEVxL2ZCrfUEajbKW47FZKyVRcSn/B9OTSMTe6vCn96kZ9G4x60DVWXcm5etWVsKunXWPYNU9D+HQ8cUxhGJGwA0NOvewrKytucXEx7W0/fvx4ZTo695Q7UXjSjcwsuJXCUnkqLWWvBMpUkfzqLc9J77/rivuypCopn0fKyRXlNGS0kCTmbtwVFwpu5ch4+gum+lEkDc1T77l61pWcK0lXwq779u0w1rPOsYRhRcIODDkVAkral5eX08R9bm4uHSKj3nbdt/+tJ36luJI+3wqPbhYiiJOOh3fu2Zre/+WLDqa3Sq403ljJmFBWwyVFhTXgLAFXz7kmJetKzK2H3SYdP5pvrwGGFQk7gLQgsEmJuxJzG9tuk/XAK6nXZM+312M46bPX8fDvvjyWJu7/+ZLDlWRMQxiUbOk+ZTXEEnY15jTpGNFkPemalLxbIm/HDscPhl0361kSdiBiVhhYQm6JezgpKbOEXUjWh5s+fx0Xb/rb4+n93/iehcoP23ChIEKWfNsxoaRcvejWuLP/LaEnWQfKulnXkrADfUCFgk1Kzi1Bt8kes+f6ulmgIA46FpSwX/0/Hk3vf2B3+etClWxpLLImJWaWfGG4hJ+5/a9jQvctMbfJHrcJQFk361cSdqBPWMIuSsJ0X7d23+bZLYaXjgkNlfrhTzycNug+fMXmNGHXZN/wYckY5TXsGLCEXJP1tmvy5wFY1c36loQd6FO1EnQSdljCfsWH70sT9o+/upygK2G3H72xHnfKa4THgP3PsQHUR8IOoCkk58hjCfsPfWhvJWG3HnYSdjSD4wJojIQdALBulrC/4r9/PU3Y/+DKcoJOwg4A7dPNhJ2vCAAAAAAiRsIOAAAARIyEHQAAAIgYCTsAAAAQMRJ2AAAAIGIk7AAAAEDESNgBAACAiJGwAwAAABEjYQcAAAAiRsIOAAAARIyEHQAAAIgYCTsAAAAQMRJ2AAAAIGIk7AAAAEDESNgBAACAiJGwAwAAABEjYQcAAAAiRsIOAAAARIyEHQAAAIgYCTsAAAAQMRJ2AAAAIGIk7AAAAEDESNgBAACAiJGwAwAAABEjYQcAAAAiRsIOAAAARIyEHQAAAIhYoVgslrL7bVMoFLJ7GASlUvkQsVsAcQljNCnX3cLCgnvlR+5zKysr7qOvmnZjY2NufHzcbd26NZ30/+joKOU10EMWf4pd3Sce+0s38yISduSyg1CVve5rUhJgunmQAljLYlBxqcmPUd0uLi661378PldMHv/9V26rJOwzMzNuerqcwJOwA72n2FUcKh5HRkaIyz7SzVyIhB1r6ADUdNnvfrXqYOzmgQmgkZLb/MRidj8RxKfidX656DaNlNwFp4yl5bIlA5YQUFYDvfVPj59086c4d8tbvjttRNtE0t4fupkXkbBjDR2Al/7OXe5rB+bcxTs2Vx4jYQfiUSquuOmnk7isnPlK4jOI0zRhLxTdedvH0mSdhB2Ih2L1voNz7sSWBXfjTz/Hbdq0yU1MTLjJycn0VvFKjMatm3kRCTvWWF5edrt/d48rriy7P/+Jc9z8/LxbWlpKT7OrANEBymcM9I5iUPGoIWsaq65JQ2A0aZ4eV8z+8v/e71TCX/fSGTc1NeU2b95cGRKj4TEkBEDvKE7f+MmHkqZ2wf3BNee5LVu2pMm6rjHRrRrWilHEi4QdPaODTxX95b93T5Kwr7g/eu1plcpfn6sqeeEzBnrHEnZNfrJuDWvN1//vuOXb6Rj2X750e5oAqAdv+/btJOxABBSvP32DEnbnPvIjZ6cJu2LUGtV2NgzxImFHz+jgUwLwgx+8N03YP/6amTRh16RxdeqhExUi3TxQAayyhN0Scz9h12P2+P998yNpMvCrl81UTrMrGVAPHgk70DuKUcXrT/3ZvjRGf/81s+lZMGtUb9tWvlDchq8hTvocu4WEHVWUBKii/8EPfi1J0pfdx169NZvj0oJEPQCq5Knogd6yhF2NaQ1j06T7eszi+Gc++VDyWNH9xiu2pY1tJexKBPhaR6C3FKNK2K/+xANpjH74NaemMap6VjFKwt4fSNjRMypE1MP+iv/+9TRh/4Mrt6UFhia1/nWaTsk6hQjQe6osLEG3W1HiroT9qo/fnz72+68s96hrImEHes/q2ld/9L70/kdfva0qRknY+wMJO3rGCpFywr7iPv7q1XF0Stap6IG4WNJuk/jJgOLYkgHFrmKYOAZ6y2L0X3x4b7muvXI1RmlU9w8SdvRMmLD/wZXlQkMTCTsQtzBhv8KSgVevxjEJO9B7FqM/9KFyjPp1LTHaP7qZsPN9QWiaCg0mJqZ4J7u+xKYkatMp77lMTEy9n4BmkbADAAAAESNhBwAAACJGwg4AAABEjIQdAAAAiBgJOwAAABAxEnYAAAAgYiTsAAAAQMRI2AEAAICIkbADAAAAESNhBwAAACJGwg4AAABEjIQdAAAAiBgJOwAAABAxEnYAAAAgYiTsAAAAQMRI2AEAAICIkbADAAAAESNhBwAAACJGwg4AAABEjIQdAAAAiBgJOwAAABAxEnYAAAAgYiTsAAAAQMRI2AEAAICIkbADAAAAESNhBwAAACJGwg4AAABEjIQdAAAAiBgJOwAAABAxEnYAAAAgYiTsAAAAQMRI2AEAAICIkbADAAAAESNhB4ABVygUKhOA+PgxSpwiT6FYLJay+23TbwdbqVS9C8L/h0lyPLiFhQV3xYfvcysrK+7jr552Y2Nj6TQ9Pe22bt2a3h8dHR3qQiV87xSw3UXM1lcvjhXDiuVhi2NitveI21WK0cXFRfdDH9qbxugfXFmuWzUpPocxRvPEHrfdPIaHJmH3d6ru2/8KGv//9H7ymLHHh4UVIq/+g31pIfLRfzFZKTRUgGzZsmU4C5Hsvdp71m1435/scf8WrfFjz49RYrYxi+N//T++mcbxb18+mcasJsWwJvt/YI/PnDgM7/uTPe7fonV+/PlxStxW0/tVjD586KQ7efKkO3VssSpGJydXY3aojsecWAzv+5M97t92UzeP26FI2KsKiGRaOfq4Kx153BVPHnGlucPOzR9zbuGEc0tzrrQ0n5QsK+nzh1FaiCyvuP99aLtbWFp2L554zI2MjLjRkYLbsnnCTW0aT+6X/4/tc+6owogrTEw6Nz7pSpu2JPenXHHyVOc2T7vCth1uZOuOdH9oX/m3to+Gal+1ATG7McVkny0lcazp5MKSOzG/lMbs6OiI25LE8OQwxHESs258cxqrxGx3ELfN0/5ZWimmMTq/uJzGaRqjyXE4uWnMbZ5QjCbHpXdMDoU+q2vtmO+GgU3YbSeqVa9p5dAjrnTgPlc69E1XWl50I5u3pvPTg2N0zLnRcedGxsr3VdAPqbQQSQqQxSRZn19YdCfnF9JKPi1ENm9KCpKJ9P+hK0RKRVdaWU4OqGRaWarc1/4qLZ5Mj5+VU85zK6ed79wp51TOQqgwsR6SsGBBNWK2fbQvl5NkYHklSQaSOF5YXEqOP1X+I25TkqxvnphI/1dcDyxitiuI2/XRflvR/kridGFpyS0mSXsao8kxNzE+lk6KVz02VPosbu3474aBTNjTD1bB8MQ+t7z/Pld84sGkXEg+yKTFVkgKj7T1hlzab6roVZCokl+0ij4tRMbdpokhLUQaKC3OudL8MVdSz1FSwKyccq4r7ni2G5m9oFKgWKHSrYKknxCz7aV9qV52JQPlBrjiWMeeS+N4fCw5Fof8OCRmN464Xb/yvkty0SRBTRvXSZyqXtVxNqZjL4tXjrtqscWtPsduGZiE3XZa2sJ/6lG3/MDtzp140hUmZ9JCozC2KZ2P+rQfVdHrsFDvnCYl6PpIVYho0n0KkdpKywtJgXLcFZNCZWXzdjd/9ovdyClnu4mJibRA0aTCRIWKDOu+JGY7SzGsPyUCaoBb5VUeCkMy4CNmm0fcto/2pXan4lP702I07STL7qO2GOLW4qEbBiphXz52yC3ff5srHvymG5k+1Y1sOS2bi1ZYRa9bFSKiz3Qoh8JsUDGpyIrHn3JLM+e4hXNe4iZmdlQVJtqXNg0bYrbzLCFQPJvkaEuOt96U0/2AmK2PuG0vS/h0Y4cUsdm6XsWtfX7d0PcJe1ohrSy5hb1/54qP3JVekDCy5ZRkIxjTuhF+IWL0sVKQrEOpmBQkh5LpSXfitAvdyrnf4yY2T7nNmzenLX8VJuoF0DQMiNnuyqtQiOMGiNk1iNvO8WOU2NyAHsRtXvnaKX2dsGtHLR95wi3dfVOyzuRDmNpevqAFbREeiBQkG5RUdsUTT7vl5WV39LzdbtOpz3CbNm1KewFUmGga9H1MzKKvELMp4hZ9pYtxS8LeBA3VWH7sPrd0z99wSg59xU7dPfmM73UjO3a6qamptCBRgWKt/0FMAohZ9KthjVkhbtGvuhG3JOwNaActPPglt/KNO9zo9rPSq9GBfqKr3FcOP+aeOvW7nXvmrrQg0Q9lhOPtBgUxi343bDErxC36XafjloS9Bu0YtfYXv/ZpV3pinxvZtoMr0tG3dIV78cgBd3TzGe7kM78v/SVZjbXTpJb/IJxuJ2YxSIYhZoW4xSDpZNx2M2Hvm6tFtFM0qQApPvZ1N3rK2RQg6Gs6fkdPfabbevzbbvMjX3LHjx938/PzbmlpKa0s7ZjvV8QsBs2gx6wQtxg0gxK3fZOwp639B7+UtvbHZs9PPgGuTMcASI7jsR0XuO2LB13h0a+6I0eOVAoTXTBjhUk/ImYxkAY4ZoW4xUAagLjti0jUTtRFLysP3pmemqMAwUBJjueRmTPdjqMPuGJSSfqFyMrKSnr891sCQMxioA1gzApxi4HW53EbfTSmBciRJ9zyvZ8qX/TCqTkMoPSUXXJ8n3P4Xjd3aL87duyYO3nypFtcXOy7HjtiFsNgkGJWiFsMg36O2/gT9pUlt3TXTenXSXGFOgaZjm8d5898+qvuxLEjlUJELf9+SgCIWQyLQYlZIW4xLPo1bqNN2LXDNOlX1XT1Lt/9imGg41zfE3vaU193R48edSdOnHALCwvpKTuLiVgRsxhG/RyzQtxiGPVj3Ebdw7587FD5J5D188fAkNDxvv34I27+6QNpIaIxdv7V7DEjZjGM+jlmhbjFMOq3uI02YdcOW77/NjeydQc/gYzhkhzvI1tPd2fPfystRPyWf8wJADGLodWnMSvELYZWn8VtlAm7dtLKU4+64sFv0uLHUBqZPt3NLD7p3JHvpIVI7FeyE7MYdv0Ws0LcYtj1U9xGl7DbDlp+4Pb0ogC+VgpDKTnuC8nx/6yVR9NCZG5uLtrxdcQskOijmBXiFkj0UdxGmbAvP/6gKx0/lLT4ufgFw0vH/6blE2786KNpIeKPr4sJMQuU9UvMCnELlPVL3EaZsK/s3+tGprZnjwDDa2Rymzt9+cm0ENHkf/VULIhZYFU/xKwQt8CqfojbqBJ2FSDaOcWDD7nCxGT2KDC8Cpun3anFw2kBou+Kje2CGGIWqBZ7zApxC1Trh7iNJmG3HbJy6BFXGBnlV9aAhOJgJImHzXOH0tN0avWrEInhghhiFlgr5pgV4hZYK/a4leh62EsH7nOFcVr8gCls2uLOKBytFCIaW2eFSK8Rs8BaMcesELfAWrHHbXwJ+6Fv8rPIgEfxcFrpcFqA6DSdtfzTeOlxQULMAmvFHLNC3AJrxR63UQ2JWTn6uCstLzKmDvAoHkZKK25soVyQaFKrv9dj64hZIF+sMSvELZAv5riVqBL24pHHkx02lT0CwIxumnJTy8fTU3QqRNTqjyFhJ2aBfDHGrBC3QG2xxq3ENSTm5GFXKBSy/wBUFEbcZGG50ur3C5FeFiTELFBDpDErxC1QQ8RxG03Crh3i5o4mWzSWPQKgIomLUzaV0tNzKkBiaPUTs0AdEcasELdAHZHGrUSRsFvLpbRwzBVGKUSAkOJCrX4VHnblei8LEWIWqC+2mBXiFqgvxrg1UY1hd/PHnRsdzx4BUJHExWix/FPJVoDYJL0oTIjZ5vzAp7e7zX96mvvEQ5uzRzAUIoxZIW6BOiKNW4lqDLtbmhvo03RWcedNQF1JXIyuLFQKEb/V38sCZNBjNs/Dx0bcu782tSaen3fzdnf17dvcf7ufxByJWGNWhjBuQ4rjt/3DdBq3fhwrrt/wxWn3149OZM/sHW2fbRe6JOK4jaqHvbQ0P9Cn6Z69ddm96LQVd+ZkuaUm+l9TN1miocIA/UFxMZK1+q3g6HXhMQwxG1Il/oOfnXHvvnfS3f3kaPZo2b5jo+6WR8fdf7xrizvvplOyRzGsYoxZGca4DSmOv+dvt7uP79uUxq1Pcf3Jb21yP3H71qqzYrrf7uTZEnLVyYhDrHErUY1hd8UkcS3E1enfTp946XH3pVcddleevZQ94tL/NQF1KS5KSUMviZMYCpJhiVmfKvlrvzTtDsyNuOnxknvTzgX3uSuOuvmfejKdPvR9J9xPnLeQztNzMOQii1kZxrgNqWddcXx8qeB2bl1xv/7iE5UYVjy/6/lzVZ1qvfRTz1pIyxVN6JII49ZQqwB9KIbCY9i88+6ptJJXQv6xHzjuPvi9x91Ld6w2vt9wwXzaKP/rlx/r+lkzxI+YjcOHHtxcieObLz/qfuHC+WyOS+P5XZecdN+6+mn3ixfNZY/2jrZH5Yom9EZMcRtNwk5hBjTHYkW3NvXCMMWsxqzbqfPfevFJ99pzFtP7eVTJctYMvlhiVoYpbvPc+UR5bPpzthXd+Vtr96S/90UnSZSHXExxK4Visdj2LWj1Bxl02mF+ft6Vbn2fGzvr4uzRwaVxaxo7JzoN59M4ubf+/Zb0vubp/z95eFNSyJTHG+oU3n/47vwWty52+1/fXn2uqKdPY+d/9tkLacJhy86jU/zqNdQ6dfr/G0dGqsb3ad0vPm3Z/crzT64p6Gxcn07d6Xm/dd+ku+PxsbQnQ6cXNVRABWCeLz4xnj5fYwdtKIGW8ZokKbrqnKWqXkydzvzNvVPpsm3b9NzLzlh2//7itds1SJYf2+tuLT7PzWzf7mZnZ92OHTvc5ORkOo2MjHT1h1CGLWY1xlTHp461f7qqtWTcXqvYsLjVMf/hBze5B4+NVY2FV6woZvW8vEZBoxj3Y6WV56IzYopZGba4zbOeWLbX1KK6utWYrjcWXs9Xo9/yAfs/pI6EW/ZPVNanswaqC19+xmLVmQO0ppW47WYSz5CYiOkbJxSsfoVrSbcC2aer2nWxm56rgkgBrlsFsi6g+dNvbnLbN5ULDgW1WEFi01lT5WT3Hw6NpRfP+cm66H8tSxfrKHHOo0T/FZ/dlr5eybooCf+dJCHPu8hVBY493x/3q3XpNf/h7tUGhn+h0IH5kcp267l67KrbttXcrkHit/rRHVYhqjJsB4ulMAlQDCgWwgvepJkYN608F51HzMbj0h3lpFkxqPqnGWrkKn6M1T02SasxrdfZWHnVyf7ytL56VM/p223Ci99V52pdiv2w/EDrYotbEvaIKfD8C9t0a4XGb3x9NRjVsldBIerFU6+BWuO63XvV0+kyto4X09a9HtepQNHFr/rfJo3dM1ees5RejKPXa92adDGOChYVCr92b35Bp22+dMey++TuY+lr9HotS5RU+wm1ChQVOKJCyl6jSe9DvfJbRsuBotf94le2pOvW8r7y6tXt1jq0X1Rg1touYL3UUDTfe3p7EnbRMa+YCi9c3UiMSyvPBYaNztpap5XqH/Wev+Puqao4D+naFJ3ZNlb32GRaiWm9zr6AQnWyvzytr57Xf3FbWt/pfWisvdXTdtGstgODh4Q9Ykpg/QvbdPuzzykXGgpWc3OSJIsKhXCojIaIaBm1hqPk0fNv2l2+GMcfYqKE/jVnl3sndNovjwqPz15xpHLqT6//zRetFj42flB08Y+ocFEh5Z8u1PtQoaVliYbBqKdCjQFtm79dum+F6af29/67czFYDi+0v5jU8a1jXjHlD03R4xuN8XaXB8AgUbzponFL2tVDrbO56gE//c9PTc9sr6d3utWYXi9tm/Wq63oaxbLVh1qv1q/tCGMf/Y+EPWJ5Y1hffOpqy9l6BM7OhrKoMKjXS9AOP3hm/R7Gi2fW9typMLFTf3uPlA859ZhbofO68xoXLBqzLv/ymQvpbcgKJ/XAd3ofAJ2UN/a0lRjvZnkA9CPVrTpLq95odQJZ8m5DSjTsVIl7u7RzPPnfHSjXhXkNcgw2EvY+47fcrefvh89erBQ46iXQ2DaNF9dFZ+sd063XaXyfCi2dMrRfg6t30Wo9Z02Vt+/YUnl7/J72Zgoz65n48Dc2p9uTN5lO9IhieOnaj05RjGq8uR3DirG8i9FaifFOlAfAoFFHknqjdRb30L96Kj2jrTPE1rmkxD3vuqtGmo3p9bKz2+26ngb9g9J7AKjg0Sk+G7em5FbjxXXhycU3n5Im3a1U1ErUdXGnxvep0FJPuJapFr2mXtJ2aHvyJqAT/DNddoZoo9TzrV9DVYzahWqa7ELwUCsx3u7yABgGinMNL/m7JIG3eu6W/eXhZc1oNaaBVlFqDwgVNhq3Zhed6IJNv6fg39/dXE+BLlhToq5Tgypk/F+B00Vr/oU3vaALeGx7ak2cJkS7WYX7qTYNMdEF1LomQzGqeLWLxvSDLYrjPK3EeLvKA2DYqMFrvdf+N5c1sp6YBlpBwj5g7KITXbCpgkIVtaiSboZ93Zt6GFTIdOq7XP2eep1CbMSSjW+f5JBF912ZXWyt3uqNfl2aXm+JgHrzFK9KEprVSoxvtDwA0NhGY7oVVhfadV0YHmQ/A6DeV1I1uki0lm01OhL1He3toETCkvYbvpWfAOm0vcYCyu4zymP3P/pg9VdD+vR4Oy8UAsxPnjdfqSh/6a76XwGn4/CKz85k/9WXV6nnNQhaifFOlAfAoFCdUi9+5atPl+s5XZDaqmZjer30o0hSr/NAw1rbuU7EgYR9AOhCTl1cpgtkwmTWCia/4LEfZdD4PA2B8dmPJ2nsnSp+o+UoCdFY2Haxr7rSurRs21a9BxtHbxfY6NdVdSGdejF+MHmu5tt7TYfxJP/rcXoO0QmqhH/ne06k9zVc7NovTafx5sePKkglAzpu/R87C/lnl/zx5FqWlpl3YXcrMd5qeQAME9Upig/VOTq7G8awHledJK8/f/VbyewHl0Sx5VtPTMuFM+U41PqaTbB11tvWp84Dvy60etp+3wSDpVAsFstfJ9BGrf7c8rD8XLIqcxUWj50sVE6f2dhYG+OmoLXg1vi3PHbFucZza7y2Emt9j6yxZX7j6EiaXCjR1UVodvGcChH9umhIP6ii72jWt0qo9R7ScjS2T0mx1uGPywu3KaSr5VUo2TpMuO0hfz0qjJQo6T3VU2u/9Tv7ueRtMzPpTyXrJ5OnpqZ68jPnw/oT54pPVZKNjkH1xmsIitix78eGygL7caOQhq3YPDuWW4nxVssDdE5MMSvDGrc+JbT1GtRG49A1tMWnZDyvU0hx2mpMG12oavmAsXrP8oGwvlUdrsfz6mlTqy5GY63EbTd/BbX6KEFHKVlXxe0Hp/7XtBG6sl3BqV8AVaJgy5weK6UFhb5v1q+cNRxFX2Hl97Lpdda7fvPlR9PXqWIX3WrZf/3yY22v5P1tt/WJehD0FVt/8tKj2SPlC+n0XvS4JSFG/+txXWQHdIoqwFrHoI5ZHcc6ni1Zr0Vjyv2vkBPFo16reaFWYrzV8gAYJvoaR32ZgmLB7xkXxYviJr1YO0jWRT/ap04nP26tHGg1po3GvPv1n27tLHgtqsNVT2t9/nuwulrrJFkfPPSwA32CHnagv9DDDvQfetgBAAAAtIyEHQAAAIgYCTsAAAAQMRJ2AAAAIGIk7AAAAEDESNgBAACAiJGwAwAAABEjYQcAAAAiRsIOAAAARIyEHRU/8OntbvOfnube9g/T2SO9o+3Q9ImHNmePAKgllnjR+m1bALRO9a/iR/Vxr8WUE4CEveusMtP07q9NZY/me8fdU1XPB9AbfiKq6YtPjGdz8l3x2ZnKc2OoeAGs8mOZehj9goS9hz764KbsXr5Pfqv+/FbF1HIH+tlv3TeZ3VtLyfydT4xl/7UHPV1AZ3S7HuYsFNaLhL2HDsyN1DyF/d/u35zOP3OymD0CIBZ3PD7mHj6WX3x+OEsAiF0gftTD6Bck7D1y5TlL6e2HHswvKG74VvnxK88uPw9AHBS7x5cK7jf3rj2VriT+U/sn3PR4ye0+g9gFYkY9jH5Cwt4jrz1nMa3U735ydM14WP2vx1902or73tOXs0cBxOANF8ynt7fsXzuO/c+SCl7J/L86d9Ftae+oGABtRj2MfkLC3kOq1CUcD2un1K88uzy/HhUqV9++zZ130ymVcXEa7xpeSKPHP76vvFwVQvZce35IPYUaL2vLPf3PT3Vv+OJ0zWEAedvxvJvXbocvXIdtS6OLgIBeUiWvSlynysNj9YZvTqS3P/WshfS2Hp2G18Wpii2LMf3vn5638a6KWVEMW6xoyhvTbrFoy1V86cK5WtYTu+E6bNv/4RCtFPSXbtbDeuytf78l+6/64ldNebQMxaM9R3Gm9eWxOtV/vrZJj9WquyVch+7rNUcbv3V0EQl7D1ml7o+H1a1OqWvM3LsuOZk+VouC7BWf3eZuebQcvEoidm5dSSv3d987mRYgRvNsHJ56FPS/Tc/eWt178ODRUfc9f7s9TQ6UlIh6DXXxzeu/uLpMo6TitZ/fmm6HPV/2HStvh4I/LCz0/1W3batah9i2AzGzSvyWJFaN4kDHvE6zv3RH/VPoik1V3Lo49czNxTQOp8dK6f963Cr67ZuyeUnMimLYj92zpqrH1v71oxOVMkExK4qv30mSkbzkfj2xq3XYa2wdutW2W6cA0C+6WQ+rrtU848eyJp+SZcWflqF4NIozxV8Yl0rirU71n6+41mOq0xW7IW1fuA7dD5eD3qv+xNFVqtTD8bB2Sr3RmDkFniW2v3jRnPvW1U+7L73qsPunqw67T+4+llbwKkB00Yxoni3zOduK6f82feKlx9PHjSURv/7iE27+p55MJ61DVAjZMkWFxC/dNZVuswocrVvP33vV0+5dz59Lt0NB/2v3Vvc0KPHX45qv59l69Po37WzcOwn0kipxVeaKB+sRt8pQPfD1qLdbsalj/0PfdyKNWcWhYlixIO+/b3MaW1qW5ilmRTHsx26YTGi5l+5YropDG6erCtiv5NcTu3r9tV+aTl+jxEPbb7Gr+1o30E+6WQ+rrv0P310eUid+LGvyKfYOzI+ksaiYtBjTMrVtYZ2qhr5eo3LJr7t1X7Gq17wzONOmRrw1NFTv2no+d8XRShmAeJCw95hV7jYe1r5i6t9fXL9V/95/KgeeCon3vqj6uVqmneb7X99uvcdLla4KnF+4cLVg0TqsZ+D+I6unvXUaUQWBCgkVOPZ+zt9a7pn4f59f3jb1zttpPCU4SnTkYz9wvCrp0Os/+L3VDQggRlaZq9LWsa2KTzFiY9zzKOH92L5y5a1jP3yuYkHJs2Lq5qwibYXKg89ecaQqDn/zRavxdOcTqz1s64ldJTT2mpsvP1q1/br/+vNpbKP/2LEfUz2sGPvKq8uNcsWkKMZek53de/DYaj2sXn4l6/KnLzteVXfrviX6eo6dvVNZ9OePlMsDbb/qXVuPGjFar3UUIA4k7D2mAFQlr9NWOjWlW7X2LXDyKNAs4X3rs/OTA7tIZs/TrZ/Seva26lNz5jkz5W3SkBlj2/ET5+VX1CosVPCIJSB/d6Bc0Oh9W0EJ9BurzJWo2/jX1z2r/vH8N/sn0oS33rH/wlPKsXv3k60n7BdnMepTWWIxuPfIapG/ntjVsAHRN+DUK6OAfhJjPXzWVCl3/c/OkuhvHPVi+alyXKqzLW84nh677Izyttx+oBzLVhZJre1HXEjYI2CVvJ2a8nut8vi9ZBpaogtZwuk3vl7uxbOAbAcNk5ETK6vLVMEmeYmCUcEjx5bKz7WeAStAgH6kytSGmyh21YPlny3KY2endKo7L241WS+fH2cbFcagrCd2rRfvB88kdjFY+qUefmZ23Yq/TIvlWp1tEtbfVhbpjB6N7/6wWnqjZ1TJ21gxBU8rvc5q4edNVrEC6By/UrfT381QZZsXt5qs8gXQPdTDiB01QySssm/mK6R8dmFJvQlAZ6hSV+UuzXyVo9Fr8mLVn8KL0AB0FvUwYkbCHgld8KGgbnRKXTTWztjFYL2SNzY29NjJ8im4rePl524ZLfdi+GPhgX6lxFqxmzd2NGRfw2gx0UvriV3rgaz3GqBf9Xs9XK9O1TA8sfrXYtofC4+48Un1ISUGVlj86j3VX9PkUyGiHzvqJPv5dX2ThC7CCenrrOwU/1XZeN/dZ5ZvdSFO3mvyvisWGAQ/eV55CI1iot6PGemblOrNb4f1xK5dd+KP3/WRyGNYxFQPv/yM8hkBfSVzXv2pbahcMJ7VvxbTGp5nX03rU5kQQ8cCVlG69in7LlcFqC5u8b8bXQGr71fVjyv4X/104Uy5stXYurwAXY+fffZC2uumil0X3lhhoWDX10f95+y7YnVxnvVAKmnRa1RQ6IcerHdCt9pufc8zMIh0cZf9zoB+zEjfSOFXsIpLPabvVPYvELUfN9MFqRYvG7We2LVxvSpDtJ2W6Ou1+l/vCRgW66mHL92xOtwm78fM1kPf6GSNh1/8ypaq7dB9lSeqb9UTb2cPFNM2nE+/x2A5gcX/D352ptJgRxz4NPqULnazH1lR5fkf79pS+Vnhn7h9a/ojKf5V5OJ/TZsC2J6vgma9FPT6vmZV/NoOrVvLvPjmU9IflNA2qCDxvwtaScvbLyoXdLooR78Sp9foVtu965TVU43AoNFpd//bZSxmNCku7VsqfEquRRWoxYumjVT464ldlTv+tuu5eo1eq//54SQMk/XUw/63S2m+PV/TRui71lW/q4zwt0P3Vc8qzn/ne05kzy57x/PK8a9ttJzA4l+/vGz5AuJAwt7H1FLWL5Lpe5StdS0KQFWcKkj+5KVHs0fL/u6KI2lhoeeIbq33br3UEPjrlx9Ll+sHuLZJ26AfYQq/NkrbHv4yoj1fP/wCDLKbdh9Nj/8wZnRfj+nXCf0fEFNyrV9O9ONFz7Ux8eu1ntjVtmueX+Zou/R++OEkDJv11MOKIZ1p82POervXS2WE6nct198OrUOP6UeYwm++0f8W/5YT2PP1w2j2ta6IQ6FYLLb9EykUWhv3lGyDm5+fd6Vb3+fGzro4exSAb/mxve7W4vPctpkZt2PHDjc7O+umpqbc5OSkGxkZaTnuNoKYBRqLKWaFuAUaayVuS6XuNWroYQcAAAAiRsIOAAAARIyEHQAAAIgYCTsAAAAQsWgS9u5eegNgo4hZoP8Qt0B/iiZh7+aVtgA2jpgF+g9xC/QnhsQAAAAAESNhBwAAACJGwg4AAABEjIQdAAAAiBgJOwAAABAxEnYAAAAgYiTsAAAAQMRI2AEAAICIkbADAAAAESNhBwAAACJGwg4AAABEjIQdAAAAiBgJOwAAABAxEnYAAAAgYiTsAAAAQMRI2AEAAICIkbADAAAAEYsnYS9ktwD6AzEL9B/iFuhL9LADAAAAESNhBwAAACJGwg4AAABEjIQdAAAAiBgJOwAAABAxEnYAAAAgYiTsAAAAQMRI2AEAAICIkbAPkI/8zRfcv/u9v8j+6559+w+6V/2H33Vf+NpD2SPd08t1AwAAdMNAJexK3DqdsF7/J59O1+NPSpTRGf/Xe/6wal+v5/PV56PXAv1Gx///vPOr2X/do5jRurtJZWsvOhyAdiFe0UkDkbCrd7WbCdnF5z3Dffo3/m06veunr3R/efuevujhVXBttHHRrX1tPecXn3tmZV9rkl4m3yqMu10wDis71jrdINbnqfX4E2dsOsM+U5uIpcFBvA4e4jUuA5Gwv/uPbnE/tnuX2/2CZ2ePdM/LLrkgvT14+Fh6i/b44F/dnjaMrnv9q7JHyt73cz+e3rZSKbzlh19WSfbRH/T5Kq67ReWHNQp1v5vrXi9r1Op2I7Svu9FTZp/pB97+usq+vvqyF9JLNwCI18baFa/q2dbUacRrfAYiYdeBpKSsF+z01yXnn53emrAXwO8B0Gv0mC+sNPV66821ZYSn2vQam9eo5avn7P3Wd9KzAbrvB7zWa8vRFK7H+IWyPTcsfPzlhPP87dVUr1dE23rp83dm/1VTw+y+Rw5k/5WpwVRr2bYffY22RfvH5tlr9diHbr6zal1oP30WOk519mp2+9bs0e656NxnpLcbrVixSvvSPtOdZ89mjzr3o5e+sNIIR38iXgcP8RonLjpdByWTlrApgVMC6R/USvD8oRxvverSNNGtl6Dm0bL1WluG/rdCSUmoBZTN1/+16DnqsbaeCeu5tkaCHtOk5Wk9eUm7GkWaL/Z8/33rPdrj2ie/9oefyuaUE2Rtn83XcvT8vELWHqtV+J++fTpJmo9n/5Vpm23Z1uNSqwBvtC1KzPcmDQKbf9kLdqav0T7TftZ22Ty0n85aad/a2atuu/OeB9PP2D+2dWxYzNvk0zET9jzpfx03Yq9XGeAvIzxG/Qa6vTaP4vPn339Del+3er6VL4221adtVCxYmRY2bLUeW0b4/sTf3vC1vtv2PJDu01Y/U3/5efvX5mky2m/+462Wu2hNP8arjh2/00p0rFm9Z3EaxmvIPz67Ea9a3+3J+9Wk54UxEXO81lo38do8EvZ18Mewa1JyZwenAkY9sP5QDrVKdfDf98h3skeao8TTAsZ68A88dTS9vT9Zp7bD5utWz2+FAkMV9dt+ZHf2SHk5Wq6W3ypL5uXCpMHiDxO64559abJrtB7tExUM7eCv2862fO3h/eltqNG2qDDUqT+j5fXqDA66Q0mrVRjh568KVZWsjhmLeTVI9dxW1WvUWhli8w8ljdJaQ+1UpuhUtdgpax3HrW6restUbliZ9sfvfGM2p3zWSuWALUdlhZ+UqNL1OyZ0Py9JEL2X2aSh3Qot/1fe+Jrc9ZfL2eOVeZpE71+fpX8aX/sFg6Vb8ep3BClG/OO7F/Gq+NR8TXqu39sdc7zqVsuzeVbOEK+tIWFvAxUWOjiNkr+QDlYFwXr5vQdy8EgSUDOtBVQt4bK1XC1/I8J9oMJEhZ8VsppqFW6m1vxmCpO8z8A0sy31Xo/BY2eeNKny0PFhlc2Nt92VVtaqdM01l784vW21N6heo1ZliJ94qNHf6nHYzm3Vuv2OBy3XyjAtS9vuz780SSL0HlQJt4Mqdb9s8tcvWn+tddVqrGMwdCtelYCai9J4XT3+iNdqjeLVz5FCxGtzSNg7IEz+RIGuoRzSjmSwXcm6hAHbzsaA0Xv2exFsyuu5VtDr+bV6+dWjUmt8u8n7DEwz21Lv9RhsOv7Ug+VfJxHGg1VMGzlO/HLAYrATZUM7tlX85dqy/Eavzh7UkjeMrRElGf7y/QpfCY5i2IYXWLKm92oJnB6v1YOIwdGteD3dWybxula9eFXdqkaWzbOhR8Rra4YiYdepmk4eCDfd8dW0wBBrKfvj42yYzOW7npv+f+ap29JbO2h1oOu0UCvUO6fE1QoOLauZZfgtXhsKom9kMdoWBZpa3/W02irX6Tftp2apMtb7s4rYpKf1gh4J8Qsfe034HNNoW/RZ+vO1b/3t2GhBiv4TnnEKK2xrjK+XVdLt0Ghb28GWFTZ6NeW9F10YqLhR+dIMbbNiWmckbLmKe5/iW4+rwlfZ5ycB9holHeFYZQy+RjEQJsmtIl6rNROvStr1uJ6jBN2WTbw2byASdmu1KcFTsqn7Suw6xdZhkxJA/1STKhBti83XwanHLDB0q9amtSp1qwS1FaqslFhaD9Od91aPy85z9WW7KttlQaHTWP77saCrNY5MjysQbb1WuDSi/aP9ZOuxqdbrtR6riP3naxl5V6nrvdtzbExcLY22RfM15MYeV/Juve/a7yr8bB66T5+T9n3YmGsXLV9xYmdx7NSxJYSiU9k6DixO1Pum59gxpG3T/61QXN10x2qjW50MzTQO7boWaWZb87Tam2bLavYz0PNVXql88WNe25nXmeK/J9Frau1PK1fzEhzF8UYbU9gYJWaKV/+YbKd1xWtyTOg1RvVhqx0xPY3XIMlvJKZ4tQ5Lu/URr/UVisViKbvfNoVCIbvXnGQb3Pz8nCvd+ttu7KyLs0eB9lAho6TbLnTpV8uP7XW3Fp/nts3MuB07drjZ2Vk3NTXlJicn3cjISMtxtxGdjFlV8KooQqpA1JhSZaAGoxq9eUOqWqXGfVjRqgHon6HRMaSGtVGFGh5PqsisktK2iiofbaNts98YtvepniXjNwK1DWqIKxGpdbZIiYYlHrbsZrY1ZOu156pi18XZ/uuske93ToSNViUx9b72Tcv1zwT625YmTUkiYq/3n6vnqZEtWr//vsWOhfC9N9qeTospZqUTcdsoXm1+GFPr1a549Zej40dDaizWbJv9jra8eqQX8WplidjxHXu8+mWj2OcVW7yaVuK2VGp7Cl0TCTsGngoSFcYxFAQbMSwJOzAohiFhBwZNrAk7F51iYKknQj0KavVrOBAAAEA/ImHHwPIvZrFhCAAAAP2GhB0AAACIWEQJe3fH8gHYKGIW6D/ELdCP6GEHAAAAIkbCDgAAAESMhB0AAACIGAl7h+jrBDXl/SpYu+kHDLqxHgAAAHQfCXsHKIHWL3bp6wTb9WM99p3i/gQA7aIyRb/wWIt+ldDKHt3vBdsGIBb6xVT7VdHY6EcDG3XmafsVU7rtFa1b24r6SNg7QD/Xe1H2s7ztoErKftbcvldc93sZYEAnWSVikxqsnUJlsZb2R5gY6yfE9ZPiKn/a8RPzGBzDHq+nb5/O7sVNn42/7+y+YvqP3/nG9D7iRcLeAQcPH8/utYdVlP6P/+g+AYZBpErkshfsrDROdbbq1/7wU9nczlOPVGwJQa9ZAnbJ+Went4AZ5njVGamDh4+5t/zwy7JHymfYY+1xDx1KcpWL29i5iM4iYV8HFRB+b4KdHrZhKwpg/Ry+7tc6xayA9pdRiy271R4tv8cjPCUWbr9Roec/Xu/0ONApqvz8CvDqy3alMdXJXjtU0/5X8mUOPHU0uwdUG+Z4vemOPenZ7n6hmPY/K40GQP8oFIvFUna/bQqF1n6YIdkGNz8/70q3vs+NnXVx9micLPm1selKat/9R7ekPeCWVCtZVo+DHxg+JesXJq1ae364TJ+S6Dvu2Ve3N13LU+DZ67X+X3nja9Kf5hcl3z+2e1e6PWoA3HTHV9csT4Wrht184O2vq7wOcVl+bK+7tfg8t21mxu3YscPNzs66qakpNzk56UZGRlqOu43oZszqmNVZJj+BbCc/Xv0GrOx+wbPdda9/VfZfNf+5Fl9iZYLxywbF832PHEiHzKlRL+qRrHWti8Xr1Ze9MN0HYs/XdisxEiUN/hk422cmbx3+9msb9Xxbjr/Ptc22rTK7fWtle/zPxN53rTJE5dTt9zyY/VdOHmoJ92HedhmVn3u/9Z30vrbNL9vCddq2hcv3P792iilmpRtxO8zx6sek1HqunqcYUmz7Maz72neS99pw+WHc+7GqWNB+0vbbcurtO71vbU+Yuyi+Zmemc/er5Q2mURz5seq/P3+7pN5nEq7T/8z95ct6j8FW4rZUansKXRM97C3QQaSD4W0/sjt7pDw0RQfe/UlQNEsHlx18osKgncNoVGH5Faa2T6e+jAK+Vu/H1x7en90D4nDnvfvSY7gbVMBrXap4dL9e5W/P0aRGtWJKZYR63exxS4T9eFMZoni05+h/VbS1KF61D/RcJZx6vtavZesxbYdfuVnCpOfaOlS+WMeAqILU+7T5Wn4tqkSVGIiWqfLFyi+ty9yZJMZaZq1kXZ0Utj49z98en1XWWqeeq3VaEhPSMtSja8sVrUu0HCXrNk+TbZuWZ/tPU70kA60Z5nhVbCiB1KTn1krsxT8G9Xwd8xbneetJY9aLIb1Wr9F7EMWiknWLG833G9ohPUf7zrZVMa2kWfvGaD9oOy5NnhPSPA19su3RerU+256Qxbs9X40Av/wwjT6TD/7V7VWfpX3mWpbKOXtc06AhYV+HsELSgdfqqSUVIDbVC6rTtWyvRd0MHfD+8hVwRkGpAFALVfOsQNB7sopRj9eqTIFuUiGs49dvJPeaVTJ+kmeNZDXg/Uraxnz7Q0rU8+UnFqo0/QZ1Hlum1mEJivWsXb7ruemtVWjqJdN8v5xSb56VA3qeyhQluqZeYlGLKno/0d/7yAF36fN3Zv9Va6WTwhJ/e396H36vuU/b7fcwKqEJy+JaCUQrnSxoDvHaPD+GLSH2t0XxZespJ6PHqrZD8aRtu++RclzrePbjRrdaRytUlmg9FjPqwNM6/BgzYVzac/LyFUv8/TInLBOMltPoM9FZgzxat5WDg4iEfR3CA0IVhJL2Zqml7LcQ6wWVHaxW6DSibfN7pzQpiH0KEj2uBF2NBVu2AtBeo8rUeqqAXlCloQakjmU/+YyBKrFaFDfWWPZP3dbSStnRLDX0fba9Kh+s4jvz1G3p7XopyVAlrGXqs1JlmVcBG9snmup1Ukiz+0Tr9pfrD39Rxa9jR+Wh5vnlmRINNTDsddg44rWz8t7D7PbpSlLfah6SR5+b8gU1mkUNcvW616IOP9t3zcRRs2VOvc/Eknmbb/mYyp68zshBQsLeAlUAChqdkjEqpFRp5Z0yqiVsgfqnoEIKICX0Kgit1Su6r8Q/FF4cpoPZetZCVqjWKgj65auqMHh0fCvRUgGc17vTa3m9SKJKQomgNXzVKO6FQ0Evs22vYn6jibrR56LK/bY9D6QVvHoEa2mlk0KaPWOpylnHiC033AZto81TMu9X4kra7TV5ZSmaR7x2Xt57UMea1dPtakioF1yxYrmDncELqaNPDW/bd5oaCfOTPM18JkraNU/liJ/Q1+qMHBQk7C1Ke2aSg9had9ab3UohpefrYLJl1GvBik7lqSC0niJbr386ymg7dBDbczXGzK/E/JarJj1Xr9GB7T8ujOtEL/iVf16PrfWqdrIHpd4pb9smf/0aQqbtCl+nZLbbVJ6ofLGeJ9EwGSsHlLSrkX7jbXel/8t6E1YNgVGHgyr4ep0WrXRSWM+930GRt33++zN+D3tI7zk88yBKeNRBgfVpFK+ar3jtZPIUW7y2OkS2EXsP/lki7U/FlSXUukbEEm2xhLpVygcUK8od1CC3jr1Q2ClQ7/PVMrQsjU03+jzyXtPKZ6J4zutwrNcZ2c/4lhigTwzLt8SoMs07K6SEU+MeVSGpV0WNzXY0KpUM1vqGAltnyLbB+Nui5VmCqsdVaVqjXpWUklW/sW2VcN56VKHp7Jrfe6X9ozHgtj7bFvUqWUWlZfrJa/g+wu3X9mk91kMartf2ib8Oo2RMFWNeB4Lx96lov4T7wWfrN7b/wu0Kn6fl2rdiaF/7CUt4/Pj8/dtOw/AtMY3itVFC36qY41X8dSlJ9cdjm1rvwT8Ow/XkHbdhPPpxr3WrQa1hLbYN4Xr12alnPnwvFjuNPjP/s9e+V8+4rpep9Rp/X/v7Jtyuep+JdSga2wdhmed/xq2K9VtiSNiBPjEsCTv6S1jZYtUwJOwYPHkdBcMk1oSdITEAgHVRz6B/Wh5A/1OvvHrMERcSdgDAutT77nUA/UdDbzTMpZUv0kB3kLADANZFY1/zxugC6E9qfGsojMaLIy4k7AAAAEDESNgBAACAiJGwAwAAABEjYce66DtP7Xti8+jCFX1fqqZ6z+sm2yZ9swUAAEC/GIiEXQmhJYea9B2inaJ16ccCsMoSYX+/f/Cvbk+/FkoXr9T6gYl20/dB+8fBej4n/WCEXgsAGF7U9YhN3yfs6fcAHzmeJoaa9OtW+sJ/JZHdoCRViSKqHTx8PP2p5G6wBsPFyfrsONAkvUy+OTYAYHCpflEnD9ANfZ+w66uH/K8Vs1/b+9rD+9NbdJ59DZT/c8T2s8LdoN58fRd02JNvx0UrBaqOH0v2MdzUw9bqcC71yFGBA2iVOnfWOzpAZU6rZwMoq/rPwI1ht5712e1b09tOUmWu3nwlp2pp1+vN1XPtOWGvqz2uyU8QdPZAj9mtTfXkPV/7RIFp/+clIf7zNYVnKPztzysY9LgKG1u3aN/Ysmy+T/uhVoERvod6BVn6Iw/P35n9V03Dcu575ED2X5n/eWnSukxer7i/78LnS95nq8eaPTYAAP1HnTvWSQh0WqFYLJay+21TKBSye81JtsHNz8+70q3vc2NnXZw9uj5Krv7y9j0d6yVVIqYhONZ7qwTvpju+6v74nW9M/8+j1+xNkkZ7jiWpCnQlcratSmx//v03uLdedWnaW63E8N1/dEva+LDXWrJc68dKLDH8wNtfl/Z86/lKaJW4qgc6XIfoNRpKZAWP7UNbRvi/3rOSUVumaBnhMv3/w/1m782W6dO8m+7YU7WPtb6859r7eddPX5n7Qw/a9jvu2ZfuP3uu2D7Pe2/+52nz7fnhdtf7bJs5Nlqx/Nhed2vxeW7bzIzbsWOHm52ddVNTU25yctKNjIy0HHcb0c6Y7TWLEaPPWg0v/yyRzuDY8eg/349Niz3jx0feOjD4YopZGZS4DWPNrxtUBquTZnZm2t1+z4NVcRiqtxyrs2w54pcDonLi6steWHV22V9m+Hzx56vevXzXcyv1kvHrY19eORI+5pdJeg+27WLlTr2yKnxNXr076FqJ21Kp7Sl0TQPVw66ETMmVEsWY6OBXUBsFogWjX3ErKBRsh5JCwvcrb3xNds+5i849M0kkqueH9P4twNTzrGVaMOpxFSK2DhVumu8XDnbfhhWp8FNA2zJVOOn/VuhnjlWo6DOS+x75TrodeQVBOMzpkvPPTm8PPHU0vd0oJfcmfK8hJfv+8aRt0/66bc8D6f/1PlvET40qxZPi0CZRhadjXJMe85P1qy/bVfVcVXCi/3VMq7LVfT9ZF3uN5odncQA0R8mmxZjFkxJeq1vEElg/DkPNLuf07dOV5+h/i/c84TLFf344X/WL6L7qFdU1up9Xh9Qqq1Q2aZkqe/SYn6zrOjJ7rub7ZVFeWaXXqAPKXqPtCRsT6J2BSth1YOkA9Fu7sVAw5lEQKohtajT2+/Sktd9us0mBFNL2WlKvQkKF1kaEia4KqlrDWEQFh+2TZgqMWvvtULLtee/PV+uzES3XhvbU+ozqvR7x0+fpV9L1qHL0z+ToQmf1wtWi5aqSf9uP7M4ecWmPmtYZDq0CUF8zHUyi59RK1KXZ5Sip9Z+j/EIJbR7V5eEyVcdZb7Xmiz9fyXVep1UtrZRVev9+LtRMZ5+21e+gstfbtqO3BiZhVyKl3jA/GGISJnmiCtuGeliLthfJX14Qa3utcdAo4W2WeqKVqOt9a/m1GlYqTP1WvvZPLSrstM/ur1GIqgCq1zCQvM/GaNnW6+FP/nFW7/WIm45B60VSGaJjrx5Vln7jzSrjWuyskC1fEz1WwPo16mBq1nqWU6/DTK9TXeCXD6rffRup31stq8TfFo0+qMcaAhry6b8O8RiIhF0HlZL1Wi1qnX62U0Gd0Chh07ZpLLNRa1XBFr7OEtlust4+P/jtviXUapn7wa75jRKVPFqe1mXj32tRr7jPeuVrUSGm7QkLMH3u6iEJGwYqkEz4XkPqQfU/u1Ctz9Z0+/NE6/TZW8NQx3m93iRVln4Drt5xLGeeui299RvlNuVdcwGgvkYdTM1az3IaJfNKyMM412Q2Wh+0Ulap/vOH3+h+PdbTryGj9hqbatWP6K6+T9gtOVLC5rcKuzVGVAeygtTWm0cNCbXm7TlK8NRDq9eqwrcWsy60VILZTQpSBaiC37ZP9xWkRtuq7bL5SqgbBX8ter8qtDSmvRZreNn6GlHiYwWYvUaTku3wgh9RwmXP0Wvq9eBrW7Qcf7marDei1mcrzRwbiIdVWH4vmD/cJe9UdF7D1W9w2hmgG2+7K3sEwHo108HUjGaXo+Fs/nNUX1z2gvwztrrWSsuslUTbcv3lqSPRL1eaPUuQW1YFDZCwcWDj5X1h55jqeeUhiNPAfUsM4qbCSgWHXRgTGxW2Srpj3D6+Jab9dK2En3SrIWoNLlWkNnxFFZkafzo+/NPcer4uyraGoX2LkKhxao1PdSD4Fagq2lhjAO3Dt8S0nx9jxu9garaOabQcu1hUjXa7iNWPaVFc+98S45cZxn9NON8vb/yyxX/c1CurxDqFrGwJ35+e7++XWmWVGhH2fo2/X4ZBrN8SQ8KOrlIBpx6KsDCKhQp7PwGLCQk70F9I2AdbmLBjMMSasA/Ut8QgbmrRq5dRpyNjo54P9VDolKe+tg8AgHpUn/nDUoBOImFH12isuU6t2fi7mGibtG2auBgQAFCLfe2whspRX6BbSNgBAACapPHe6tyJcegkBhcJOwAAABAxEnYAAAAgYiTsAAAAQMRI2AEAAICIkbADAAAAESNhBwB0lb4Sr9ZPuG+UfqnRfqUSaJX9Jkenjk9gvUjY20Q/CmQ/Ddws/aqmKhcA1RQXiiebFF+dZJW0P3WarVO/lojWWHlrE/uwtwYxXtf7g0j2He0k/Gg3EnYAUVFD9qJzz6z8kNWP7d7l3v1Ht2Rz208V68+//wb3rp++srJO3e90Enjbngfc7hc8O/21xE4nOINEx4eOhw+8/XWVz0s/D0/nR28MWrwqLsMfRNKym03Ab7/nwTSu77x3X/YI0B4k7C1S4eS36lXRWgUi9rh6AERBHj5fVLnoZ/D3fus76eN+YZO3DmBYvOWHX5ZO5qJzn5HeWky124duvtO99apLqypo3f/jd74x+68z7rhnn7s0qdjTyj2p5NGYjgGVm0rQ/F9M/tFLX8iP2PTIoMWrjq/1Hkuq75XsX3P5i9O6vVP7AMOpUCwWS9n9tikUCtm95iTb4Obn513p1ve5sbMuzh6Nj4JPLXv17IQ/r6+kWkm7WvtGwXv/IwfSX0UTJeIqDOw5+v++ZL5fOITPseXmrRPDZfmxve7W4vPctpkZt2PHDjc7O+umpqbc5OSkGxkZaTnuNqKbMWs9p51IyBSjSgD8uM1jcWn8eNT2qYdRsaxKWtTL6CcxIb+8yCs7xB43SlItSbHtNv72hNvqv87KMKPGgpVPeh+2/VJvn6gjwReuX/tC+8S2Q0mM//np9Uq6Ljn/7EpvqZ+A2Xwl4j4tWw2desmZ3sfszHTlfYm/vf57FnWW6CyHaBiELVtDG9RbatZTBscUs9KNuI09XvV564zMTXd8tfK55x1rEsaL1IttKws037/v8+MsjAv/WAyPU/8YDl9X61gNy5B62x7us7z1az9ZubOeeOgXrcRtqdT2FLometjX4WsP78/u1acCwD/gm+l5UGWkoDCqxFSJ6DQdMCxUqamCsEqqE5W/HDpyvOFYVVVkoiRBkyqyX/vDT6WPGVV0lz5/Zzpfyaf+V2VZi3rUtRzxk3BjFa2WpWWqcrSK0pIWPWbr++Bf3Z7Os0rXtlXztBwrc/Q8Vdo238onLfPg4eOVxzXVos/EX4buK6nxyzUlJIe85el/248+VfhKPvwzDLYf8hIoLXN2+3T2X3O0vbYd2mdKbGwd2iYtz+Zbsq79r+fZ45oGNTlph36LV8WP6lnNtyQ0r17WZ67naJ32/FoJr16v4/zyXc9N/1eyrvrcp/0ktm1qWNqxqGT94uQ1Nu9g8l6tDAljTuzC6nrHqv8+NTVK1v1laJnhxdt+uUM8dB8Jewt0gFrFqQCy4KvHL8j8lm4tal3b8m2yFjcwLFThW8Whik9xUK+h20mq5PyK7sJke8KYVFJgCaYl4PXiVpWhhsMYvd4f86oEVomsLUtljyWTep6ebxWmnmMJUjMNfvV+59H2NtrH5QR3a9X+sPt+R4ae43dW6L0o2c6jho72h9FZSWvMtIOOIaN9pm1T4mf8swqheo0urOq3eFXya7Glszxy4Kmj6e162dh3i0sl7lqvHUOW0F992a70f1GMqNzQc/RcDaUx2qfaRiX0YcyFMSO1jlXFUyNK1v1yQ7SP9gav1XPs/aH7SNhbpIPVCib1SIUtUJ/Ns+ert6sRBabfIrbJD1ZgmOjYV1x04izT6TPTayrzPOr9sga0GtSNaHtrsR41NeBtmap8VZn7SY5632o5vUYvs95LvQa/JfY2z9anpEHljnrK9Xheb7jJ6+EOk+BQvfdiDR3bL2Fjxqf3rXK3FVquvV9N/v7QsaXExObZNihRsrMTerxeOY9q/Rav7UpA1VhWDNt6bShNeH3Kmaduy+6tlbctiiu9Z1tu+J7qHatq5CvpttfVE5ZZze5rdA8J+wao4gorTr/C1SktX96FZWHlo1NiGlsHoPOsd80StTw6S+afqg57olplPeR+g1xTmOSE5YevVm+1ltGowW+9oTaUxShx1uM6i6get1r7JC9hVsWuCn69tC3aL1qn3oP1foY0rFDrarbnW89TcmOn8TWFiYn2jR5X0qPn2rK1DfYaNSLqNWLQHb2I12ZYD7l/nNm6w57wej35eWclFFc6Zv3l2mTqHatK2vW4yhw1ZGoJk/Nmhh+hu0jYW6BCwlqq1lq1ilABo9Nh1kOlwFPF6Le4w+Rer1WQaJ4Fkk6RqbCx19iUF8jAIFKF6ydkijvFiY0NVSwoJtqRQKlHS8min6iJ7ltMhgnqRr6uTduuMiGvB1lxb2NeNV/P87fJtsdOh1uZoFsbntdKg98SgZD18uXNs9P8/r63+9ZTvh5art6vtv2yF+zMHl1L5awSD39cvugYsX3gC5MQS6zyWM9nXg+o9sVGGiSDrFG8ap7itV6S3axux6uv3hkkG8IW9pD7DQzN03NuumP1wk7FjubpuNYxduNtd2Vzymfo9b60DO3PZvdfrWNV+Uet6z8UU36vvajRXi8W0X18SwzQJ4blW2JUSYXXe6jnyipDJWpqGKvi9nuON0KVYVhhWQ+Wrc9ovXaBlihhCb+VRMmDvokiTGJtPfZan71v9fSqAg+3yR4XVfTaBuPvH1X0Ya+ezVfi5LPHw9fU27d5n4//frRtanjYmHux0/S2j7Qd6n3094/2o5J2/73UEr5/JSm2vvDz8N+bEibxv8lD6zS2TeHyldD4n2+zhuFbYhrFq80PP++N2Ei8KjaViPrHt45HP75C/vryYiNvmUbHmNhwND3XGo06Hu1x8ePTP+bC9yQ2v9axmveavHLHhLEQvs+8mB1UsX5LDAk70CeGJWHHcFJirWFAfgLT74YhYQcGTawJO0NiAAA9p15wDfcBAKwVT8LexVYKgDYgZtEmGnIgw3C6veeIW6Av0cMOAOgpJer1xtcCwLAjYQcAAAAiRsIOAAAARIyEHQAAAIgYCTv6jr7+zb7XGQAAYNANRMKuHw7Ql/rbpP87TT9+4K9TPw7Rafphg26tC0D3KK7tm1LyqExTmQOgO1Tf1sslVA9b/d+unKNROdBu+nGlfs8p7HMYBn2fsOvDuu+RA+k3DGjSr5XpV786dQDaAa5fNbN1atIvuWlep2jZ+hUy/YqZfgYZwMYpCa5V2dab14heNyyVCDDoLCn08wr98ql+DVT1f94vnMbEOvts6majAO3T9wm7fkrY/2U8+2lh++nfdvvgX92eJs1hgCpoG/2c9kbctueBdL2XJlP4s+MA1kcNb/2MfkgVs8qQy3c9N3sEAFapfLjo3Gdk/7UubAB0itYzOzNd1cF40x1f7cq60V4DN4bdesQ68QMc1sutpLkea43ntWa1fXaqzebr/0aUVFx47plpg2R2+9bcFrI/TMcf421nBWzyXxvOC8eGhy1zo2X4j9drsfvLCE/r67Fwf4UFibbJ5jWzr4BmKSFXxRsec/c98h138XnPWHcjXA16VYwA+p/qXcWzdQh28mx6O6nuVDl23etflT1S9sfvfGPlvaB/DNwYdg2H6VRFeeCpo+ntmaduS2/zqOK/6Y7yNmh661WXpqfO/ABX0n/o8PHKc/S/NTTyaJlKKqwRcnGSuN95b3WvoBJhPW7LPHjkePo6rffn339Duh02T9sjefP2PnKgsi1Kwg9626nJaBkafmSP12ogKcG++rLyaUN7fdgo0HCiD7z9del8nWLU/0bbojMKNl8/Xc4ZBrSLEnI1gMNhZmog+z+TX6vRaQ1evwEr9r+vXsPV2HxN9RrB4jdkNfVLEgGsl8Wb6jb/2Bc/HsL61F7nTyE/PsM6yl+v4lL1pqiussd168eg/xqfPVfs9WGs+51v4ev9sibvtT7VlX451oxw+f76bdtt8vez/3i9jrV6y9d+t8nmh59FuA2dGk0Ro4FI2K03S5OSSH2I9Q7iTlKr1R+ic8n5Z6e3luyLEgS/xasWsBL4WpRMaDiMUQ+/knwrHHQA66C95vIXp/+LtkHboqE0Wp+fUFvirHlatz8vHCKg5fqFkE+9kI3Ydhg1KtSY8KnBYD2ZdorR1qnrE/Tebb621d8XwEbpmPcbgRZPFrvNNDrVgPXnh5pdhjVMraHvV2Y+vVaNa1uenm9JBDDolOjasa/6TXX+6dvLwz7C69hUl4QdU6pD9BqTxlNSp9p8LUv/51EdpDgV67RSHaftUJ1qrO4Ne7L1v14j9nq/Dlbc/8obX5M+HnZgKa/xywnd1ionrA7VNjRLy7/fK1fC9Wtd/n60ocHaf9qn9rifA/kaLV9UFttnqfen/y2f03vS8+3aAU3apmExcENiFAw6cMIe6HawnnU/+c6jg9daf81UohpfVo8OWE22TDvA/cJBap2+n00O/jxqJKhQsuVqUkFnVIhYIqB5fmtagaLn6vFavYWiAPOX7ydGecKzF+rhV/ACnWLj1K3SUwPZHw7TTKNTFW89rTZcFXuqaGs1ihVHer6xCr9XHRVAN/nxpga34tWSR8WZYsd6Xm+87a41HVPWuWUxr8avkkCjZek1rQg7u9TZpMda5ZcDYQeW8hptp83XrbazXV9EoX3kdyaG6xcl3Hm0DxtpZvn+Z6n3p8/yUFZWfu3h/emtzZdGZe8gGbiEvZPs4KkXHEpq/Z4va4mvl1XAtjybFLThxXL+Qe9T0ptHibCCI1y2xrcZBZge0/tQgu4nBPZ8NQhqnQLL69loRa3GBtAuYaWn+PVPI7fa6MyznmXUOvYtztVw95cJIF/YKWYJryX1uj29QcdZI/71MIpRdYZt9KL1vA4s6yizqdaZgPA9NssfGhT2fis3UPlo842ScHVC2ON5Pf6m3vLz+OWgEvdWzhgMmr5P2JUg+z2/ChRVhn6Fqx7gWgllq5R8avn+OkUHn9YdDm0Je8FbpRZ1XpKrlqkVDtajoJ4Eo15+zbNCxE+0rUdcy1Cw1wsuY8GfFywqDPPOElhi4Ws12bkoKQT8Xn/t9/UkTEA9dm2EYkHx4vfGbbTRKetZRq2GtsWinU73J3+7AZSFZ7OsbrL6rB1JoOIyPbuflCM23NRitV2UvPrDQWwKLyo1aUdEC6MNlDeILTev91pJu+bpvfpn17UNelzlnBLxvPq/meXXs9FGVb/r+4Rdp0b8FqdVjJ2quJQcW2+zrVOTDjwFpwWOPb5RSqj17TAhS9KtV1BBpITDX6+eo23Stmmcl827+rLyvtF8zQt76qwx4g/t0aSCQq9RUuM/rhZ3XoGhdeuz8Nftn3Zshp2atNerQdTqMoBGrLxQLPjJdDsanc0uQ3Fiz1UDWw2HWj10igld3A6gPrvmy++0UueW6k/VZ6LeYX3VoVHdV6vnuh772uXwovVaWu39DjuwGnnbj+xO34clykaJdl5HXdiwqTeaQGfo884CWuMnr7HSyvLz6LoivwNS5WUzvfSDolAsFkvZ/bYpFArZveYk2+Dm5+Zc6XO/7cbOujh7FIBv+bG97tbi89y2mRm3Y8cONzs766amptzk5KQbGRlpOe42YhBjVpWaKls1Yq0iF1UO/oVNajBqfKrGpavCUCdBrdeoF8n/3/jLEDVGrXFr/GWqEa0kwB+uprOGYVJh60McYopZ6fe4zYs3xYYfS6KEVB1T1hAP409JpR9LotdYAq34VOeQklJ1GoXrrRX3YstpFIvabku+rZPRygHbbluPOgktAfZfZ/K2w6fl+mwdee/Df672g9ZlQ3v1XJ+9R3/fSb3tqbV8vT+VwUrq/c9S5ZwaKjZuPfws9VptVzvLvlbitlRqewpdEwk70CdI2IH+QsI+fJRgaohorWEqiF+sCTsXnQIAAGyQeqx11qvRjysC60HCDgAAsEG1vnsdaAcSdgAAgA3SOOtwbDzQLiTsAAAAQMRI2AEAAICIkbADAAAAESNhBwAAACJGwh4p/TiAfoygHs3XjxA0el5IXz2l1+X90tlG6UcdWt2eWtq5rF7RD0GEvzIHAADQChL2PqHE1U/8lMyKft2Lq9KB/qL41Q+sAECsmuncUzlGp1R3kLD3Kf1s8sXnnpn91xv0HqPTlNiqwujkcabl64xWSOskqQbios4r67AaVPUS5Y2eIVeZRrnWn0jY+4R60f2fOj545Hh2DxhMqpj+8vY96Q+RDBtVqP2WlFgioVsgdjEfrzvPnnUXn/cMd+c9D2aPrOLHmYYXCXuL1Lq38eUKdmvp6jH7P6/1qsdsvqawR89/vaaQXm+9jJqvnz++PQlmW1Zer4P/mjwHDx+rWmfYYrfeTZv8ZWl9Wr9tQ/ieG+0PX/je6xWg/n4Pl6v//eWYcPn6vxZ/GVqXT49pH9l8+9+nfWTzGr1v1HfjbXe5H9u9K6mcprNHAGA4XPr8nWn9GrrvkQPushfszP5r3ft+7sfTCf2nUCwWS9n9tikUCtm95iTb4Obn5lzpc7/txs66OHs0TkrilOi+66evTFu4StAUVGoNWxAoWVOioV89E0vcbL6SvHf/0S3urVdd6n700heu+V8J68+//4a0FW3j07WM2ZnpSi97+L+S6zvu2Vd5vi3DttNn80Rj4EWvV2/mB97+urR1b//bfNH72v2CZ1fWaQm83/Nvr/OfF+4Pn5LnD918Z2W92hc33bEn3Vfhe9K+/5U3viZ9nvjL1XJuuuOrueP59by8/RDSPr36sl2V52l9Gnbkvw+ptY/CfWjvzd8XG7H82F53a/F5btvMjNuxY4ebnZ11U1NTbnJy0o2MjLQcdxvR6Zi1mNC+DY/1dtPnarHn0/GtM1kWt/Z5Gv81tr0mPN7t2BDFtSpcVbx5FacdZ8Y/frQv1Fg3edvts/JJwvLkouTYVnypPAvLHhMeu+F8P/78fSMWc42WOchiilnpp7q2FpXLih8dd34958eflcGSF5unJ+VJreM1fL4fY4pjxa1ix+LZr/uNH8NhWeDPy3utsffmr98e89+fvzw/tux96PV6rxb/YbkmlteIv03+Nvj7y69P88pnf3l+uSN+WSjN1M3d1krclkptT6Frood9HRSAdoBdmgSI+Ae/gkZjzEVBowr2bT+yO/1f9FoFxf1J4Mt9j3wnPagtKBWICpBWXL7ruWmAaH3ytYf3p8usFwgKFGMFil4nCqhwG/S+92bbXI/W6wev3qvtj9Cd9+5L95cVPtreWgWYgt6eJ+Fy9f5VwOTRPm5E6/X3l5L1cOiR9oltw0XnPiO9tXWqIPffiz5P/Y/WqdGm4y0mqrAUM2pEaLJ4tYrRn6f4URIrutX/Nl/HkF9hhfQcHdt6/7pvsaSKUWwdWp62ydYTUsWseLXnK8lRZWm0DVdf9sJ0nt6LXznba/R6e43m/9offqoyT+vXMvT+9XolEaJbzVcsNVom0A6KPzu+VObqODWKEf/4U11X63jVsayyx56r1+n1fr2i+lz1jj1H//vHsxJoi11NahTb68N5Yh1fIdUjKgdURxobDmN1jJZny9L7UOM8LA/UkaX5eZ1ZYh1htpzw/Yj2gc3X9mt/+/vEZx1d9nzdt7JLr1GZYftcU70cBdVI2LvETzRFLVJLBhX8Gz3tXwnurDdNQd7qaTMVBL7wf/VKWKu5FXqv9Zze5HtXYaoCyia/p1EFsApXJQea5xc4KhRUSOhxFSa1qDDxl593OtJ35qnbsntlB5PPsdn3gtpU4Whf+r1Sschr+CnmlCT4FY/+t4pWDXPFps3XbauNER37jRr+IR2/SsiN9qe/T7WN1ugQJQNanv+YyhAlHKIyxq/07f3UKxMaLRNoBzUezYXqaAmOyVoxEtIx7XcYXXL+2entgaeOprdSr0PKkmU/zqyjSfP0Wn9erWEvRvP9ek5x49frqtuM1qHlHwo6mZSM19OoI0z8/Wvbb517PpVT2vf+/lGnpt6Dn+DnvRaNkbB3SdgaVbJuiWy7kjwN51Dwa10KEPW6tyIs5ML/VRCESXw7hIVDHr2nsBdTBYtPSYEeV+tdCbrf02CvUcPIWvuhsCew1d5xxlq3h3qE/ESz0+od035jU8dEXsNPsay4q9XY82N9o/yKVfyGf55W4lVxqHLDfx96vz41hP35jTSzTKCdwmNeCanO6jR7zKrH256rOqGRMLZrxZzqT9WptmxN6rmuxxq6qstUB+r1fr2ux/3lhXV2M+p1hNVS6z3a+v3lqd42Kr9UP+t9a16tuhj5SNg7TC12Hdwf/Kvbs0dWe8tsOI2GVuh/PS66bRTIeWxdOh2oZDas3EN+IFmPtBUQSlbDbVBFG/ba10sWmmE9DNag0W1eEPs9HGKNkjz2vvMKFRWuecmTrd9Xr+cjjz+uUbRPW13GsLNKyQp0TfqcLSHO+5w2Sg2tvB44VfJhYzqv4afjSfFi82yynrq84229wvffqDHQSgWu96pyI3wf1quu5EDHtz+vkUbLBLpBx5uOO8VpvbOsKrP9YWRKLltVK+Z0hlp1ki3bn+rRNutsnZ2tsvrN8gR/eEmtRLoWlSeNOsLy1HqPtn5blj/ZduvWHtOZ1FpDgrAWCXsXpC38JOmwBMQCxE4p69bGhWm+gtA/BdUKJdQKJiXCjag32bZJFbFfOOmUlgLX5mvSNvqn8665/MWV97XelrIaCFquDWXRrX/a34T7SI0Svwfc7xXRpOfqNWt6D5LC2D9dZ1SI2HhFfxmt0L7x95l6F1tdxrDzC3ObtE8tIdZ8VTLav/6wp42wRqM1mEXLVhzVOkvlN/x0Ct5vdIbC+Zb4NuKfebLGeL2Gf0j7TGcrjNZbb5+FHQeh8FS7lpfHb1w3WibQTWpAhmdC/eM1PNurJLkV1uHlx5nqRsW+hteoTKkVN7XYkBKVGX69HibNirFaiXQtzXaE1evc81lO02zZrM+iXSMMhgHfEjNgVBgo6VRyg8EyTN8S41OFp+TYGlqqVNSwU2PIb0BuhMWNz48hVYZ+paXk2e8lznu9GoBWqalBaWdb1ABRxates1oXWPvrU+Jt710NFZ/f8M+jfWcVsL/N4T414fsUfz/7y9N2qQGs4Ut579O2rdEyBxnfEtN+6iFXx5SOHysL/Diw403xa/N9flznHa9aviW+Ok6VKNs8JaIaR+7HvvUQh+WT8Y/1vO3x47sW26awXg/LFdGZXq3P9oM64qx3W/QanZmzskfvyToQVEbYDzJqm2x7rTPL+MvMK0vCckrbpvWF5aQ9HptYvyWGhH3A1KqI0f+GNWEH+hUJO9B/Yk3YGRIzQNQaVu9XrVPkAAAA6D8k7APExv/WO0UOAACA/kLCDgAAAESMhB0AAACIWDwJuwbxF5LNKRWzBwBUKC6S+PAvb+n2BWtrELNAbTHGrBC3QG2xxm0irh728c2utLKc/QPAKC6KI+PZfxEhZoFc0casELdArpjjNqqEvTAx5VyRQgTl74at94t0ou96bfVHKPpWEhcroxNpSz9v6hViFqgh0pgV4haoIeK4jSZh144oqRBZWcoeiVM7f2Fx2LDvNiCJi6VCudUfQ8Eh/RKzzVDjUMdno0YiyvuqE3Gs5Q5UAzzCmJVBilug7SKNW4kiYa/slM3bhuY0nb4zXQmCboFGFBeLbjyNE/vhhkrc9EBl3QMQs5Z86itR/V8wBDYitpiVyvqHqK4FWhFj3Jq4etg3bY3+NJ0q9WH4Se1OYN9tQBIXTy+UqgqPXhcg/RKzjRw6fLzyc9wbpZ/9tp8qHwQD1+vdTRHGrAxK3AIdEWncSlxj2CeTVn8Xf+Z1PfzTwdZL/oWvPZTe2uT3mofz9FpVgD///hvS+brV43qehM/3K0u99t/93l+ktzZf/4f819u2Gn9e3mvFf18+v/JuZjuVuGieJTDhqXRbj03htor/XvX6esLlhYmTtsmf308UF0/Nl9IW/+joaHprrf9e6oeYbeTgkePZPaB9Yo1ZGYS4BToh5riNqofdbdvhSosns0f6x7v/6Ja091jT7hc82/3aH34qm+Pch26+0731qksr89XD/KOXvtB94O2vS+frVo/r10mVBN90x57Kc/U6vd5vAOz91nfSHkF7jv73E10loj+2e1dl/h337Ku8Ppwneb2B+sXUi897hrvzngezR8oJ+sHDx9Jtb3Y7RfOve/2r0vs+PVf7yZbxrp++0v3l7XuqGglan/9epV4jQ40ff1/vfeRAZd+oQXHQW5Ytr18UF064I8WJSuFhBUgvC5F+jlmjmNCxentyrOu+NTz9hqIm/9gWv/Fnx6QalFqOLcs/VsPlhXGnx7Rum6/12WO+sNFrrAFtt5qsgetva7g8//mabNm2fsWgYtufZ1pZbl5jW4/Z/Lz35M/Pe33sYoxZGYS4BTol1riVqMawj2xNCpGR8aQgmcvm9Aclm+bCc89MKznf/Uni2Awl7e/7uR/P/nPukvPPTm8PPHU0vZXZ7VurEmAl1kpqxSpNf9iJxuQqAdc8vdafd+nzd6bJRZ5wnpJ3NUZkPdsZ0jb544W1TPH3XbiMqy97YaUhELptzwPpvlCDwlz2gp1pg8Vo2WHi1Q8UD8XCqDvhJt3Y2JgbHx+vtPx7VZD0e8waNdx03OjY1n0dP5Y8WsMubIRbIm7zZ2em0/jS8azn2rIsRrQ8NUbt+ZoUW2HSrsTYGvCKDy3nzntXj18lwTqGL9/13OyRtbQMW4eeq2RXsaz/w4a1lqfOBpVf9hptp96L1q//FYPWCPbLDj3v6svKjf9mlju7fboq6Q73ocowP/a1z/Qam99v1xbEGLMyKHELdEKscWui6mHXtHzqea40X53w9hNVcD5VNOrptZ6iRlSJ23Nt2Ew9ShZ84frNoSPlCtGWrUmVbC2W+FojQAnGpUkCYVrdzjyqlP3taaTWexNV+Erm/eUpqTB6P0osbAhSXo9erBQPTxe2pYWGCg8VJJqsEJFeFCSDErMhJaZ+cuo3wpWU6jhTsmrUqPQbiiEdhzr2fDrTpXLBp+coUTaKN63LEuH7HvlO2rjwnxP6lTe+JrvnKo0H2za7tYa1NcKtsSxhI6EWbb+9Lmyw6+xbuFztL+1Dey/lfbi6z7QPw/iu1TjvB7HGrAxq3AIbFXPcSlQJu3ZK6bTzk1bOYJ2qU9KuXiJVYvVO7SqJVCVuvUo2bKYVfi+V7/QksVeFaMv2p1q0vTo7YL3zVgG3Yzu1zLDXsZFa701O3z6dJjP+8jT5PXNKWPSYttd6EvuB4uGBIyNpa1/TxMRENL11gxqz/nCMvIbtmaduy+41J0xGFY/1jmdRvOl1OnskOluk3vJ20dh9G75jU60zbvXkNSAUjz7bX0rqLWkP94lPDSY1Cmy7+iVWTawxK4Mct8BGxBy3El0PuzvlHFcqrrjS8kI2Z3CoEtNpXp8/jMSGthirqJtlPWh+77FOPauCVC+YEoRWKj718KkCV9Ku4SVmo9sp6vH35W2XttcfNnDTHV9NGxF5Ljr3GWmPnE7HN2IJRr2EIRaKg+LKsnvabUlb+laQWKtfU68MaswqZvStMdboC3vHxY/bZoTJuY7/Zo4/9UIrUbfhMPV68luls3OKJ3ufNvnD3dYrLCNsfylxr3eGwKekXdujoTVqNDUT2zGIOWZlGOpaoFWxx61Ek7CLdohaM8un6FRddYHfj5Qo+71X6tW1ylCVlipLjfXUPFVGNl7bnr8e1ntsy7goSTy0Lk2ap4rP5mkKx9H6rIdPSbs/brYd26nKWD3itgw1CsIERvPFnqPGjj+m3adtVcVu+9Mma7z4Q3g0+af0Y6Y4OFSaTgsNtfZtskIkrXh7aNBiVnRxss8fIqI40nGpYR9Gx5jf4Ay/dUZxHvbSK0b9RnAtStCVqOv1tRqr66WhPopt6/GuJWxcN2LXv/gJtvaXP5wn3IdqJIWNGmO9862e1eiV2GNWBjFugY3oh7gtFIvFtn+303remL5KR9P8/LxbeOx+N7Hv827s9POyucBwWjr4Tfelw9NubupMt23bNjc7O5tOU1NT6dTLgmRQYlbJonqbrTGoBNa/LkONOxu+ZTRkxhJMJZ/WEPdf6z+udfhjsrVMf5y8GpHqyc/rQVdjUwmwGqS1GplKjtVYVaPckmJrjPuNXK3HX44aGmFjwt8Of75ts967Ghvh9vvLVSNG+8z4+8LoNUbrVMNIyb7WHe6vWvsmRjHHrFDXAmutN24VS90SVcIuCwsLbnFx0ZXu/ks3UVh2I1tOSx8Hhk3xxJPu2MkF97nDp7nt27e7U045xZ122mnptHnz5nRSrPUyYRditrOU/GpYTL99U8owij1mhbgFqm0kbruZsEc1hl10mk6nIBbOfpErHX8q2RvF9HFgqCTHfTE5/v/xcPnrpTZt2pQWGrrVuDrFSa8rfmK2O5SsNzN8Bj3WBzErxC3g6ZO4lajGsNtO0Q4aOeVstzhzTrIjD2VzgeGh4/6pwlZ3bGS60sKfnJyMb0wdMdtRdrFpve9eRxz6JWaFuAXK+iluo0rYRTtHhYh21sI5L0l25pPOrSxlc4EhkBzvxWOH3D88OZG28K0AsUIkrWSTOIkFMds5GhOusfM2Lh2R6rOYFeIWQ6/f6trsNhpqyWgHqWUzMbPDnTztua544ulsLjD4dLw/6k5zS2Nb0gJky5YtaQGi+ypUFB+xtPiFmMWw67eYFeIWw67f4jbKhF1TWogkLZzlc7/XLS0nraATSesfGHA6zhcW5tye41vT41+Fh65Qjz1hJ2YxrPoxZoW4xTDrx7iNLmEX7aBKy3/zlDt67m6niwL4GWUMMh3fK8eedLc9uc2Nb5pMW/sqQHRrBYhO0VlFGxNiFsOon2NWiFsMo36N2ygTdlEhoh2mK3U3nfoM9+QzvtetHH6MX2XDQNJxvfL0Y+7u+Vk3NzKZHvdWgFghokrVCpEYEbMYJoMQs0LcYpj0c9xGm7BrR1nLXzt0ZMdOd+T057nikQPJHufrpzBAkuN55fB33H2Lp7jHlsuFxvT0dPrjDVaAxHpa3UfMYmgMSMwKcYuh0edxG3XCrskKEbWAVs5+oTu6+Qy3fPBhChIMhuQ4Xn7iIbd/cbO77+SWyrG+devWvkzYiVkMvAGKWSFuMRQGIG6jTdhFO0w7TqcmdFGAdu7JZ36fOzJ5llt56tucskNf0/G7/OQ/u/3LW91dJ05JCwwVHjMzM+mtFSCqSPuh4hdiFoNsEGNWiFsMskGJ20KxWGz776q2+83qp1+Xl5fd0tKSO378eDqN7f+qO+3IA250+1musHlr9kygP6QXvTz9mNu7eIq7P2ntq8BQJamfRNZPI6vFr4JErX1Niql+qfyFmMWgGfSYFeIWg6bTcauY6Za+SNhlZWUlnebn59PpyJEjrvjEPnf20/e40a2nuZEtp2XPBOKmr5PSFeq66EXj6HRqTgWGJhUeavXbV0ypxyvGi1+aQcxiUAxLzApxi0HRjbglYc+hnZLX+p87tN991+GvuvGxUTcyfbpzo+PZK4DI6FfVTjydVIJz7vNPbUuvULfWvgoOOz2ni2B0Wlqt/X46rR4iZtH3hixmhbhF3+ti3CpWuqVvEnbRjlHLP9nmSuv/2LFj7sSxI27m0D+50+e+nRQkp5ULk0LUw/MxTEpFVzx+KP0JZP2qmn6oQd/9qta+CgwrOHSr1r4mtfQ1nk76vfInZtF3hjhmhbhFX+pB3JKw16Gdo0mtf00nT55Mp6NHj7r5pw+4s+e/5WYWn3SF6VM5dYee0yk5/RDJkZEZ96VDY+lPIKtFb619nZbTZP/bOLp+76XzEbPoJ8RsGXGLftKruFWMdEvfJeyiHaSWv3oAFhcX3cLCQlqQnDhxIp3cke+4Z6086iaWT7jRyW2usHnaFcY2Za8GOktXpJfmj7vi3FF3tDjh7j4y6Y6Pli9q0ZXoatWrwFDBoUktfvUAaLJxdDJolT8xi1gRs/mIW8QshrglYW+CdpImFSSaVJBosoJE0/jRR90ZxafczMrhpBU16goTU+lV7oWJyWwpQHuUFufSq9FLCyfcSnHFPVmadt84NuoOlbamp9tUcKgAUaHhFyD2uJ6jwkOxM2iVviFmERNitjnELWISW9wqNrqlbxN20Y5S61+3ujhGp+1UkGi83dzcXDqpN0C3k/NPumeOH3dbl55yo6UVN7JpKtnQEedGxlxhdKx8AY3dZ0weQqXkOFtZdq6YTCtLq/c1Zm7hpFspjLqDxS3u0cVJd2BxU1ooaNIpOU0qLPxJBYcm/7TcoJ1Sz0PMomuI2bYhbtE1fRa3iolu6euE3WiHWYFi4+38wkQFid3Xab2xhcNuauWEmyosudMnR9x4KXmsuOhGVxbdSHEpPTCAKknFUhwZdyujm9xyYcwdXR5xJ1dG3NPzJXe4OOFOuMm0EFCB4BceVliopa9J93U6zp43TJW+j5hFxxGzbUfcouP6LG4VD90yEAm7+AWJJvUCaLJxd5p03yabb4WOvU5TsqBsqd39MBAvHQX+ca37mqwQUIGg02wqHDRZIaICw2416Xmar+cOw+n0eohZdBIx2xnELTqp3+K2m8ftwCTsPr8w0Zg7FRJWaFjB4t9qsvF59lpbjn+L4WXHtN2q4NB9FQS6r4JBBYQKDL8QsULFChkrdPTaXsdJTIhZtBsx23nELdqt3+K2m8fsQCbsop1oBYIVJlag2K1NNk/Ps9fZh2C3gB3XVgBoskJBBYQVFLq1Sf/nFR6aUM3ijphFu1ic+XFHzLaXxR5xi3axWPNjL9a47eZxO7AJu88vGDRZwWKTChB73J5jr/OF/2Pwhcey/W8FgRUMVkiEkz1PE5pncWgTMYtmhbFm/1scWlyGsWqTPU8TWmOxaBNxi2aF8Wb/WyxabIbxapM9T1M3dfNYHYqEXfyCwZ/8gkOTPcf49wE7tv3bcPILD3sOWufHoz8Rs2hFGIcWm/5EzLaPH5P+RNyiFWEsWnz6Uwxx283jdmgS9jzhjq614ylIYMJju9H/aC9iFq0iZnuPuEWr+iVuu3nMDnXC7qOgwHpR4fcGMYv1ImZ7h7jFesUYtyTsAAAAQMT6PmEHAAAA0B78LjAAAAAQMRJ2AAAAIGIk7AAAAEDESNgBAACAiJGwAwAAABEjYQcAAAAiRsIOAAAARIyEHQAAAIgYCTsAAAAQMRJ2AAAAIGIk7AAAAEDESNgBAACAiJGwAwAAABEjYQcAAAAiRsIOAAAARIyEHQAAAIgYCTsG3sG/eLPbufN6tyf7f6gcuNG9eeeb3Y0Hsv875qC78dqdbud7h3Iv9w+OB3TNHnf9zp3u+n/M/u2goS7jMTRI2AGgBXvemySi196YpKSITzlJfPNf8OkAGCwk7MCASBNJejQDG+jl61pvdGdwPLQX+7O2tIebRizQUSTsANCCXe/Y5/Z97Bo3m/2PmOxy1+3b5z7643w6AAYLCTsAAAAQMRJ2DIjy0Ied3lRvHGv5IiX/+WuHPqx5TtUp37XrqzfsonLKOB1mEb4mu0DPHs89tRyuz7vA6h+vTx+75iPJ/Y9cs3Z+Jj2ln/d6z9r90tzz3vwXj2ZzaqlzEWK6/av7v/5+z5G9/9WpvM3l93uN+1hy/2Ovy+ZV1r/281udl23ry65zn0/+rntZeb4dT+ly12xT8BlWLW+tjR8P4efpHX9DfTyUP1c/9tP3qfUE+3pt+VAjphvsz7X7qLosqXzW4fJzj4/Gx1HNz72WytCuYNnZcqu3f205KDXXme3T7/9Pn3fu9uvc99dYRjPrWBvHNZ4XfI7at42ONmAgFIvFEhNTX0+PfbL0pvPPL51//V1Vj73nzx9P7z/+528qnX/+e0p32bziXaX3/MwnS49X/i+W7ro+eb33nLWvebz0yevtNcnrk/W9KVt+On3lPaX3fMWeu3YqLy9Zh7fe8jrfVHrTz5zvvba87PC96P356wu3t/KY/zpNtm+SaXUdyXtJ1ulvS+WxvGUm2/jJx8LHgn2TvjaZwvV709p9Wp7S5WXbUn+/50zJfl+7ff7ry/sz/Gy0nqrHcvZx+bHqZWvyt7f8WPaZhY813BfVr7F93fB4yPv80v1Q/T7T5Q3b8ZDtr7WxsrrM9PE1+2vt68KYzt2fel3Vflu7Pyqftf8+8o43+6yrlpc8Vllnc5/7mqnymXufW/a6N/1Msm3ee6r5WTZYZ/oeg/1QeT9aTzNlV3Bc2X6rem+11p2up3qZTEyDNpGwM/X5lFUo60gMqqYgOcuvnLOpRiJXbypvQ/Aaq0iD9YTbm25LjcpwTUUYbnNuYpBMacUXVuB5+yjYvzXfe1Y51/kcbFuqk4vy6+yxuvs9Z0r31Zp940/Vy683rVl3jfcafh75n0/9aSPHw5rPLptytyvclwN+PNjrGyWIzb+P1anpbQmWlftZJ1Pu51XvOGryc18z5X7m2fsP90v4mTS5zvw4rHEMhOuos++r11Pe5jXHrj0v93hlYhqciSEx6G8HPu8+c7tz175iV/ZAC/xTsNnwh33ZudVzLnh5evo7d1jNmTvdBelQifzhATXtfqV7+ZnZfUmX49zLLzin/H+uPe7TH0ne378JL3I8x+3c7dznH2rmZPDL3StfFlyEd87O5NHV97vncx9z7i2vcmv34qx7+au1Lz6dvteDX/iM+3z4PlLl7anrzGvcz73FuY/9vjek4R8/7T7mrnWvekn537r7Pcfsecke1Kn43OEFjVQPEUiHPHxjX53hFnnKn4/2UcuXOa7reLDP6ufcNcFnkO672/c1MTxgcI+Hmta8l1m38znJjX3e641pU6csSeXso+rPq/FxtLHPPfzMs/e/e2fySdW28WMtp2zOjvOHvlX+TGsfQ87tesW1yXqS+Roak5b1OcduIt0eYMCRsKO/PbovqRpf7nbWz3Gq2RjI1zl34759bp+mL1yfLGXV7I9/1O274Vr3+f/0/eVKuGrcrL6J4svu+t0fc9dklXTDcaTrdWCfeyi5qYzBrkzf765LGirtcdDt+0Z2t4FHH/p8dm99qirgZL03/n51Ylh/v+d4yXXlz67OWO085TG53+8+8+ovlz//ZLoxSR5bln0+F5zXcrq+TtlnVXm/q1M6jrgt+vh4WLd1xnQTZUlTGh5H3fjcQ91ZZ9PHUFrWA8OLhB39Le0ZbEWSFLzzOvf5t9yYVK7XBb1uASWDaSV8o7s2vaDKTwZn3TUfK1fQX/6vL08T6g33AubJeqOuvSFLBsLpHXXfQZOy3rYmbLgn6yWvckn65T7zhWRfZT1m178heA9193uOM69xH02fbwlXjYvVzD9e7675SLLeL7Th6/+yz6d7ss8qPX6946AyNTimm9Lnx8O6tRrTLZQljTQ8jrrxuYe6s86mj6GWy3pgsJCwo79lp7LTCn8D0tOy2f21drnr0l6zh9y+nERQvYDqnW1ueEqrykMLPva5zqQoJq00s2EO1Q66z/9tsmeyXs/yEBTrEfVkQ5Ma2+XenCRDWuaeOqfCy+rv97WUcCVJXfJJVg1HaEp5SELruvP5+Gp/Vu0zGMfD+m0kpuuXJbU0Po668bmHurHOmsdQIh2SY8dEzbI+OyaBAUfCjj6XVOLZKfOq3rADN7rrc3vHsl4jvxJKnntdcIp3z3ure/HKlfAFbqcqjjXLzsafNhh7vD5JEvpvrk22d+043nAbN1K5zv749VnvdPUy97xXQ2+udTdaT/5L3pw8Lxzrm/U0Zv81MvuypAK+/Tp3TbLPw7H5dfd7joN/cX11b3o6BtofIpWTCGXjtf2Kf897y1//WKWpxmDy+bwnG5JTNY5+j7t+XePqG5v98Z9LGiXJZxUOD/nH5DP0hnEM4/Gwbk3E9Nr92VxZ0pzGx1Gzn3s7NbvOekl3Qy+5Lmkc6RiqPjOmr4JMz4S9x46JrHGXlPX+ug/+xXVtHB4IxIuEHf0vG8fsbJyrppd9Jpnyhzvsekf1WNWd73Tu+jXjTr35yfT9/+kCd6N3Cvghf107r3EP/dcvd+7XFfPeXzL93gVvrmyPVCrXdH51otNYeTjAjW+pft/XfON69+WqU996XrD/dl7n3Hv0WPaURs58uXtl+tzViwtX1d/vaz2UVPSrz9/5uoeSz/Kj3kVyqw2edL6SHw2h8cdFJ9OnX5E3hn01QdBzag6PSIfk3OiurRrre41z67kQuinZeGtn33udTb+fbKO3P4fzeFi/RjGdtz+bK0ua1PA4au5zb68m11lpuGl+gyFpOfTrwV/+r64qlsuftR/L+gw+WhmuZM+7Ltk6PQYMuoK+Kia7DwAAACAy9LADAAAAESNhBwAAACJGwg4AAABEjIQdAAAAiBgJOwAAABAxEnYAAAAgYiTsAAAAQMRI2AEAAICIkbADAAAAESNhBwAAACJGwg4AAABEjIQdAAAAiBgJOwAAABAxEnYAAAAgYiTsAAAAQMRI2AEAAICIkbADAAAA0XLu/wct0Q9UYE5otAAAAABJRU5ErkJggg==)"
      ],
      "metadata": {
        "id": "08-Zu3iCWsUw"
      }
    },
    {
      "cell_type": "markdown",
      "source": [
        "Use self as the first parameter in the instance method when defining it. The self parameter refers to the current object.\n",
        "\n",
        "On the other hand, Use cls as the first parameter in the class method when defining it. The cls refers to the class.\n",
        "\n",
        "A static method doesn’t take instance or class as a parameter because they don’t have access to the instance variables and class variables."
      ],
      "metadata": {
        "id": "KRZeI1CkuKr4"
      }
    },
    {
      "cell_type": "markdown",
      "source": [
        "**Class Bound and Instance Bound**\n",
        "\n",
        "An instance method is bound to the object, so we can access them using the object of the class.\n",
        "\n",
        "Class methods and static methods are bound to the class. So we should access them using the class name."
      ],
      "metadata": {
        "id": "Nim3DZeRudvm"
      }
    },
    {
      "cell_type": "markdown",
      "source": [
        "```\n",
        "class Student:\n",
        "    # class variables\n",
        "    school_name = 'ABC School'\n",
        "\n",
        "    # constructor\n",
        "    def __init__(self, name, age):\n",
        "        # instance variables\n",
        "        self.name = name\n",
        "        self.age = age\n",
        "\n",
        "    # instance variables\n",
        "    def show(self):\n",
        "        print(self.name, self.age, Student.school_name)\n",
        "\n",
        "    @classmethod\n",
        "    def change_School(cls, name):\n",
        "        cls.school_name = name\n",
        "\n",
        "    @staticmethod\n",
        "    def find_notes(subject_name):\n",
        "        return ['chapter 1', 'chapter 2', 'chapter 3']\n",
        "```"
      ],
      "metadata": {
        "id": "X-4Lgo8AbZe5"
      }
    },
    {
      "cell_type": "markdown",
      "source": [
        "##Create a Class and Objects\n",
        "```\n",
        "class Employee:\n",
        "    # class variables\n",
        "    company_name = 'ABC Company'\n",
        "\n",
        "    # constructor to initialize the object\n",
        "    def __init__(self, name, salary):\n",
        "        # instance variables\n",
        "        self.name = name\n",
        "        self.salary = salary\n",
        "\n",
        "    # instance method\n",
        "    def show(self):\n",
        "        print('Employee:', self.name, self.salary, self.company_name)\n",
        "\n",
        "# create first object\n",
        "emp1 = Employee(\"Harry\", 12000)\n",
        "emp1.show()\n",
        "\n",
        "# create second object\n",
        "emp2 = Employee(\"Emma\", 10000)\n",
        "emp2.show()\n",
        "```\n",
        "In the above example,\n",
        "1. we created a Class with the name Employee.\n",
        "\n",
        "2. Next, we defined two attributes name and salary.\n",
        "\n",
        "3. Next, in the __init__() method, we initialized the value of attributes. This method is called as soon as the object is created. The init method initializes the object.\n",
        "\n",
        "4. Finally, from the Employee class, we created two objects, Emma and Harry.\n",
        "Using the object, we can access and modify its attributes.\n"
      ],
      "metadata": {
        "id": "8dUNXM1tvAQt"
      }
    },
    {
      "cell_type": "markdown",
      "source": [
        "# Excersices"
      ],
      "metadata": {
        "id": "Wd3diAHGvyaH"
      }
    },
    {
      "cell_type": "markdown",
      "source": [
        "Exercise 1: Create a Class with instance attributes\n",
        "\n",
        "Write a Python program to create a Vehicle class with max_speed and mileage instance attributes."
      ],
      "metadata": {
        "id": "xpEFYMDaEn5U"
      }
    },
    {
      "cell_type": "code",
      "source": [
        "class Vehicle:\n",
        "    def __init__(self, max_speed, mileage):\n",
        "        # __init__ is the class variable\n",
        "        # max_speed, mileage are intance variables\n",
        "        self.max_speed = max_speed\n",
        "        self.mileage = mileage\n",
        "\n",
        "modelX = Vehicle(220, 20)\n",
        "print(modelX.max_speed, modelX.mileage)"
      ],
      "metadata": {
        "colab": {
          "base_uri": "https://localhost:8080/"
        },
        "id": "jwrJspckEDDC",
        "outputId": "b4044751-ba47-4203-c49f-a386be705b16"
      },
      "execution_count": null,
      "outputs": [
        {
          "output_type": "stream",
          "name": "stdout",
          "text": [
            "220 20\n"
          ]
        }
      ]
    },
    {
      "cell_type": "markdown",
      "source": [
        "Exercise 2: Create a Vehicle class without any variables and methods"
      ],
      "metadata": {
        "id": "bCFRm4vqEqmB"
      }
    },
    {
      "cell_type": "code",
      "source": [
        "class Vehicle:\n",
        "    pass"
      ],
      "metadata": {
        "id": "vGYC_7buctFy"
      },
      "execution_count": null,
      "outputs": []
    },
    {
      "cell_type": "markdown",
      "source": [
        "Exercise 3: Create a child class Bus that will inherit all of the variables and methods of the Vehicle class\n",
        "\n",
        "Given:\n",
        "```\n",
        "class Vehicle:\n",
        "    def __init__(self, name, max_speed, mileage):\n",
        "        self.name = name\n",
        "        self.max_speed = max_speed\n",
        "        self.mileage = mileage\n",
        "```"
      ],
      "metadata": {
        "id": "Z1WuxYwtdyvY"
      }
    },
    {
      "cell_type": "code",
      "source": [
        "class Vehicle:\n",
        "    def __init__(self, name, max_speed, mileage):\n",
        "        self.name = name\n",
        "        self.max_speed = max_speed\n",
        "        self.mileage = mileage\n",
        "\n",
        "class Bus(Vehicle):\n",
        "        pass\n",
        "\n",
        "subclass = Bus('BMW', 230, 25)\n",
        "print(f\"Vahicle name: {subclass.name}, Speed: {subclass.max_speed}, Mileage: {subclass.mileage}\")"
      ],
      "metadata": {
        "colab": {
          "base_uri": "https://localhost:8080/"
        },
        "id": "ONMP5NfPd1-G",
        "outputId": "6225bece-255f-48d9-997c-521190a34054"
      },
      "execution_count": null,
      "outputs": [
        {
          "output_type": "stream",
          "name": "stdout",
          "text": [
            "Vahicle name: BMW, Speed: 230, Mileage: 25\n"
          ]
        }
      ]
    },
    {
      "cell_type": "markdown",
      "source": [
        "Exercise 4: Class Inheritance\n",
        "\n",
        "Given:\n",
        "\n",
        "Create a Bus class that inherits from the Vehicle class. Give the capacity argument of Bus.seating_capacity() a default value of 50.\n",
        "\n",
        "Use the following code for your parent Vehicle class.\n",
        "```\n",
        "class Vehicle:\n",
        "    def __init__(self, name, max_speed, mileage):\n",
        "        self.name = name\n",
        "        self.max_speed = max_speed\n",
        "        self.mileage = mileage\n",
        "\n",
        "    def seating_capacity(self, capacity):\n",
        "        return f\"The seating capacity of a {self.name} is {capacity} passengers\"\n",
        "```"
      ],
      "metadata": {
        "id": "_H-6YRVtctyT"
      }
    },
    {
      "cell_type": "code",
      "source": [
        "class Vehicle:\n",
        "    def __init__(self, name, max_speed, mileage):\n",
        "        self.name = name\n",
        "        self.max_speed = max_speed\n",
        "        self.mileage = mileage\n",
        "\n",
        "    def seating_capacity(self, capacity):\n",
        "        return f\"The seating capacity of a {self.name} is {capacity} passengers\"\n",
        "\n",
        "class Bus(Vehicle):\n",
        "    # Overriding\n",
        "    def seating_capacity(self, capacity = 50):\n",
        "        return super().seating_capacity(capacity=50)\n",
        "\n",
        "c = Bus('School Volvo', 180, 12)\n",
        "print(c.seating_capacity())"
      ],
      "metadata": {
        "colab": {
          "base_uri": "https://localhost:8080/"
        },
        "id": "-fqgQW-chGS6",
        "outputId": "723c6341-436b-4138-9fb1-b2b8fd0698f9"
      },
      "execution_count": null,
      "outputs": [
        {
          "output_type": "stream",
          "name": "stdout",
          "text": [
            "The seating capacity of a School Volvo is 50 passengers\n"
          ]
        }
      ]
    },
    {
      "cell_type": "markdown",
      "source": [
        "Exercise 5: Define a property that must have the same value for every class instance (object)\n",
        "\n",
        "Define a class attribute \"color\" with a default value white. I.e., Every Vehicle should be white.\n",
        "\n",
        "Use the following code for this exercise.\n",
        "```\n",
        "class Vehicle:\n",
        "\n",
        "    def __init__(self, name, max_speed, mileage):\n",
        "        self.name = name\n",
        "        self.max_speed = max_speed\n",
        "        self.mileage = mileage\n",
        "\n",
        "class Bus(Vehicle):\n",
        "    pass\n",
        "\n",
        "class Car(Vehicle):\n",
        "    pass\n",
        "```\n",
        "\n"
      ],
      "metadata": {
        "id": "m-eu6kyVg88q"
      }
    },
    {
      "cell_type": "code",
      "source": [
        "class Vehicle:\n",
        "    #  The class variable is shared between all class instances.\n",
        "    color = 'white'\n",
        "    def __init__(self, name, max_speed, mileage):\n",
        "        self.name = name\n",
        "        self.max_speed = max_speed\n",
        "        self.mileage = mileage\n",
        "\n",
        "class Bus(Vehicle):\n",
        "    pass\n",
        "\n",
        "class Car(Vehicle):\n",
        "    pass\n",
        "\n",
        "School_bus = Bus(\"School Volvo\", 180, 12)\n",
        "print(School_bus.color, School_bus.name, \"Speed:\", School_bus.max_speed, \"Mileage:\", School_bus.mileage)\n",
        "\n",
        "car = Car(\"Audi Q5\", 240, 18)\n",
        "print(car.color, car.name, \"Speed:\", car.max_speed, \"Mileage:\", car.mileage)"
      ],
      "metadata": {
        "id": "WyRr7Zr_vaYB",
        "colab": {
          "base_uri": "https://localhost:8080/"
        },
        "outputId": "130bc2f6-ff72-450d-ef34-7696e0929c84"
      },
      "execution_count": null,
      "outputs": [
        {
          "output_type": "stream",
          "name": "stdout",
          "text": [
            "white School Volvo Speed: 180 Mileage: 12\n",
            "white Audi Q5 Speed: 240 Mileage: 18\n"
          ]
        }
      ]
    },
    {
      "cell_type": "markdown",
      "source": [
        "Exercise 6: Class Inheritance\n",
        "\n",
        "Given:\n",
        "\n",
        "Create a Bus child class that inherits from the Vehicle class. The default fare charge of any vehicle is seating capacity * 100. If Vehicle is Bus instance, we need to add an extra 10% on full fare as a maintenance charge. So total fare for bus instance will become the final amount = total fare + 10% of the total fare.\n",
        "```\n",
        "class Vehicle:\n",
        "    def __init__(self, name, mileage, capacity):\n",
        "        self.name = name\n",
        "        self.mileage = mileage\n",
        "        self.capacity = capacity\n",
        "\n",
        "    def fare(self):\n",
        "        return self.capacity * 100\n",
        "\n",
        "class Bus(Vehicle):\n",
        "    pass\n",
        "```\n",
        "\n",
        "Note: The bus seating capacity is 50. so the final fare amount should be 5500. You need to override the fare() method of a Vehicle class in Bus class.\n",
        "\n",
        "Use the following code for your parent Vehicle class. We need to access the parent class from inside a method of a child class."
      ],
      "metadata": {
        "id": "IzhpthNNyxZY"
      }
    },
    {
      "cell_type": "code",
      "source": [
        "class Vehicle:\n",
        "    def __init__(self, name, mileage, capacity):\n",
        "        self.name = name\n",
        "        self.mileage = mileage\n",
        "        self.capacity = capacity\n",
        "\n",
        "    def fare(self):\n",
        "        return self.capacity * 100\n",
        "\n",
        "class Bus(Vehicle):\n",
        "    def fare(self):\n",
        "        total = super().fare()\n",
        "        total += total * 0.1\n",
        "        return total\n",
        "\n",
        "\n",
        "School_bus = Bus(\"School Volvo\", 12, 50)\n",
        "print(\"Total Bus fare is:\", School_bus.fare())"
      ],
      "metadata": {
        "colab": {
          "base_uri": "https://localhost:8080/"
        },
        "id": "b0BB0EWX0vN7",
        "outputId": "6ae9757d-3165-4c17-90a4-7ce4e8e777b5"
      },
      "execution_count": null,
      "outputs": [
        {
          "output_type": "stream",
          "name": "stdout",
          "text": [
            "Total Bus fare is: 5500.0\n"
          ]
        }
      ]
    },
    {
      "cell_type": "markdown",
      "source": [
        "Exercise 7: Check type of an object\n",
        "\n",
        "Write a program to determine which class a given Bus object belongs to.\n",
        "```\n",
        "class Vehicle:\n",
        "    def __init__(self, name, mileage, capacity):\n",
        "        self.name = name\n",
        "        self.mileage = mileage\n",
        "        self.capacity = capacity\n",
        "\n",
        "class Bus(Vehicle):\n",
        "    pass\n",
        "\n",
        "School_bus = Bus(\"School Volvo\", 12, 50)\n",
        "```"
      ],
      "metadata": {
        "id": "n9e98-xM0q5c"
      }
    },
    {
      "cell_type": "code",
      "source": [
        "class Vehicle:\n",
        "    def __init__(self, name, mileage, capacity):\n",
        "        self.name = name\n",
        "        self.mileage = mileage\n",
        "        self.capacity = capacity\n",
        "\n",
        "class Bus(Vehicle):\n",
        "    pass\n",
        "\n",
        "School_bus = Bus(\"School Volvo\", 12, 50)\n",
        "\n",
        "print(type(School_bus))"
      ],
      "metadata": {
        "colab": {
          "base_uri": "https://localhost:8080/"
        },
        "id": "8HhvUh8t2_J9",
        "outputId": "69faff43-4513-4cf8-e31d-dd23fc1cd39b"
      },
      "execution_count": null,
      "outputs": [
        {
          "output_type": "stream",
          "name": "stdout",
          "text": [
            "<class '__main__.Bus'>\n"
          ]
        }
      ]
    },
    {
      "cell_type": "markdown",
      "source": [
        "Exercise 8: Determine if School_bus is also an instance of the Vehicle class"
      ],
      "metadata": {
        "id": "09ixueiX2_lA"
      }
    },
    {
      "cell_type": "code",
      "source": [
        "print(isinstance(School_bus, Vehicle))"
      ],
      "metadata": {
        "colab": {
          "base_uri": "https://localhost:8080/"
        },
        "id": "6aRPA_x27C7W",
        "outputId": "80dbe0ae-b1f8-4ca5-cd25-996a0b13c843"
      },
      "execution_count": null,
      "outputs": [
        {
          "output_type": "stream",
          "name": "stdout",
          "text": [
            "True\n"
          ]
        }
      ]
    },
    {
      "cell_type": "markdown",
      "source": [
        "# Encapsulation in Python\n",
        "In Python, encapsulation is a method of wrapping data and functions into a single entity. For example, A class encapsulates all the data ( methods and variables). Encapsulation means the internal representation of an object is generally hidden from outside of the object's definition.\n",
        "\n",
        "Encapsulation acts as a protective layer. We can restrict access to methods and variables from outside, and It can prevent the data from being modified by accidental or unauthorized modification. Encapsulation provides security by hiding the data from the outside world (information hiding).\n",
        "\n",
        "n Python, we do not have access modifiers, such as public, private, and protected. But we can achieve encapsulation by using prefix single underscore and double underscore to control access of variable and method within the Python program.\n",
        "```\n",
        "class Employee:\n",
        "    def __init__(self, name, salary):\n",
        "        # public member\n",
        "        self.name = name\n",
        "        # private member\n",
        "        # not accessible outside of a class\n",
        "        self.__salary = salary\n",
        "\n",
        "    def show(self):\n",
        "        print(\"Name is \", self.name, \"and salary is\", self.__salary)\n",
        "\n",
        "emp = Employee(\"Jessa\", 40000)\n",
        "emp.show()\n",
        "\n",
        "# access salary from outside of a class\n",
        "print(emp.__salary)\n",
        "```\n",
        "In the above example, we create a class called Employee. Within that class, we declare two variables name and `__salary`. We can observe that the name variable is accessible, but `__salary` is the private variable. We cannot access it from outside of class. If we try to access it, we will get an error"
      ],
      "metadata": {
        "id": "PLM3z4xm7uB8"
      }
    },
    {
      "cell_type": "markdown",
      "source": [
        "Access modifiers limit access to the variables and methods of a class. Python provides three types of access modifiers private, public, and protected.\n",
        "1. **Public Member:** Accessible anywhere from otside oclass.\n",
        "2. **Private Member:** Accessible within the class\n",
        "3. **Protected Member:** Accessible within the class and its sub-classes\n",
        "\n",
        "**Name Mangling to access private members**\n",
        "\n",
        "We can directly access private and protected variables from outside of a class through name mangling. The name mangling is created on an identifier by adding two leading underscores and one trailing underscore, like this _classname__dataMember, where classname is the current class, and data member is the private variable name.\n",
        "```\n",
        "class Employee:\n",
        "    # constructor\n",
        "    def __init__(self, name, salary):\n",
        "        # public data member\n",
        "        self.name = name\n",
        "        # private member\n",
        "        self.__salary = salary\n",
        "\n",
        "# creating object of a class\n",
        "emp = Employee('Jessa', 10000)\n",
        "\n",
        "print('Name:', emp.name)\n",
        "# direct access to private member using name mangling\n",
        "print('Salary:', emp._Employee__salary)\n",
        "```"
      ],
      "metadata": {
        "id": "sk2JZJIAA0G7"
      }
    },
    {
      "cell_type": "markdown",
      "source": [
        "**Getters and Setters in Python**\n",
        "\n",
        "To implement proper encapsulation in Python, we need to use setters and getters. The primary purpose of using getters and setters in object-oriented programs is to ensure data encapsulation. Use the getter method to access data members and the setter methods to modify the data members.\n",
        "\n",
        "In Python, private variables are not hidden fields like in other programming languages. The getters and setters methods are often used when:\n",
        "\n",
        "When we want to avoid direct access to private variables\n",
        "To add validation logic for setting a value\n",
        "```\n",
        "class Student:\n",
        "    def __init__(self, name, age):\n",
        "        # private member\n",
        "        self.name = name\n",
        "        self.__age = age\n",
        "\n",
        "    # getter method\n",
        "    def get_age(self):\n",
        "        return self.__age\n",
        "\n",
        "    # setter method\n",
        "    def set_age(self, age):\n",
        "        self.__age = age\n",
        "\n",
        "stud = Student('Jessa', 14)\n",
        "\n",
        "# retrieving age using getter\n",
        "print('Name:', stud.name, stud.get_age())\n",
        "\n",
        "# changing age using setter\n",
        "stud.set_age(16)\n",
        "\n",
        "# retrieving age using getter\n",
        "print('Name:', stud.name, stud.get_age())\n",
        "```"
      ],
      "metadata": {
        "id": "G1nSVB_6BmJi"
      }
    },
    {
      "cell_type": "markdown",
      "source": [
        "## Advantages of Encapsulation\n",
        "Security: The main advantage of using encapsulation is the security of the data. Encapsulation protects an object from unauthorized access. It allows private and protected access levels to prevent accidental data modification.\n",
        "\n",
        "Data Hiding: The user would not be knowing what is going on behind the scene. They would only be knowing that to modify a data member, call the setter method. To read a data member, call the getter method. What these setter and getter methods are doing is hidden from them.\n",
        "\n",
        "Simplicity: It simplifies the maintenance of the application by keeping classes separated and preventing them from tightly coupling with each other.\n",
        "\n",
        "Aesthetics: Bundling data and methods within a class makes code more readable and maintainable"
      ],
      "metadata": {
        "id": "IPvUBYziB7VA"
      }
    },
    {
      "cell_type": "markdown",
      "source": [
        "# Polymorphism in Python\n",
        "Polymorphism in OOP is the ability of an object to take many forms. In simple words, polymorphism allows us to perform the same action in many different ways.\n",
        "\n",
        "Polymorphism with class methods is useful when we want objects to perform the same action in different ways. In the below example, both objects calculate the area (same action) but in a different way (different formulas)\n",
        "```\n",
        "class Circle:\n",
        "    pi = 3.14\n",
        "\n",
        "    def __init__(self, redius):\n",
        "        self.radius = redius\n",
        "\n",
        "    def calculate_area(self):\n",
        "        print(\"Area of circle :\", self.pi * self.radius * self.radius)\n",
        "\n",
        "class Rectangle:\n",
        "    def __init__(self, length, width):\n",
        "        self.length = length\n",
        "        self.width = width\n",
        "\n",
        "    def calculate_area(self):\n",
        "        print(\"Area of Rectangle :\", self.length * self.width)\n",
        "\n",
        "# function\n",
        "def area(shape):\n",
        "    # call action\n",
        "    shape.calculate_area()\n",
        "\n",
        "# create object\n",
        "cir = Circle(5)\n",
        "rect = Rectangle(10, 5)\n",
        "\n",
        "# call common function\n",
        "area(cir)\n",
        "area(rect)\n",
        "```\n",
        "\n"
      ],
      "metadata": {
        "id": "-0Q8C9nXCQsR"
      }
    },
    {
      "cell_type": "code",
      "source": [],
      "metadata": {
        "id": "HHwoa-6G7xw3"
      },
      "execution_count": null,
      "outputs": []
    }
  ]
}